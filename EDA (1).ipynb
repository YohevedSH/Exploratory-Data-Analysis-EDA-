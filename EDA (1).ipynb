{
 "cells": [
  {
   "cell_type": "markdown",
   "metadata": {},
   "source": [
    "# Research on car sales ads\n",
    "\n",
    "You're an analyst at Crankshaft List. Hundreds of free advertisements for vehicles are published on your site every day.\n",
    "\n",
    "You need to study data collected over the last few years and determine which factors influence the price of a vehicle. "
   ]
  },
  {
   "cell_type": "markdown",
   "metadata": {},
   "source": [
    "## Introduction\n",
    "### Project Description:\n",
    "We received data from the website for free advertisements of vehicles. Our goal is to study the data and make conclusion about which factors influence the price of a vehicle.\n",
    "\n",
    "### Project stages:\n",
    "1. Opening the data file and study the information about data\n",
    "2. Data preprocessing, working with missing values and data types\n",
    "3. Calculating all metrics we need for analyse.\n",
    "4. Carrying out the Exploratory Data Analysis\n",
    "5. Overall conclusion\n",
    "\n",
    "### Dataset Description:\n",
    "The dataset contains the following fields:\n",
    " -  price\n",
    " -  model_year\n",
    " -  model\n",
    " -  condition\n",
    " -  cylinders\n",
    " -  fuel — gas, diesel, etc.\n",
    " -  odometer — the vehicle's mileage when the ad was published\n",
    " -  transmission\n",
    " -  paint_color\n",
    " -  is_4wd — whether the vehicle has 4-wheel drive (Boolean type)\n",
    " -  date_posted — the date the ad was published\n",
    " -  days_listed — from publication to removal"
   ]
  },
  {
   "cell_type": "markdown",
   "metadata": {},
   "source": [
    "## Open the data file and study the general information. "
   ]
  },
  {
   "cell_type": "code",
   "execution_count": 1,
   "metadata": {},
   "outputs": [],
   "source": [
    "import pandas as pd\n",
    "import matplotlib.pyplot as plt\n",
    "import seaborn as sn"
   ]
  },
  {
   "cell_type": "code",
   "execution_count": 2,
   "metadata": {
    "scrolled": true
   },
   "outputs": [
    {
     "data": {
      "text/html": [
       "<div>\n",
       "<style scoped>\n",
       "    .dataframe tbody tr th:only-of-type {\n",
       "        vertical-align: middle;\n",
       "    }\n",
       "\n",
       "    .dataframe tbody tr th {\n",
       "        vertical-align: top;\n",
       "    }\n",
       "\n",
       "    .dataframe thead th {\n",
       "        text-align: right;\n",
       "    }\n",
       "</style>\n",
       "<table border=\"1\" class=\"dataframe\">\n",
       "  <thead>\n",
       "    <tr style=\"text-align: right;\">\n",
       "      <th></th>\n",
       "      <th>price</th>\n",
       "      <th>model_year</th>\n",
       "      <th>model</th>\n",
       "      <th>condition</th>\n",
       "      <th>cylinders</th>\n",
       "      <th>fuel</th>\n",
       "      <th>odometer</th>\n",
       "      <th>transmission</th>\n",
       "      <th>type</th>\n",
       "      <th>paint_color</th>\n",
       "      <th>is_4wd</th>\n",
       "      <th>date_posted</th>\n",
       "      <th>days_listed</th>\n",
       "    </tr>\n",
       "  </thead>\n",
       "  <tbody>\n",
       "    <tr>\n",
       "      <td>0</td>\n",
       "      <td>9400</td>\n",
       "      <td>2011.0</td>\n",
       "      <td>bmw x5</td>\n",
       "      <td>good</td>\n",
       "      <td>6.0</td>\n",
       "      <td>gas</td>\n",
       "      <td>145000.0</td>\n",
       "      <td>automatic</td>\n",
       "      <td>SUV</td>\n",
       "      <td>NaN</td>\n",
       "      <td>1.0</td>\n",
       "      <td>2018-06-23</td>\n",
       "      <td>19</td>\n",
       "    </tr>\n",
       "    <tr>\n",
       "      <td>1</td>\n",
       "      <td>25500</td>\n",
       "      <td>NaN</td>\n",
       "      <td>ford f-150</td>\n",
       "      <td>good</td>\n",
       "      <td>6.0</td>\n",
       "      <td>gas</td>\n",
       "      <td>88705.0</td>\n",
       "      <td>automatic</td>\n",
       "      <td>pickup</td>\n",
       "      <td>white</td>\n",
       "      <td>1.0</td>\n",
       "      <td>2018-10-19</td>\n",
       "      <td>50</td>\n",
       "    </tr>\n",
       "    <tr>\n",
       "      <td>2</td>\n",
       "      <td>5500</td>\n",
       "      <td>2013.0</td>\n",
       "      <td>hyundai sonata</td>\n",
       "      <td>like new</td>\n",
       "      <td>4.0</td>\n",
       "      <td>gas</td>\n",
       "      <td>110000.0</td>\n",
       "      <td>automatic</td>\n",
       "      <td>sedan</td>\n",
       "      <td>red</td>\n",
       "      <td>NaN</td>\n",
       "      <td>2019-02-07</td>\n",
       "      <td>79</td>\n",
       "    </tr>\n",
       "    <tr>\n",
       "      <td>3</td>\n",
       "      <td>1500</td>\n",
       "      <td>2003.0</td>\n",
       "      <td>ford f-150</td>\n",
       "      <td>fair</td>\n",
       "      <td>8.0</td>\n",
       "      <td>gas</td>\n",
       "      <td>NaN</td>\n",
       "      <td>automatic</td>\n",
       "      <td>pickup</td>\n",
       "      <td>NaN</td>\n",
       "      <td>NaN</td>\n",
       "      <td>2019-03-22</td>\n",
       "      <td>9</td>\n",
       "    </tr>\n",
       "    <tr>\n",
       "      <td>4</td>\n",
       "      <td>14900</td>\n",
       "      <td>2017.0</td>\n",
       "      <td>chrysler 200</td>\n",
       "      <td>excellent</td>\n",
       "      <td>4.0</td>\n",
       "      <td>gas</td>\n",
       "      <td>80903.0</td>\n",
       "      <td>automatic</td>\n",
       "      <td>sedan</td>\n",
       "      <td>black</td>\n",
       "      <td>NaN</td>\n",
       "      <td>2019-04-02</td>\n",
       "      <td>28</td>\n",
       "    </tr>\n",
       "    <tr>\n",
       "      <td>5</td>\n",
       "      <td>14990</td>\n",
       "      <td>2014.0</td>\n",
       "      <td>chrysler 300</td>\n",
       "      <td>excellent</td>\n",
       "      <td>6.0</td>\n",
       "      <td>gas</td>\n",
       "      <td>57954.0</td>\n",
       "      <td>automatic</td>\n",
       "      <td>sedan</td>\n",
       "      <td>black</td>\n",
       "      <td>1.0</td>\n",
       "      <td>2018-06-20</td>\n",
       "      <td>15</td>\n",
       "    </tr>\n",
       "    <tr>\n",
       "      <td>6</td>\n",
       "      <td>12990</td>\n",
       "      <td>2015.0</td>\n",
       "      <td>toyota camry</td>\n",
       "      <td>excellent</td>\n",
       "      <td>4.0</td>\n",
       "      <td>gas</td>\n",
       "      <td>79212.0</td>\n",
       "      <td>automatic</td>\n",
       "      <td>sedan</td>\n",
       "      <td>white</td>\n",
       "      <td>NaN</td>\n",
       "      <td>2018-12-27</td>\n",
       "      <td>73</td>\n",
       "    </tr>\n",
       "    <tr>\n",
       "      <td>7</td>\n",
       "      <td>15990</td>\n",
       "      <td>2013.0</td>\n",
       "      <td>honda pilot</td>\n",
       "      <td>excellent</td>\n",
       "      <td>6.0</td>\n",
       "      <td>gas</td>\n",
       "      <td>109473.0</td>\n",
       "      <td>automatic</td>\n",
       "      <td>SUV</td>\n",
       "      <td>black</td>\n",
       "      <td>1.0</td>\n",
       "      <td>2019-01-07</td>\n",
       "      <td>68</td>\n",
       "    </tr>\n",
       "    <tr>\n",
       "      <td>8</td>\n",
       "      <td>11500</td>\n",
       "      <td>2012.0</td>\n",
       "      <td>kia sorento</td>\n",
       "      <td>excellent</td>\n",
       "      <td>4.0</td>\n",
       "      <td>gas</td>\n",
       "      <td>104174.0</td>\n",
       "      <td>automatic</td>\n",
       "      <td>SUV</td>\n",
       "      <td>NaN</td>\n",
       "      <td>1.0</td>\n",
       "      <td>2018-07-16</td>\n",
       "      <td>19</td>\n",
       "    </tr>\n",
       "    <tr>\n",
       "      <td>9</td>\n",
       "      <td>9200</td>\n",
       "      <td>2008.0</td>\n",
       "      <td>honda pilot</td>\n",
       "      <td>excellent</td>\n",
       "      <td>NaN</td>\n",
       "      <td>gas</td>\n",
       "      <td>147191.0</td>\n",
       "      <td>automatic</td>\n",
       "      <td>SUV</td>\n",
       "      <td>blue</td>\n",
       "      <td>1.0</td>\n",
       "      <td>2019-02-15</td>\n",
       "      <td>17</td>\n",
       "    </tr>\n",
       "  </tbody>\n",
       "</table>\n",
       "</div>"
      ],
      "text/plain": [
       "   price  model_year           model  condition  cylinders fuel  odometer  \\\n",
       "0   9400      2011.0          bmw x5       good        6.0  gas  145000.0   \n",
       "1  25500         NaN      ford f-150       good        6.0  gas   88705.0   \n",
       "2   5500      2013.0  hyundai sonata   like new        4.0  gas  110000.0   \n",
       "3   1500      2003.0      ford f-150       fair        8.0  gas       NaN   \n",
       "4  14900      2017.0    chrysler 200  excellent        4.0  gas   80903.0   \n",
       "5  14990      2014.0    chrysler 300  excellent        6.0  gas   57954.0   \n",
       "6  12990      2015.0    toyota camry  excellent        4.0  gas   79212.0   \n",
       "7  15990      2013.0     honda pilot  excellent        6.0  gas  109473.0   \n",
       "8  11500      2012.0     kia sorento  excellent        4.0  gas  104174.0   \n",
       "9   9200      2008.0     honda pilot  excellent        NaN  gas  147191.0   \n",
       "\n",
       "  transmission    type paint_color  is_4wd date_posted  days_listed  \n",
       "0    automatic     SUV         NaN     1.0  2018-06-23           19  \n",
       "1    automatic  pickup       white     1.0  2018-10-19           50  \n",
       "2    automatic   sedan         red     NaN  2019-02-07           79  \n",
       "3    automatic  pickup         NaN     NaN  2019-03-22            9  \n",
       "4    automatic   sedan       black     NaN  2019-04-02           28  \n",
       "5    automatic   sedan       black     1.0  2018-06-20           15  \n",
       "6    automatic   sedan       white     NaN  2018-12-27           73  \n",
       "7    automatic     SUV       black     1.0  2019-01-07           68  \n",
       "8    automatic     SUV         NaN     1.0  2018-07-16           19  \n",
       "9    automatic     SUV        blue     1.0  2019-02-15           17  "
      ]
     },
     "execution_count": 2,
     "metadata": {},
     "output_type": "execute_result"
    }
   ],
   "source": [
    "try:\n",
    "    data = pd.read_csv('/Users/yoheved/Desktop/Study/vehicles_us.csv')\n",
    "except:\n",
    "    data = pd.read_csv('/datasets/vehicles_us.csv')\n",
    "data.head(10)"
   ]
  },
  {
   "cell_type": "code",
   "execution_count": 3,
   "metadata": {},
   "outputs": [
    {
     "data": {
      "text/html": [
       "<div>\n",
       "<style scoped>\n",
       "    .dataframe tbody tr th:only-of-type {\n",
       "        vertical-align: middle;\n",
       "    }\n",
       "\n",
       "    .dataframe tbody tr th {\n",
       "        vertical-align: top;\n",
       "    }\n",
       "\n",
       "    .dataframe thead th {\n",
       "        text-align: right;\n",
       "    }\n",
       "</style>\n",
       "<table border=\"1\" class=\"dataframe\">\n",
       "  <thead>\n",
       "    <tr style=\"text-align: right;\">\n",
       "      <th></th>\n",
       "      <th>price</th>\n",
       "      <th>model_year</th>\n",
       "      <th>model</th>\n",
       "      <th>condition</th>\n",
       "      <th>cylinders</th>\n",
       "      <th>fuel</th>\n",
       "      <th>odometer</th>\n",
       "      <th>transmission</th>\n",
       "      <th>type</th>\n",
       "      <th>paint_color</th>\n",
       "      <th>is_4wd</th>\n",
       "      <th>date_posted</th>\n",
       "      <th>days_listed</th>\n",
       "    </tr>\n",
       "  </thead>\n",
       "  <tbody>\n",
       "    <tr>\n",
       "      <td>51515</td>\n",
       "      <td>12000</td>\n",
       "      <td>2005.0</td>\n",
       "      <td>chevrolet silverado 2500hd</td>\n",
       "      <td>good</td>\n",
       "      <td>8.0</td>\n",
       "      <td>diesel</td>\n",
       "      <td>228000.0</td>\n",
       "      <td>automatic</td>\n",
       "      <td>pickup</td>\n",
       "      <td>silver</td>\n",
       "      <td>1.0</td>\n",
       "      <td>2018-08-18</td>\n",
       "      <td>52</td>\n",
       "    </tr>\n",
       "    <tr>\n",
       "      <td>51516</td>\n",
       "      <td>8999</td>\n",
       "      <td>2011.0</td>\n",
       "      <td>jeep grand cherokee</td>\n",
       "      <td>good</td>\n",
       "      <td>6.0</td>\n",
       "      <td>gas</td>\n",
       "      <td>NaN</td>\n",
       "      <td>automatic</td>\n",
       "      <td>SUV</td>\n",
       "      <td>white</td>\n",
       "      <td>1.0</td>\n",
       "      <td>2018-11-01</td>\n",
       "      <td>51</td>\n",
       "    </tr>\n",
       "    <tr>\n",
       "      <td>51517</td>\n",
       "      <td>11000</td>\n",
       "      <td>2012.0</td>\n",
       "      <td>dodge charger</td>\n",
       "      <td>excellent</td>\n",
       "      <td>8.0</td>\n",
       "      <td>gas</td>\n",
       "      <td>81000.0</td>\n",
       "      <td>automatic</td>\n",
       "      <td>sedan</td>\n",
       "      <td>black</td>\n",
       "      <td>NaN</td>\n",
       "      <td>2019-04-19</td>\n",
       "      <td>44</td>\n",
       "    </tr>\n",
       "    <tr>\n",
       "      <td>51518</td>\n",
       "      <td>3750</td>\n",
       "      <td>2005.0</td>\n",
       "      <td>ford taurus</td>\n",
       "      <td>excellent</td>\n",
       "      <td>6.0</td>\n",
       "      <td>gas</td>\n",
       "      <td>110200.0</td>\n",
       "      <td>automatic</td>\n",
       "      <td>sedan</td>\n",
       "      <td>silver</td>\n",
       "      <td>NaN</td>\n",
       "      <td>2018-08-10</td>\n",
       "      <td>63</td>\n",
       "    </tr>\n",
       "    <tr>\n",
       "      <td>51519</td>\n",
       "      <td>11750</td>\n",
       "      <td>2015.0</td>\n",
       "      <td>honda accord</td>\n",
       "      <td>excellent</td>\n",
       "      <td>4.0</td>\n",
       "      <td>gas</td>\n",
       "      <td>NaN</td>\n",
       "      <td>automatic</td>\n",
       "      <td>coupe</td>\n",
       "      <td>NaN</td>\n",
       "      <td>NaN</td>\n",
       "      <td>2018-11-24</td>\n",
       "      <td>89</td>\n",
       "    </tr>\n",
       "    <tr>\n",
       "      <td>51520</td>\n",
       "      <td>9249</td>\n",
       "      <td>2013.0</td>\n",
       "      <td>nissan maxima</td>\n",
       "      <td>like new</td>\n",
       "      <td>6.0</td>\n",
       "      <td>gas</td>\n",
       "      <td>88136.0</td>\n",
       "      <td>automatic</td>\n",
       "      <td>sedan</td>\n",
       "      <td>black</td>\n",
       "      <td>NaN</td>\n",
       "      <td>2018-10-03</td>\n",
       "      <td>37</td>\n",
       "    </tr>\n",
       "    <tr>\n",
       "      <td>51521</td>\n",
       "      <td>2700</td>\n",
       "      <td>2002.0</td>\n",
       "      <td>honda civic</td>\n",
       "      <td>salvage</td>\n",
       "      <td>4.0</td>\n",
       "      <td>gas</td>\n",
       "      <td>181500.0</td>\n",
       "      <td>automatic</td>\n",
       "      <td>sedan</td>\n",
       "      <td>white</td>\n",
       "      <td>NaN</td>\n",
       "      <td>2018-11-14</td>\n",
       "      <td>22</td>\n",
       "    </tr>\n",
       "    <tr>\n",
       "      <td>51522</td>\n",
       "      <td>3950</td>\n",
       "      <td>2009.0</td>\n",
       "      <td>hyundai sonata</td>\n",
       "      <td>excellent</td>\n",
       "      <td>4.0</td>\n",
       "      <td>gas</td>\n",
       "      <td>128000.0</td>\n",
       "      <td>automatic</td>\n",
       "      <td>sedan</td>\n",
       "      <td>blue</td>\n",
       "      <td>NaN</td>\n",
       "      <td>2018-11-15</td>\n",
       "      <td>32</td>\n",
       "    </tr>\n",
       "    <tr>\n",
       "      <td>51523</td>\n",
       "      <td>7455</td>\n",
       "      <td>2013.0</td>\n",
       "      <td>toyota corolla</td>\n",
       "      <td>good</td>\n",
       "      <td>4.0</td>\n",
       "      <td>gas</td>\n",
       "      <td>139573.0</td>\n",
       "      <td>automatic</td>\n",
       "      <td>sedan</td>\n",
       "      <td>black</td>\n",
       "      <td>NaN</td>\n",
       "      <td>2018-07-02</td>\n",
       "      <td>71</td>\n",
       "    </tr>\n",
       "    <tr>\n",
       "      <td>51524</td>\n",
       "      <td>6300</td>\n",
       "      <td>2014.0</td>\n",
       "      <td>nissan altima</td>\n",
       "      <td>good</td>\n",
       "      <td>4.0</td>\n",
       "      <td>gas</td>\n",
       "      <td>NaN</td>\n",
       "      <td>automatic</td>\n",
       "      <td>sedan</td>\n",
       "      <td>NaN</td>\n",
       "      <td>NaN</td>\n",
       "      <td>2018-06-05</td>\n",
       "      <td>10</td>\n",
       "    </tr>\n",
       "  </tbody>\n",
       "</table>\n",
       "</div>"
      ],
      "text/plain": [
       "       price  model_year                       model  condition  cylinders  \\\n",
       "51515  12000      2005.0  chevrolet silverado 2500hd       good        8.0   \n",
       "51516   8999      2011.0         jeep grand cherokee       good        6.0   \n",
       "51517  11000      2012.0               dodge charger  excellent        8.0   \n",
       "51518   3750      2005.0                 ford taurus  excellent        6.0   \n",
       "51519  11750      2015.0                honda accord  excellent        4.0   \n",
       "51520   9249      2013.0               nissan maxima   like new        6.0   \n",
       "51521   2700      2002.0                 honda civic    salvage        4.0   \n",
       "51522   3950      2009.0              hyundai sonata  excellent        4.0   \n",
       "51523   7455      2013.0              toyota corolla       good        4.0   \n",
       "51524   6300      2014.0               nissan altima       good        4.0   \n",
       "\n",
       "         fuel  odometer transmission    type paint_color  is_4wd date_posted  \\\n",
       "51515  diesel  228000.0    automatic  pickup      silver     1.0  2018-08-18   \n",
       "51516     gas       NaN    automatic     SUV       white     1.0  2018-11-01   \n",
       "51517     gas   81000.0    automatic   sedan       black     NaN  2019-04-19   \n",
       "51518     gas  110200.0    automatic   sedan      silver     NaN  2018-08-10   \n",
       "51519     gas       NaN    automatic   coupe         NaN     NaN  2018-11-24   \n",
       "51520     gas   88136.0    automatic   sedan       black     NaN  2018-10-03   \n",
       "51521     gas  181500.0    automatic   sedan       white     NaN  2018-11-14   \n",
       "51522     gas  128000.0    automatic   sedan        blue     NaN  2018-11-15   \n",
       "51523     gas  139573.0    automatic   sedan       black     NaN  2018-07-02   \n",
       "51524     gas       NaN    automatic   sedan         NaN     NaN  2018-06-05   \n",
       "\n",
       "       days_listed  \n",
       "51515           52  \n",
       "51516           51  \n",
       "51517           44  \n",
       "51518           63  \n",
       "51519           89  \n",
       "51520           37  \n",
       "51521           22  \n",
       "51522           32  \n",
       "51523           71  \n",
       "51524           10  "
      ]
     },
     "execution_count": 3,
     "metadata": {},
     "output_type": "execute_result"
    }
   ],
   "source": [
    "data.tail(10)"
   ]
  },
  {
   "cell_type": "code",
   "execution_count": 4,
   "metadata": {},
   "outputs": [
    {
     "name": "stdout",
     "output_type": "stream",
     "text": [
      "<class 'pandas.core.frame.DataFrame'>\n",
      "RangeIndex: 51525 entries, 0 to 51524\n",
      "Data columns (total 13 columns):\n",
      "price           51525 non-null int64\n",
      "model_year      47906 non-null float64\n",
      "model           51525 non-null object\n",
      "condition       51525 non-null object\n",
      "cylinders       46265 non-null float64\n",
      "fuel            51525 non-null object\n",
      "odometer        43633 non-null float64\n",
      "transmission    51525 non-null object\n",
      "type            51525 non-null object\n",
      "paint_color     42258 non-null object\n",
      "is_4wd          25572 non-null float64\n",
      "date_posted     51525 non-null object\n",
      "days_listed     51525 non-null int64\n",
      "dtypes: float64(4), int64(2), object(7)\n",
      "memory usage: 5.1+ MB\n"
     ]
    }
   ],
   "source": [
    "data.info()"
   ]
  },
  {
   "cell_type": "code",
   "execution_count": 5,
   "metadata": {},
   "outputs": [
    {
     "data": {
      "text/html": [
       "<div>\n",
       "<style scoped>\n",
       "    .dataframe tbody tr th:only-of-type {\n",
       "        vertical-align: middle;\n",
       "    }\n",
       "\n",
       "    .dataframe tbody tr th {\n",
       "        vertical-align: top;\n",
       "    }\n",
       "\n",
       "    .dataframe thead th {\n",
       "        text-align: right;\n",
       "    }\n",
       "</style>\n",
       "<table border=\"1\" class=\"dataframe\">\n",
       "  <thead>\n",
       "    <tr style=\"text-align: right;\">\n",
       "      <th></th>\n",
       "      <th>price</th>\n",
       "      <th>model_year</th>\n",
       "      <th>cylinders</th>\n",
       "      <th>odometer</th>\n",
       "      <th>is_4wd</th>\n",
       "      <th>days_listed</th>\n",
       "    </tr>\n",
       "  </thead>\n",
       "  <tbody>\n",
       "    <tr>\n",
       "      <td>count</td>\n",
       "      <td>51525.000000</td>\n",
       "      <td>47906.000000</td>\n",
       "      <td>46265.000000</td>\n",
       "      <td>43633.000000</td>\n",
       "      <td>25572.0</td>\n",
       "      <td>51525.00000</td>\n",
       "    </tr>\n",
       "    <tr>\n",
       "      <td>mean</td>\n",
       "      <td>12132.464920</td>\n",
       "      <td>2009.750470</td>\n",
       "      <td>6.125235</td>\n",
       "      <td>115553.461738</td>\n",
       "      <td>1.0</td>\n",
       "      <td>39.55476</td>\n",
       "    </tr>\n",
       "    <tr>\n",
       "      <td>std</td>\n",
       "      <td>10040.803015</td>\n",
       "      <td>6.282065</td>\n",
       "      <td>1.660360</td>\n",
       "      <td>65094.611341</td>\n",
       "      <td>0.0</td>\n",
       "      <td>28.20427</td>\n",
       "    </tr>\n",
       "    <tr>\n",
       "      <td>min</td>\n",
       "      <td>1.000000</td>\n",
       "      <td>1908.000000</td>\n",
       "      <td>3.000000</td>\n",
       "      <td>0.000000</td>\n",
       "      <td>1.0</td>\n",
       "      <td>0.00000</td>\n",
       "    </tr>\n",
       "    <tr>\n",
       "      <td>25%</td>\n",
       "      <td>5000.000000</td>\n",
       "      <td>2006.000000</td>\n",
       "      <td>4.000000</td>\n",
       "      <td>70000.000000</td>\n",
       "      <td>1.0</td>\n",
       "      <td>19.00000</td>\n",
       "    </tr>\n",
       "    <tr>\n",
       "      <td>50%</td>\n",
       "      <td>9000.000000</td>\n",
       "      <td>2011.000000</td>\n",
       "      <td>6.000000</td>\n",
       "      <td>113000.000000</td>\n",
       "      <td>1.0</td>\n",
       "      <td>33.00000</td>\n",
       "    </tr>\n",
       "    <tr>\n",
       "      <td>75%</td>\n",
       "      <td>16839.000000</td>\n",
       "      <td>2014.000000</td>\n",
       "      <td>8.000000</td>\n",
       "      <td>155000.000000</td>\n",
       "      <td>1.0</td>\n",
       "      <td>53.00000</td>\n",
       "    </tr>\n",
       "    <tr>\n",
       "      <td>max</td>\n",
       "      <td>375000.000000</td>\n",
       "      <td>2019.000000</td>\n",
       "      <td>12.000000</td>\n",
       "      <td>990000.000000</td>\n",
       "      <td>1.0</td>\n",
       "      <td>271.00000</td>\n",
       "    </tr>\n",
       "  </tbody>\n",
       "</table>\n",
       "</div>"
      ],
      "text/plain": [
       "               price    model_year     cylinders       odometer   is_4wd  \\\n",
       "count   51525.000000  47906.000000  46265.000000   43633.000000  25572.0   \n",
       "mean    12132.464920   2009.750470      6.125235  115553.461738      1.0   \n",
       "std     10040.803015      6.282065      1.660360   65094.611341      0.0   \n",
       "min         1.000000   1908.000000      3.000000       0.000000      1.0   \n",
       "25%      5000.000000   2006.000000      4.000000   70000.000000      1.0   \n",
       "50%      9000.000000   2011.000000      6.000000  113000.000000      1.0   \n",
       "75%     16839.000000   2014.000000      8.000000  155000.000000      1.0   \n",
       "max    375000.000000   2019.000000     12.000000  990000.000000      1.0   \n",
       "\n",
       "       days_listed  \n",
       "count  51525.00000  \n",
       "mean      39.55476  \n",
       "std       28.20427  \n",
       "min        0.00000  \n",
       "25%       19.00000  \n",
       "50%       33.00000  \n",
       "75%       53.00000  \n",
       "max      271.00000  "
      ]
     },
     "execution_count": 5,
     "metadata": {},
     "output_type": "execute_result"
    }
   ],
   "source": [
    "data.describe()"
   ]
  },
  {
   "cell_type": "markdown",
   "metadata": {},
   "source": [
    "### Conclusion"
   ]
  },
  {
   "cell_type": "markdown",
   "metadata": {},
   "source": [
    "We have the dataset with 51525 rows and 13 columns. The types of data are: float64 - 4 columns, int64 - 2 columns and objext - 7 columns. From the info I see missing values in columns model_year, cylinders, odometr, paint_color and the most in columns is_4wd. Need to look closer and understand why we may have missing values there and what the best we can do with them. Also I see the it will be better to convert column model_year to the int64 type, since float is not looking good for the table. And I can work with date_posted to bring it to the better view."
   ]
  },
  {
   "cell_type": "markdown",
   "metadata": {},
   "source": [
    "## Data preprocessing"
   ]
  },
  {
   "cell_type": "markdown",
   "metadata": {},
   "source": [
    "### To do list\n",
    "— Identify and study missing values:\n",
    "In some cases there's an obvious way to replace missing values. For instance, if a Boolean field contains only True values, it's reasonable to assume that the missing values are False. There aren't such obvious fixes for other data types, and there are cases when the fact that a value is missing is significant. In such instances, don't fill in the values.\n",
    "When appropriate, do fill in the values. Explain why you chose to do so and how you selected the replacement values.\n",
    "Describe the factors that may have resulted in missing values.\n",
    "— Convert the data to the required types:\n",
    "Indicate the columns where the data types need to be changed and explain why."
   ]
  },
  {
   "cell_type": "code",
   "execution_count": 6,
   "metadata": {},
   "outputs": [
    {
     "data": {
      "text/plain": [
       "price               0\n",
       "model_year       3619\n",
       "model               0\n",
       "condition           0\n",
       "cylinders        5260\n",
       "fuel                0\n",
       "odometer         7892\n",
       "transmission        0\n",
       "type                0\n",
       "paint_color      9267\n",
       "is_4wd          25953\n",
       "date_posted         0\n",
       "days_listed         0\n",
       "dtype: int64"
      ]
     },
     "execution_count": 6,
     "metadata": {},
     "output_type": "execute_result"
    }
   ],
   "source": [
    "data.isnull().sum()"
   ]
  },
  {
   "cell_type": "code",
   "execution_count": 7,
   "metadata": {},
   "outputs": [
    {
     "data": {
      "text/plain": [
       "price            0.000000\n",
       "model_year       7.023775\n",
       "model            0.000000\n",
       "condition        0.000000\n",
       "cylinders       10.208637\n",
       "fuel             0.000000\n",
       "odometer        15.316836\n",
       "transmission     0.000000\n",
       "type             0.000000\n",
       "paint_color     17.985444\n",
       "is_4wd          50.369723\n",
       "date_posted      0.000000\n",
       "days_listed      0.000000\n",
       "dtype: float64"
      ]
     },
     "execution_count": 7,
     "metadata": {},
     "output_type": "execute_result"
    }
   ],
   "source": [
    "data.isna().sum() * 100 / len(data)"
   ]
  },
  {
   "cell_type": "code",
   "execution_count": 8,
   "metadata": {},
   "outputs": [],
   "source": [
    "data['model_year'] = data['model_year'].fillna(data['model_year'].median().astype('int'))"
   ]
  },
  {
   "cell_type": "code",
   "execution_count": 9,
   "metadata": {},
   "outputs": [
    {
     "data": {
      "text/html": [
       "<div>\n",
       "<style scoped>\n",
       "    .dataframe tbody tr th:only-of-type {\n",
       "        vertical-align: middle;\n",
       "    }\n",
       "\n",
       "    .dataframe tbody tr th {\n",
       "        vertical-align: top;\n",
       "    }\n",
       "\n",
       "    .dataframe thead th {\n",
       "        text-align: right;\n",
       "    }\n",
       "</style>\n",
       "<table border=\"1\" class=\"dataframe\">\n",
       "  <thead>\n",
       "    <tr style=\"text-align: right;\">\n",
       "      <th></th>\n",
       "      <th>price</th>\n",
       "      <th>model_year</th>\n",
       "      <th>model</th>\n",
       "      <th>condition</th>\n",
       "      <th>cylinders</th>\n",
       "      <th>fuel</th>\n",
       "      <th>odometer</th>\n",
       "      <th>transmission</th>\n",
       "      <th>type</th>\n",
       "      <th>paint_color</th>\n",
       "      <th>is_4wd</th>\n",
       "      <th>date_posted</th>\n",
       "      <th>days_listed</th>\n",
       "    </tr>\n",
       "  </thead>\n",
       "  <tbody>\n",
       "    <tr>\n",
       "      <td>0</td>\n",
       "      <td>9400</td>\n",
       "      <td>2011.0</td>\n",
       "      <td>bmw x5</td>\n",
       "      <td>good</td>\n",
       "      <td>6.0</td>\n",
       "      <td>gas</td>\n",
       "      <td>145000.0</td>\n",
       "      <td>automatic</td>\n",
       "      <td>SUV</td>\n",
       "      <td>NaN</td>\n",
       "      <td>1.0</td>\n",
       "      <td>2018-06-23</td>\n",
       "      <td>19</td>\n",
       "    </tr>\n",
       "    <tr>\n",
       "      <td>1</td>\n",
       "      <td>25500</td>\n",
       "      <td>2011.0</td>\n",
       "      <td>ford f-150</td>\n",
       "      <td>good</td>\n",
       "      <td>6.0</td>\n",
       "      <td>gas</td>\n",
       "      <td>88705.0</td>\n",
       "      <td>automatic</td>\n",
       "      <td>pickup</td>\n",
       "      <td>white</td>\n",
       "      <td>1.0</td>\n",
       "      <td>2018-10-19</td>\n",
       "      <td>50</td>\n",
       "    </tr>\n",
       "    <tr>\n",
       "      <td>2</td>\n",
       "      <td>5500</td>\n",
       "      <td>2013.0</td>\n",
       "      <td>hyundai sonata</td>\n",
       "      <td>like new</td>\n",
       "      <td>4.0</td>\n",
       "      <td>gas</td>\n",
       "      <td>110000.0</td>\n",
       "      <td>automatic</td>\n",
       "      <td>sedan</td>\n",
       "      <td>red</td>\n",
       "      <td>NaN</td>\n",
       "      <td>2019-02-07</td>\n",
       "      <td>79</td>\n",
       "    </tr>\n",
       "    <tr>\n",
       "      <td>3</td>\n",
       "      <td>1500</td>\n",
       "      <td>2003.0</td>\n",
       "      <td>ford f-150</td>\n",
       "      <td>fair</td>\n",
       "      <td>8.0</td>\n",
       "      <td>gas</td>\n",
       "      <td>NaN</td>\n",
       "      <td>automatic</td>\n",
       "      <td>pickup</td>\n",
       "      <td>NaN</td>\n",
       "      <td>NaN</td>\n",
       "      <td>2019-03-22</td>\n",
       "      <td>9</td>\n",
       "    </tr>\n",
       "    <tr>\n",
       "      <td>4</td>\n",
       "      <td>14900</td>\n",
       "      <td>2017.0</td>\n",
       "      <td>chrysler 200</td>\n",
       "      <td>excellent</td>\n",
       "      <td>4.0</td>\n",
       "      <td>gas</td>\n",
       "      <td>80903.0</td>\n",
       "      <td>automatic</td>\n",
       "      <td>sedan</td>\n",
       "      <td>black</td>\n",
       "      <td>NaN</td>\n",
       "      <td>2019-04-02</td>\n",
       "      <td>28</td>\n",
       "    </tr>\n",
       "  </tbody>\n",
       "</table>\n",
       "</div>"
      ],
      "text/plain": [
       "   price  model_year           model  condition  cylinders fuel  odometer  \\\n",
       "0   9400      2011.0          bmw x5       good        6.0  gas  145000.0   \n",
       "1  25500      2011.0      ford f-150       good        6.0  gas   88705.0   \n",
       "2   5500      2013.0  hyundai sonata   like new        4.0  gas  110000.0   \n",
       "3   1500      2003.0      ford f-150       fair        8.0  gas       NaN   \n",
       "4  14900      2017.0    chrysler 200  excellent        4.0  gas   80903.0   \n",
       "\n",
       "  transmission    type paint_color  is_4wd date_posted  days_listed  \n",
       "0    automatic     SUV         NaN     1.0  2018-06-23           19  \n",
       "1    automatic  pickup       white     1.0  2018-10-19           50  \n",
       "2    automatic   sedan         red     NaN  2019-02-07           79  \n",
       "3    automatic  pickup         NaN     NaN  2019-03-22            9  \n",
       "4    automatic   sedan       black     NaN  2019-04-02           28  "
      ]
     },
     "execution_count": 9,
     "metadata": {},
     "output_type": "execute_result"
    }
   ],
   "source": [
    "data.head()"
   ]
  },
  {
   "cell_type": "code",
   "execution_count": 10,
   "metadata": {},
   "outputs": [],
   "source": [
    "data['cylinders'] = data['cylinders'].fillna(data['cylinders'].median())"
   ]
  },
  {
   "cell_type": "code",
   "execution_count": 11,
   "metadata": {},
   "outputs": [],
   "source": [
    "data['cylinders'] = data['cylinders'].astype('int')"
   ]
  },
  {
   "cell_type": "code",
   "execution_count": 12,
   "metadata": {},
   "outputs": [
    {
     "data": {
      "text/html": [
       "<div>\n",
       "<style scoped>\n",
       "    .dataframe tbody tr th:only-of-type {\n",
       "        vertical-align: middle;\n",
       "    }\n",
       "\n",
       "    .dataframe tbody tr th {\n",
       "        vertical-align: top;\n",
       "    }\n",
       "\n",
       "    .dataframe thead th {\n",
       "        text-align: right;\n",
       "    }\n",
       "</style>\n",
       "<table border=\"1\" class=\"dataframe\">\n",
       "  <thead>\n",
       "    <tr style=\"text-align: right;\">\n",
       "      <th></th>\n",
       "      <th>price</th>\n",
       "      <th>model_year</th>\n",
       "      <th>model</th>\n",
       "      <th>condition</th>\n",
       "      <th>cylinders</th>\n",
       "      <th>fuel</th>\n",
       "      <th>odometer</th>\n",
       "      <th>transmission</th>\n",
       "      <th>type</th>\n",
       "      <th>paint_color</th>\n",
       "      <th>is_4wd</th>\n",
       "      <th>date_posted</th>\n",
       "      <th>days_listed</th>\n",
       "    </tr>\n",
       "  </thead>\n",
       "  <tbody>\n",
       "    <tr>\n",
       "      <td>0</td>\n",
       "      <td>9400</td>\n",
       "      <td>2011.0</td>\n",
       "      <td>bmw x5</td>\n",
       "      <td>good</td>\n",
       "      <td>6</td>\n",
       "      <td>gas</td>\n",
       "      <td>145000.0</td>\n",
       "      <td>automatic</td>\n",
       "      <td>SUV</td>\n",
       "      <td>NaN</td>\n",
       "      <td>1.0</td>\n",
       "      <td>2018-06-23</td>\n",
       "      <td>19</td>\n",
       "    </tr>\n",
       "    <tr>\n",
       "      <td>1</td>\n",
       "      <td>25500</td>\n",
       "      <td>2011.0</td>\n",
       "      <td>ford f-150</td>\n",
       "      <td>good</td>\n",
       "      <td>6</td>\n",
       "      <td>gas</td>\n",
       "      <td>88705.0</td>\n",
       "      <td>automatic</td>\n",
       "      <td>pickup</td>\n",
       "      <td>white</td>\n",
       "      <td>1.0</td>\n",
       "      <td>2018-10-19</td>\n",
       "      <td>50</td>\n",
       "    </tr>\n",
       "    <tr>\n",
       "      <td>2</td>\n",
       "      <td>5500</td>\n",
       "      <td>2013.0</td>\n",
       "      <td>hyundai sonata</td>\n",
       "      <td>like new</td>\n",
       "      <td>4</td>\n",
       "      <td>gas</td>\n",
       "      <td>110000.0</td>\n",
       "      <td>automatic</td>\n",
       "      <td>sedan</td>\n",
       "      <td>red</td>\n",
       "      <td>NaN</td>\n",
       "      <td>2019-02-07</td>\n",
       "      <td>79</td>\n",
       "    </tr>\n",
       "    <tr>\n",
       "      <td>3</td>\n",
       "      <td>1500</td>\n",
       "      <td>2003.0</td>\n",
       "      <td>ford f-150</td>\n",
       "      <td>fair</td>\n",
       "      <td>8</td>\n",
       "      <td>gas</td>\n",
       "      <td>NaN</td>\n",
       "      <td>automatic</td>\n",
       "      <td>pickup</td>\n",
       "      <td>NaN</td>\n",
       "      <td>NaN</td>\n",
       "      <td>2019-03-22</td>\n",
       "      <td>9</td>\n",
       "    </tr>\n",
       "    <tr>\n",
       "      <td>4</td>\n",
       "      <td>14900</td>\n",
       "      <td>2017.0</td>\n",
       "      <td>chrysler 200</td>\n",
       "      <td>excellent</td>\n",
       "      <td>4</td>\n",
       "      <td>gas</td>\n",
       "      <td>80903.0</td>\n",
       "      <td>automatic</td>\n",
       "      <td>sedan</td>\n",
       "      <td>black</td>\n",
       "      <td>NaN</td>\n",
       "      <td>2019-04-02</td>\n",
       "      <td>28</td>\n",
       "    </tr>\n",
       "  </tbody>\n",
       "</table>\n",
       "</div>"
      ],
      "text/plain": [
       "   price  model_year           model  condition  cylinders fuel  odometer  \\\n",
       "0   9400      2011.0          bmw x5       good          6  gas  145000.0   \n",
       "1  25500      2011.0      ford f-150       good          6  gas   88705.0   \n",
       "2   5500      2013.0  hyundai sonata   like new          4  gas  110000.0   \n",
       "3   1500      2003.0      ford f-150       fair          8  gas       NaN   \n",
       "4  14900      2017.0    chrysler 200  excellent          4  gas   80903.0   \n",
       "\n",
       "  transmission    type paint_color  is_4wd date_posted  days_listed  \n",
       "0    automatic     SUV         NaN     1.0  2018-06-23           19  \n",
       "1    automatic  pickup       white     1.0  2018-10-19           50  \n",
       "2    automatic   sedan         red     NaN  2019-02-07           79  \n",
       "3    automatic  pickup         NaN     NaN  2019-03-22            9  \n",
       "4    automatic   sedan       black     NaN  2019-04-02           28  "
      ]
     },
     "execution_count": 12,
     "metadata": {},
     "output_type": "execute_result"
    }
   ],
   "source": [
    "data.head()"
   ]
  },
  {
   "cell_type": "code",
   "execution_count": 13,
   "metadata": {},
   "outputs": [],
   "source": [
    "data['paint_color'] = data['paint_color'].fillna('other')"
   ]
  },
  {
   "cell_type": "code",
   "execution_count": 14,
   "metadata": {
    "scrolled": true
   },
   "outputs": [
    {
     "data": {
      "text/html": [
       "<div>\n",
       "<style scoped>\n",
       "    .dataframe tbody tr th:only-of-type {\n",
       "        vertical-align: middle;\n",
       "    }\n",
       "\n",
       "    .dataframe tbody tr th {\n",
       "        vertical-align: top;\n",
       "    }\n",
       "\n",
       "    .dataframe thead th {\n",
       "        text-align: right;\n",
       "    }\n",
       "</style>\n",
       "<table border=\"1\" class=\"dataframe\">\n",
       "  <thead>\n",
       "    <tr style=\"text-align: right;\">\n",
       "      <th></th>\n",
       "      <th>price</th>\n",
       "      <th>model_year</th>\n",
       "      <th>model</th>\n",
       "      <th>condition</th>\n",
       "      <th>cylinders</th>\n",
       "      <th>fuel</th>\n",
       "      <th>odometer</th>\n",
       "      <th>transmission</th>\n",
       "      <th>type</th>\n",
       "      <th>paint_color</th>\n",
       "      <th>is_4wd</th>\n",
       "      <th>date_posted</th>\n",
       "      <th>days_listed</th>\n",
       "    </tr>\n",
       "  </thead>\n",
       "  <tbody>\n",
       "    <tr>\n",
       "      <td>0</td>\n",
       "      <td>9400</td>\n",
       "      <td>2011.0</td>\n",
       "      <td>bmw x5</td>\n",
       "      <td>good</td>\n",
       "      <td>6</td>\n",
       "      <td>gas</td>\n",
       "      <td>145000.0</td>\n",
       "      <td>automatic</td>\n",
       "      <td>SUV</td>\n",
       "      <td>other</td>\n",
       "      <td>1.0</td>\n",
       "      <td>2018-06-23</td>\n",
       "      <td>19</td>\n",
       "    </tr>\n",
       "    <tr>\n",
       "      <td>1</td>\n",
       "      <td>25500</td>\n",
       "      <td>2011.0</td>\n",
       "      <td>ford f-150</td>\n",
       "      <td>good</td>\n",
       "      <td>6</td>\n",
       "      <td>gas</td>\n",
       "      <td>88705.0</td>\n",
       "      <td>automatic</td>\n",
       "      <td>pickup</td>\n",
       "      <td>white</td>\n",
       "      <td>1.0</td>\n",
       "      <td>2018-10-19</td>\n",
       "      <td>50</td>\n",
       "    </tr>\n",
       "    <tr>\n",
       "      <td>2</td>\n",
       "      <td>5500</td>\n",
       "      <td>2013.0</td>\n",
       "      <td>hyundai sonata</td>\n",
       "      <td>like new</td>\n",
       "      <td>4</td>\n",
       "      <td>gas</td>\n",
       "      <td>110000.0</td>\n",
       "      <td>automatic</td>\n",
       "      <td>sedan</td>\n",
       "      <td>red</td>\n",
       "      <td>NaN</td>\n",
       "      <td>2019-02-07</td>\n",
       "      <td>79</td>\n",
       "    </tr>\n",
       "    <tr>\n",
       "      <td>3</td>\n",
       "      <td>1500</td>\n",
       "      <td>2003.0</td>\n",
       "      <td>ford f-150</td>\n",
       "      <td>fair</td>\n",
       "      <td>8</td>\n",
       "      <td>gas</td>\n",
       "      <td>NaN</td>\n",
       "      <td>automatic</td>\n",
       "      <td>pickup</td>\n",
       "      <td>other</td>\n",
       "      <td>NaN</td>\n",
       "      <td>2019-03-22</td>\n",
       "      <td>9</td>\n",
       "    </tr>\n",
       "    <tr>\n",
       "      <td>4</td>\n",
       "      <td>14900</td>\n",
       "      <td>2017.0</td>\n",
       "      <td>chrysler 200</td>\n",
       "      <td>excellent</td>\n",
       "      <td>4</td>\n",
       "      <td>gas</td>\n",
       "      <td>80903.0</td>\n",
       "      <td>automatic</td>\n",
       "      <td>sedan</td>\n",
       "      <td>black</td>\n",
       "      <td>NaN</td>\n",
       "      <td>2019-04-02</td>\n",
       "      <td>28</td>\n",
       "    </tr>\n",
       "  </tbody>\n",
       "</table>\n",
       "</div>"
      ],
      "text/plain": [
       "   price  model_year           model  condition  cylinders fuel  odometer  \\\n",
       "0   9400      2011.0          bmw x5       good          6  gas  145000.0   \n",
       "1  25500      2011.0      ford f-150       good          6  gas   88705.0   \n",
       "2   5500      2013.0  hyundai sonata   like new          4  gas  110000.0   \n",
       "3   1500      2003.0      ford f-150       fair          8  gas       NaN   \n",
       "4  14900      2017.0    chrysler 200  excellent          4  gas   80903.0   \n",
       "\n",
       "  transmission    type paint_color  is_4wd date_posted  days_listed  \n",
       "0    automatic     SUV       other     1.0  2018-06-23           19  \n",
       "1    automatic  pickup       white     1.0  2018-10-19           50  \n",
       "2    automatic   sedan         red     NaN  2019-02-07           79  \n",
       "3    automatic  pickup       other     NaN  2019-03-22            9  \n",
       "4    automatic   sedan       black     NaN  2019-04-02           28  "
      ]
     },
     "execution_count": 14,
     "metadata": {},
     "output_type": "execute_result"
    }
   ],
   "source": [
    "data.head()"
   ]
  },
  {
   "cell_type": "code",
   "execution_count": 15,
   "metadata": {},
   "outputs": [],
   "source": [
    "data['odometer'] = data['odometer'].fillna(data['odometer'].median())"
   ]
  },
  {
   "cell_type": "code",
   "execution_count": 16,
   "metadata": {},
   "outputs": [],
   "source": [
    "data['odometer'] = data['odometer'].astype('int')"
   ]
  },
  {
   "cell_type": "code",
   "execution_count": 17,
   "metadata": {},
   "outputs": [
    {
     "data": {
      "text/html": [
       "<div>\n",
       "<style scoped>\n",
       "    .dataframe tbody tr th:only-of-type {\n",
       "        vertical-align: middle;\n",
       "    }\n",
       "\n",
       "    .dataframe tbody tr th {\n",
       "        vertical-align: top;\n",
       "    }\n",
       "\n",
       "    .dataframe thead th {\n",
       "        text-align: right;\n",
       "    }\n",
       "</style>\n",
       "<table border=\"1\" class=\"dataframe\">\n",
       "  <thead>\n",
       "    <tr style=\"text-align: right;\">\n",
       "      <th></th>\n",
       "      <th>price</th>\n",
       "      <th>model_year</th>\n",
       "      <th>model</th>\n",
       "      <th>condition</th>\n",
       "      <th>cylinders</th>\n",
       "      <th>fuel</th>\n",
       "      <th>odometer</th>\n",
       "      <th>transmission</th>\n",
       "      <th>type</th>\n",
       "      <th>paint_color</th>\n",
       "      <th>is_4wd</th>\n",
       "      <th>date_posted</th>\n",
       "      <th>days_listed</th>\n",
       "    </tr>\n",
       "  </thead>\n",
       "  <tbody>\n",
       "    <tr>\n",
       "      <td>0</td>\n",
       "      <td>9400</td>\n",
       "      <td>2011.0</td>\n",
       "      <td>bmw x5</td>\n",
       "      <td>good</td>\n",
       "      <td>6</td>\n",
       "      <td>gas</td>\n",
       "      <td>145000</td>\n",
       "      <td>automatic</td>\n",
       "      <td>SUV</td>\n",
       "      <td>other</td>\n",
       "      <td>1.0</td>\n",
       "      <td>2018-06-23</td>\n",
       "      <td>19</td>\n",
       "    </tr>\n",
       "    <tr>\n",
       "      <td>1</td>\n",
       "      <td>25500</td>\n",
       "      <td>2011.0</td>\n",
       "      <td>ford f-150</td>\n",
       "      <td>good</td>\n",
       "      <td>6</td>\n",
       "      <td>gas</td>\n",
       "      <td>88705</td>\n",
       "      <td>automatic</td>\n",
       "      <td>pickup</td>\n",
       "      <td>white</td>\n",
       "      <td>1.0</td>\n",
       "      <td>2018-10-19</td>\n",
       "      <td>50</td>\n",
       "    </tr>\n",
       "    <tr>\n",
       "      <td>2</td>\n",
       "      <td>5500</td>\n",
       "      <td>2013.0</td>\n",
       "      <td>hyundai sonata</td>\n",
       "      <td>like new</td>\n",
       "      <td>4</td>\n",
       "      <td>gas</td>\n",
       "      <td>110000</td>\n",
       "      <td>automatic</td>\n",
       "      <td>sedan</td>\n",
       "      <td>red</td>\n",
       "      <td>NaN</td>\n",
       "      <td>2019-02-07</td>\n",
       "      <td>79</td>\n",
       "    </tr>\n",
       "    <tr>\n",
       "      <td>3</td>\n",
       "      <td>1500</td>\n",
       "      <td>2003.0</td>\n",
       "      <td>ford f-150</td>\n",
       "      <td>fair</td>\n",
       "      <td>8</td>\n",
       "      <td>gas</td>\n",
       "      <td>113000</td>\n",
       "      <td>automatic</td>\n",
       "      <td>pickup</td>\n",
       "      <td>other</td>\n",
       "      <td>NaN</td>\n",
       "      <td>2019-03-22</td>\n",
       "      <td>9</td>\n",
       "    </tr>\n",
       "    <tr>\n",
       "      <td>4</td>\n",
       "      <td>14900</td>\n",
       "      <td>2017.0</td>\n",
       "      <td>chrysler 200</td>\n",
       "      <td>excellent</td>\n",
       "      <td>4</td>\n",
       "      <td>gas</td>\n",
       "      <td>80903</td>\n",
       "      <td>automatic</td>\n",
       "      <td>sedan</td>\n",
       "      <td>black</td>\n",
       "      <td>NaN</td>\n",
       "      <td>2019-04-02</td>\n",
       "      <td>28</td>\n",
       "    </tr>\n",
       "  </tbody>\n",
       "</table>\n",
       "</div>"
      ],
      "text/plain": [
       "   price  model_year           model  condition  cylinders fuel  odometer  \\\n",
       "0   9400      2011.0          bmw x5       good          6  gas    145000   \n",
       "1  25500      2011.0      ford f-150       good          6  gas     88705   \n",
       "2   5500      2013.0  hyundai sonata   like new          4  gas    110000   \n",
       "3   1500      2003.0      ford f-150       fair          8  gas    113000   \n",
       "4  14900      2017.0    chrysler 200  excellent          4  gas     80903   \n",
       "\n",
       "  transmission    type paint_color  is_4wd date_posted  days_listed  \n",
       "0    automatic     SUV       other     1.0  2018-06-23           19  \n",
       "1    automatic  pickup       white     1.0  2018-10-19           50  \n",
       "2    automatic   sedan         red     NaN  2019-02-07           79  \n",
       "3    automatic  pickup       other     NaN  2019-03-22            9  \n",
       "4    automatic   sedan       black     NaN  2019-04-02           28  "
      ]
     },
     "execution_count": 17,
     "metadata": {},
     "output_type": "execute_result"
    }
   ],
   "source": [
    "data.head()"
   ]
  },
  {
   "cell_type": "code",
   "execution_count": 18,
   "metadata": {},
   "outputs": [],
   "source": [
    "data['is_4wd'] = data['is_4wd'].fillna(0.0)"
   ]
  },
  {
   "cell_type": "code",
   "execution_count": 19,
   "metadata": {},
   "outputs": [
    {
     "data": {
      "text/html": [
       "<div>\n",
       "<style scoped>\n",
       "    .dataframe tbody tr th:only-of-type {\n",
       "        vertical-align: middle;\n",
       "    }\n",
       "\n",
       "    .dataframe tbody tr th {\n",
       "        vertical-align: top;\n",
       "    }\n",
       "\n",
       "    .dataframe thead th {\n",
       "        text-align: right;\n",
       "    }\n",
       "</style>\n",
       "<table border=\"1\" class=\"dataframe\">\n",
       "  <thead>\n",
       "    <tr style=\"text-align: right;\">\n",
       "      <th></th>\n",
       "      <th>price</th>\n",
       "      <th>model_year</th>\n",
       "      <th>model</th>\n",
       "      <th>condition</th>\n",
       "      <th>cylinders</th>\n",
       "      <th>fuel</th>\n",
       "      <th>odometer</th>\n",
       "      <th>transmission</th>\n",
       "      <th>type</th>\n",
       "      <th>paint_color</th>\n",
       "      <th>is_4wd</th>\n",
       "      <th>date_posted</th>\n",
       "      <th>days_listed</th>\n",
       "    </tr>\n",
       "  </thead>\n",
       "  <tbody>\n",
       "    <tr>\n",
       "      <td>0</td>\n",
       "      <td>9400</td>\n",
       "      <td>2011.0</td>\n",
       "      <td>bmw x5</td>\n",
       "      <td>good</td>\n",
       "      <td>6</td>\n",
       "      <td>gas</td>\n",
       "      <td>145000</td>\n",
       "      <td>automatic</td>\n",
       "      <td>SUV</td>\n",
       "      <td>other</td>\n",
       "      <td>1.0</td>\n",
       "      <td>2018-06-23</td>\n",
       "      <td>19</td>\n",
       "    </tr>\n",
       "    <tr>\n",
       "      <td>1</td>\n",
       "      <td>25500</td>\n",
       "      <td>2011.0</td>\n",
       "      <td>ford f-150</td>\n",
       "      <td>good</td>\n",
       "      <td>6</td>\n",
       "      <td>gas</td>\n",
       "      <td>88705</td>\n",
       "      <td>automatic</td>\n",
       "      <td>pickup</td>\n",
       "      <td>white</td>\n",
       "      <td>1.0</td>\n",
       "      <td>2018-10-19</td>\n",
       "      <td>50</td>\n",
       "    </tr>\n",
       "    <tr>\n",
       "      <td>2</td>\n",
       "      <td>5500</td>\n",
       "      <td>2013.0</td>\n",
       "      <td>hyundai sonata</td>\n",
       "      <td>like new</td>\n",
       "      <td>4</td>\n",
       "      <td>gas</td>\n",
       "      <td>110000</td>\n",
       "      <td>automatic</td>\n",
       "      <td>sedan</td>\n",
       "      <td>red</td>\n",
       "      <td>0.0</td>\n",
       "      <td>2019-02-07</td>\n",
       "      <td>79</td>\n",
       "    </tr>\n",
       "    <tr>\n",
       "      <td>3</td>\n",
       "      <td>1500</td>\n",
       "      <td>2003.0</td>\n",
       "      <td>ford f-150</td>\n",
       "      <td>fair</td>\n",
       "      <td>8</td>\n",
       "      <td>gas</td>\n",
       "      <td>113000</td>\n",
       "      <td>automatic</td>\n",
       "      <td>pickup</td>\n",
       "      <td>other</td>\n",
       "      <td>0.0</td>\n",
       "      <td>2019-03-22</td>\n",
       "      <td>9</td>\n",
       "    </tr>\n",
       "    <tr>\n",
       "      <td>4</td>\n",
       "      <td>14900</td>\n",
       "      <td>2017.0</td>\n",
       "      <td>chrysler 200</td>\n",
       "      <td>excellent</td>\n",
       "      <td>4</td>\n",
       "      <td>gas</td>\n",
       "      <td>80903</td>\n",
       "      <td>automatic</td>\n",
       "      <td>sedan</td>\n",
       "      <td>black</td>\n",
       "      <td>0.0</td>\n",
       "      <td>2019-04-02</td>\n",
       "      <td>28</td>\n",
       "    </tr>\n",
       "  </tbody>\n",
       "</table>\n",
       "</div>"
      ],
      "text/plain": [
       "   price  model_year           model  condition  cylinders fuel  odometer  \\\n",
       "0   9400      2011.0          bmw x5       good          6  gas    145000   \n",
       "1  25500      2011.0      ford f-150       good          6  gas     88705   \n",
       "2   5500      2013.0  hyundai sonata   like new          4  gas    110000   \n",
       "3   1500      2003.0      ford f-150       fair          8  gas    113000   \n",
       "4  14900      2017.0    chrysler 200  excellent          4  gas     80903   \n",
       "\n",
       "  transmission    type paint_color  is_4wd date_posted  days_listed  \n",
       "0    automatic     SUV       other     1.0  2018-06-23           19  \n",
       "1    automatic  pickup       white     1.0  2018-10-19           50  \n",
       "2    automatic   sedan         red     0.0  2019-02-07           79  \n",
       "3    automatic  pickup       other     0.0  2019-03-22            9  \n",
       "4    automatic   sedan       black     0.0  2019-04-02           28  "
      ]
     },
     "execution_count": 19,
     "metadata": {},
     "output_type": "execute_result"
    }
   ],
   "source": [
    "data.head()"
   ]
  },
  {
   "cell_type": "code",
   "execution_count": 20,
   "metadata": {},
   "outputs": [],
   "source": [
    "data['is_4wd'] = data['is_4wd'].astype('bool')"
   ]
  },
  {
   "cell_type": "code",
   "execution_count": 21,
   "metadata": {},
   "outputs": [
    {
     "data": {
      "text/html": [
       "<div>\n",
       "<style scoped>\n",
       "    .dataframe tbody tr th:only-of-type {\n",
       "        vertical-align: middle;\n",
       "    }\n",
       "\n",
       "    .dataframe tbody tr th {\n",
       "        vertical-align: top;\n",
       "    }\n",
       "\n",
       "    .dataframe thead th {\n",
       "        text-align: right;\n",
       "    }\n",
       "</style>\n",
       "<table border=\"1\" class=\"dataframe\">\n",
       "  <thead>\n",
       "    <tr style=\"text-align: right;\">\n",
       "      <th></th>\n",
       "      <th>price</th>\n",
       "      <th>model_year</th>\n",
       "      <th>model</th>\n",
       "      <th>condition</th>\n",
       "      <th>cylinders</th>\n",
       "      <th>fuel</th>\n",
       "      <th>odometer</th>\n",
       "      <th>transmission</th>\n",
       "      <th>type</th>\n",
       "      <th>paint_color</th>\n",
       "      <th>is_4wd</th>\n",
       "      <th>date_posted</th>\n",
       "      <th>days_listed</th>\n",
       "    </tr>\n",
       "  </thead>\n",
       "  <tbody>\n",
       "    <tr>\n",
       "      <td>0</td>\n",
       "      <td>9400</td>\n",
       "      <td>2011.0</td>\n",
       "      <td>bmw x5</td>\n",
       "      <td>good</td>\n",
       "      <td>6</td>\n",
       "      <td>gas</td>\n",
       "      <td>145000</td>\n",
       "      <td>automatic</td>\n",
       "      <td>SUV</td>\n",
       "      <td>other</td>\n",
       "      <td>True</td>\n",
       "      <td>2018-06-23</td>\n",
       "      <td>19</td>\n",
       "    </tr>\n",
       "    <tr>\n",
       "      <td>1</td>\n",
       "      <td>25500</td>\n",
       "      <td>2011.0</td>\n",
       "      <td>ford f-150</td>\n",
       "      <td>good</td>\n",
       "      <td>6</td>\n",
       "      <td>gas</td>\n",
       "      <td>88705</td>\n",
       "      <td>automatic</td>\n",
       "      <td>pickup</td>\n",
       "      <td>white</td>\n",
       "      <td>True</td>\n",
       "      <td>2018-10-19</td>\n",
       "      <td>50</td>\n",
       "    </tr>\n",
       "    <tr>\n",
       "      <td>2</td>\n",
       "      <td>5500</td>\n",
       "      <td>2013.0</td>\n",
       "      <td>hyundai sonata</td>\n",
       "      <td>like new</td>\n",
       "      <td>4</td>\n",
       "      <td>gas</td>\n",
       "      <td>110000</td>\n",
       "      <td>automatic</td>\n",
       "      <td>sedan</td>\n",
       "      <td>red</td>\n",
       "      <td>False</td>\n",
       "      <td>2019-02-07</td>\n",
       "      <td>79</td>\n",
       "    </tr>\n",
       "    <tr>\n",
       "      <td>3</td>\n",
       "      <td>1500</td>\n",
       "      <td>2003.0</td>\n",
       "      <td>ford f-150</td>\n",
       "      <td>fair</td>\n",
       "      <td>8</td>\n",
       "      <td>gas</td>\n",
       "      <td>113000</td>\n",
       "      <td>automatic</td>\n",
       "      <td>pickup</td>\n",
       "      <td>other</td>\n",
       "      <td>False</td>\n",
       "      <td>2019-03-22</td>\n",
       "      <td>9</td>\n",
       "    </tr>\n",
       "    <tr>\n",
       "      <td>4</td>\n",
       "      <td>14900</td>\n",
       "      <td>2017.0</td>\n",
       "      <td>chrysler 200</td>\n",
       "      <td>excellent</td>\n",
       "      <td>4</td>\n",
       "      <td>gas</td>\n",
       "      <td>80903</td>\n",
       "      <td>automatic</td>\n",
       "      <td>sedan</td>\n",
       "      <td>black</td>\n",
       "      <td>False</td>\n",
       "      <td>2019-04-02</td>\n",
       "      <td>28</td>\n",
       "    </tr>\n",
       "  </tbody>\n",
       "</table>\n",
       "</div>"
      ],
      "text/plain": [
       "   price  model_year           model  condition  cylinders fuel  odometer  \\\n",
       "0   9400      2011.0          bmw x5       good          6  gas    145000   \n",
       "1  25500      2011.0      ford f-150       good          6  gas     88705   \n",
       "2   5500      2013.0  hyundai sonata   like new          4  gas    110000   \n",
       "3   1500      2003.0      ford f-150       fair          8  gas    113000   \n",
       "4  14900      2017.0    chrysler 200  excellent          4  gas     80903   \n",
       "\n",
       "  transmission    type paint_color  is_4wd date_posted  days_listed  \n",
       "0    automatic     SUV       other    True  2018-06-23           19  \n",
       "1    automatic  pickup       white    True  2018-10-19           50  \n",
       "2    automatic   sedan         red   False  2019-02-07           79  \n",
       "3    automatic  pickup       other   False  2019-03-22            9  \n",
       "4    automatic   sedan       black   False  2019-04-02           28  "
      ]
     },
     "execution_count": 21,
     "metadata": {},
     "output_type": "execute_result"
    }
   ],
   "source": [
    "data.head()"
   ]
  },
  {
   "cell_type": "code",
   "execution_count": 22,
   "metadata": {},
   "outputs": [],
   "source": [
    "data['date_posted'] = pd.to_datetime(data['date_posted'], format='%Y-%m-%dT%H:%M:%S')"
   ]
  },
  {
   "cell_type": "code",
   "execution_count": 23,
   "metadata": {},
   "outputs": [
    {
     "data": {
      "text/html": [
       "<div>\n",
       "<style scoped>\n",
       "    .dataframe tbody tr th:only-of-type {\n",
       "        vertical-align: middle;\n",
       "    }\n",
       "\n",
       "    .dataframe tbody tr th {\n",
       "        vertical-align: top;\n",
       "    }\n",
       "\n",
       "    .dataframe thead th {\n",
       "        text-align: right;\n",
       "    }\n",
       "</style>\n",
       "<table border=\"1\" class=\"dataframe\">\n",
       "  <thead>\n",
       "    <tr style=\"text-align: right;\">\n",
       "      <th></th>\n",
       "      <th>price</th>\n",
       "      <th>model_year</th>\n",
       "      <th>model</th>\n",
       "      <th>condition</th>\n",
       "      <th>cylinders</th>\n",
       "      <th>fuel</th>\n",
       "      <th>odometer</th>\n",
       "      <th>transmission</th>\n",
       "      <th>type</th>\n",
       "      <th>paint_color</th>\n",
       "      <th>is_4wd</th>\n",
       "      <th>date_posted</th>\n",
       "      <th>days_listed</th>\n",
       "    </tr>\n",
       "  </thead>\n",
       "  <tbody>\n",
       "    <tr>\n",
       "      <td>0</td>\n",
       "      <td>9400</td>\n",
       "      <td>2011.0</td>\n",
       "      <td>bmw x5</td>\n",
       "      <td>good</td>\n",
       "      <td>6</td>\n",
       "      <td>gas</td>\n",
       "      <td>145000</td>\n",
       "      <td>automatic</td>\n",
       "      <td>SUV</td>\n",
       "      <td>other</td>\n",
       "      <td>True</td>\n",
       "      <td>2018-06-23</td>\n",
       "      <td>19</td>\n",
       "    </tr>\n",
       "    <tr>\n",
       "      <td>1</td>\n",
       "      <td>25500</td>\n",
       "      <td>2011.0</td>\n",
       "      <td>ford f-150</td>\n",
       "      <td>good</td>\n",
       "      <td>6</td>\n",
       "      <td>gas</td>\n",
       "      <td>88705</td>\n",
       "      <td>automatic</td>\n",
       "      <td>pickup</td>\n",
       "      <td>white</td>\n",
       "      <td>True</td>\n",
       "      <td>2018-10-19</td>\n",
       "      <td>50</td>\n",
       "    </tr>\n",
       "    <tr>\n",
       "      <td>2</td>\n",
       "      <td>5500</td>\n",
       "      <td>2013.0</td>\n",
       "      <td>hyundai sonata</td>\n",
       "      <td>like new</td>\n",
       "      <td>4</td>\n",
       "      <td>gas</td>\n",
       "      <td>110000</td>\n",
       "      <td>automatic</td>\n",
       "      <td>sedan</td>\n",
       "      <td>red</td>\n",
       "      <td>False</td>\n",
       "      <td>2019-02-07</td>\n",
       "      <td>79</td>\n",
       "    </tr>\n",
       "    <tr>\n",
       "      <td>3</td>\n",
       "      <td>1500</td>\n",
       "      <td>2003.0</td>\n",
       "      <td>ford f-150</td>\n",
       "      <td>fair</td>\n",
       "      <td>8</td>\n",
       "      <td>gas</td>\n",
       "      <td>113000</td>\n",
       "      <td>automatic</td>\n",
       "      <td>pickup</td>\n",
       "      <td>other</td>\n",
       "      <td>False</td>\n",
       "      <td>2019-03-22</td>\n",
       "      <td>9</td>\n",
       "    </tr>\n",
       "    <tr>\n",
       "      <td>4</td>\n",
       "      <td>14900</td>\n",
       "      <td>2017.0</td>\n",
       "      <td>chrysler 200</td>\n",
       "      <td>excellent</td>\n",
       "      <td>4</td>\n",
       "      <td>gas</td>\n",
       "      <td>80903</td>\n",
       "      <td>automatic</td>\n",
       "      <td>sedan</td>\n",
       "      <td>black</td>\n",
       "      <td>False</td>\n",
       "      <td>2019-04-02</td>\n",
       "      <td>28</td>\n",
       "    </tr>\n",
       "  </tbody>\n",
       "</table>\n",
       "</div>"
      ],
      "text/plain": [
       "   price  model_year           model  condition  cylinders fuel  odometer  \\\n",
       "0   9400      2011.0          bmw x5       good          6  gas    145000   \n",
       "1  25500      2011.0      ford f-150       good          6  gas     88705   \n",
       "2   5500      2013.0  hyundai sonata   like new          4  gas    110000   \n",
       "3   1500      2003.0      ford f-150       fair          8  gas    113000   \n",
       "4  14900      2017.0    chrysler 200  excellent          4  gas     80903   \n",
       "\n",
       "  transmission    type paint_color  is_4wd date_posted  days_listed  \n",
       "0    automatic     SUV       other    True  2018-06-23           19  \n",
       "1    automatic  pickup       white    True  2018-10-19           50  \n",
       "2    automatic   sedan         red   False  2019-02-07           79  \n",
       "3    automatic  pickup       other   False  2019-03-22            9  \n",
       "4    automatic   sedan       black   False  2019-04-02           28  "
      ]
     },
     "execution_count": 23,
     "metadata": {},
     "output_type": "execute_result"
    }
   ],
   "source": [
    "data.head()"
   ]
  },
  {
   "cell_type": "code",
   "execution_count": 24,
   "metadata": {},
   "outputs": [
    {
     "name": "stdout",
     "output_type": "stream",
     "text": [
      "<class 'pandas.core.frame.DataFrame'>\n",
      "RangeIndex: 51525 entries, 0 to 51524\n",
      "Data columns (total 13 columns):\n",
      "price           51525 non-null int64\n",
      "model_year      51525 non-null float64\n",
      "model           51525 non-null object\n",
      "condition       51525 non-null object\n",
      "cylinders       51525 non-null int64\n",
      "fuel            51525 non-null object\n",
      "odometer        51525 non-null int64\n",
      "transmission    51525 non-null object\n",
      "type            51525 non-null object\n",
      "paint_color     51525 non-null object\n",
      "is_4wd          51525 non-null bool\n",
      "date_posted     51525 non-null datetime64[ns]\n",
      "days_listed     51525 non-null int64\n",
      "dtypes: bool(1), datetime64[ns](1), float64(1), int64(4), object(6)\n",
      "memory usage: 4.8+ MB\n"
     ]
    }
   ],
   "source": [
    "data.info()"
   ]
  },
  {
   "cell_type": "markdown",
   "metadata": {},
   "source": [
    "### Conclusion\n",
    "After looking at the data, I saw 5 coulmns with missing values, first 3: model_year, cylinders and odometer had 5%-15% of missing values, so I decided to replace them on median and convert into int type, because there weren't a lot of them. In the column paint_color were a little bit more missing values. But the most of customers first choose car according its technical characteristics, so I decided to replace missing values with 'other' color, it will not damage results of our calculations. In the column 'is_4wd' were around of 50% of missing values, but upon looking at the data I saw that all values we have is 1, so obviously missing values is 0, since it just information about is this particular car is 4_wd or not. I replaced missing values with 0 and converted data type to boolean, so now we see the hole picture clear and understandable. And the last thing I did to prepare my data is convertation the date in column 'date_posted', so now we have the correct data type and memory usage reduced."
   ]
  },
  {
   "cell_type": "markdown",
   "metadata": {},
   "source": [
    "## Make calculations and add them to the table"
   ]
  },
  {
   "cell_type": "markdown",
   "metadata": {},
   "source": [
    "### To do list:\n",
    " -  Day of the week, month, and year the ad was placed\n",
    " -  The vehicle's age (in years) when the ad was placed\n",
    " -  The vehicle's average mileage per year\n",
    " -  In the condition column, replace string values with a numeric scale:\n",
    "new = 5\n",
    "like new = 4\n",
    "excellent = 3\n",
    "good = 2\n",
    "fair = 1\n",
    "salvage = 0"
   ]
  },
  {
   "cell_type": "code",
   "execution_count": 25,
   "metadata": {},
   "outputs": [],
   "source": [
    "data['week'] = pd.DatetimeIndex(data['date_posted']).week\n",
    "data['month'] = pd.DatetimeIndex(data['date_posted']).month\n",
    "data['year'] = pd.DatetimeIndex(data['date_posted']).year"
   ]
  },
  {
   "cell_type": "code",
   "execution_count": 26,
   "metadata": {},
   "outputs": [
    {
     "data": {
      "text/html": [
       "<div>\n",
       "<style scoped>\n",
       "    .dataframe tbody tr th:only-of-type {\n",
       "        vertical-align: middle;\n",
       "    }\n",
       "\n",
       "    .dataframe tbody tr th {\n",
       "        vertical-align: top;\n",
       "    }\n",
       "\n",
       "    .dataframe thead th {\n",
       "        text-align: right;\n",
       "    }\n",
       "</style>\n",
       "<table border=\"1\" class=\"dataframe\">\n",
       "  <thead>\n",
       "    <tr style=\"text-align: right;\">\n",
       "      <th></th>\n",
       "      <th>price</th>\n",
       "      <th>model_year</th>\n",
       "      <th>model</th>\n",
       "      <th>condition</th>\n",
       "      <th>cylinders</th>\n",
       "      <th>fuel</th>\n",
       "      <th>odometer</th>\n",
       "      <th>transmission</th>\n",
       "      <th>type</th>\n",
       "      <th>paint_color</th>\n",
       "      <th>is_4wd</th>\n",
       "      <th>date_posted</th>\n",
       "      <th>days_listed</th>\n",
       "      <th>week</th>\n",
       "      <th>month</th>\n",
       "      <th>year</th>\n",
       "    </tr>\n",
       "  </thead>\n",
       "  <tbody>\n",
       "    <tr>\n",
       "      <td>0</td>\n",
       "      <td>9400</td>\n",
       "      <td>2011.0</td>\n",
       "      <td>bmw x5</td>\n",
       "      <td>good</td>\n",
       "      <td>6</td>\n",
       "      <td>gas</td>\n",
       "      <td>145000</td>\n",
       "      <td>automatic</td>\n",
       "      <td>SUV</td>\n",
       "      <td>other</td>\n",
       "      <td>True</td>\n",
       "      <td>2018-06-23</td>\n",
       "      <td>19</td>\n",
       "      <td>25</td>\n",
       "      <td>6</td>\n",
       "      <td>2018</td>\n",
       "    </tr>\n",
       "    <tr>\n",
       "      <td>1</td>\n",
       "      <td>25500</td>\n",
       "      <td>2011.0</td>\n",
       "      <td>ford f-150</td>\n",
       "      <td>good</td>\n",
       "      <td>6</td>\n",
       "      <td>gas</td>\n",
       "      <td>88705</td>\n",
       "      <td>automatic</td>\n",
       "      <td>pickup</td>\n",
       "      <td>white</td>\n",
       "      <td>True</td>\n",
       "      <td>2018-10-19</td>\n",
       "      <td>50</td>\n",
       "      <td>42</td>\n",
       "      <td>10</td>\n",
       "      <td>2018</td>\n",
       "    </tr>\n",
       "    <tr>\n",
       "      <td>2</td>\n",
       "      <td>5500</td>\n",
       "      <td>2013.0</td>\n",
       "      <td>hyundai sonata</td>\n",
       "      <td>like new</td>\n",
       "      <td>4</td>\n",
       "      <td>gas</td>\n",
       "      <td>110000</td>\n",
       "      <td>automatic</td>\n",
       "      <td>sedan</td>\n",
       "      <td>red</td>\n",
       "      <td>False</td>\n",
       "      <td>2019-02-07</td>\n",
       "      <td>79</td>\n",
       "      <td>6</td>\n",
       "      <td>2</td>\n",
       "      <td>2019</td>\n",
       "    </tr>\n",
       "    <tr>\n",
       "      <td>3</td>\n",
       "      <td>1500</td>\n",
       "      <td>2003.0</td>\n",
       "      <td>ford f-150</td>\n",
       "      <td>fair</td>\n",
       "      <td>8</td>\n",
       "      <td>gas</td>\n",
       "      <td>113000</td>\n",
       "      <td>automatic</td>\n",
       "      <td>pickup</td>\n",
       "      <td>other</td>\n",
       "      <td>False</td>\n",
       "      <td>2019-03-22</td>\n",
       "      <td>9</td>\n",
       "      <td>12</td>\n",
       "      <td>3</td>\n",
       "      <td>2019</td>\n",
       "    </tr>\n",
       "    <tr>\n",
       "      <td>4</td>\n",
       "      <td>14900</td>\n",
       "      <td>2017.0</td>\n",
       "      <td>chrysler 200</td>\n",
       "      <td>excellent</td>\n",
       "      <td>4</td>\n",
       "      <td>gas</td>\n",
       "      <td>80903</td>\n",
       "      <td>automatic</td>\n",
       "      <td>sedan</td>\n",
       "      <td>black</td>\n",
       "      <td>False</td>\n",
       "      <td>2019-04-02</td>\n",
       "      <td>28</td>\n",
       "      <td>14</td>\n",
       "      <td>4</td>\n",
       "      <td>2019</td>\n",
       "    </tr>\n",
       "  </tbody>\n",
       "</table>\n",
       "</div>"
      ],
      "text/plain": [
       "   price  model_year           model  condition  cylinders fuel  odometer  \\\n",
       "0   9400      2011.0          bmw x5       good          6  gas    145000   \n",
       "1  25500      2011.0      ford f-150       good          6  gas     88705   \n",
       "2   5500      2013.0  hyundai sonata   like new          4  gas    110000   \n",
       "3   1500      2003.0      ford f-150       fair          8  gas    113000   \n",
       "4  14900      2017.0    chrysler 200  excellent          4  gas     80903   \n",
       "\n",
       "  transmission    type paint_color  is_4wd date_posted  days_listed  week  \\\n",
       "0    automatic     SUV       other    True  2018-06-23           19    25   \n",
       "1    automatic  pickup       white    True  2018-10-19           50    42   \n",
       "2    automatic   sedan         red   False  2019-02-07           79     6   \n",
       "3    automatic  pickup       other   False  2019-03-22            9    12   \n",
       "4    automatic   sedan       black   False  2019-04-02           28    14   \n",
       "\n",
       "   month  year  \n",
       "0      6  2018  \n",
       "1     10  2018  \n",
       "2      2  2019  \n",
       "3      3  2019  \n",
       "4      4  2019  "
      ]
     },
     "execution_count": 26,
     "metadata": {},
     "output_type": "execute_result"
    }
   ],
   "source": [
    "data.head()"
   ]
  },
  {
   "cell_type": "code",
   "execution_count": 27,
   "metadata": {},
   "outputs": [],
   "source": [
    "data['age'] = data['year'] - data['model_year']"
   ]
  },
  {
   "cell_type": "code",
   "execution_count": 28,
   "metadata": {},
   "outputs": [],
   "source": [
    "def calc_mileage(row):\n",
    "    if row['age'] == 0:\n",
    "        return row['odometer']\n",
    "    else:\n",
    "        return row['odometer'] / row['age']"
   ]
  },
  {
   "cell_type": "code",
   "execution_count": 29,
   "metadata": {},
   "outputs": [],
   "source": [
    "data['mileage_per_year'] = data.apply(calc_mileage, axis=1)"
   ]
  },
  {
   "cell_type": "code",
   "execution_count": 30,
   "metadata": {
    "scrolled": true
   },
   "outputs": [
    {
     "data": {
      "text/html": [
       "<div>\n",
       "<style scoped>\n",
       "    .dataframe tbody tr th:only-of-type {\n",
       "        vertical-align: middle;\n",
       "    }\n",
       "\n",
       "    .dataframe tbody tr th {\n",
       "        vertical-align: top;\n",
       "    }\n",
       "\n",
       "    .dataframe thead th {\n",
       "        text-align: right;\n",
       "    }\n",
       "</style>\n",
       "<table border=\"1\" class=\"dataframe\">\n",
       "  <thead>\n",
       "    <tr style=\"text-align: right;\">\n",
       "      <th></th>\n",
       "      <th>price</th>\n",
       "      <th>model_year</th>\n",
       "      <th>model</th>\n",
       "      <th>condition</th>\n",
       "      <th>cylinders</th>\n",
       "      <th>fuel</th>\n",
       "      <th>odometer</th>\n",
       "      <th>transmission</th>\n",
       "      <th>type</th>\n",
       "      <th>paint_color</th>\n",
       "      <th>is_4wd</th>\n",
       "      <th>date_posted</th>\n",
       "      <th>days_listed</th>\n",
       "      <th>week</th>\n",
       "      <th>month</th>\n",
       "      <th>year</th>\n",
       "      <th>age</th>\n",
       "      <th>mileage_per_year</th>\n",
       "    </tr>\n",
       "  </thead>\n",
       "  <tbody>\n",
       "    <tr>\n",
       "      <td>0</td>\n",
       "      <td>9400</td>\n",
       "      <td>2011.0</td>\n",
       "      <td>bmw x5</td>\n",
       "      <td>good</td>\n",
       "      <td>6</td>\n",
       "      <td>gas</td>\n",
       "      <td>145000</td>\n",
       "      <td>automatic</td>\n",
       "      <td>SUV</td>\n",
       "      <td>other</td>\n",
       "      <td>True</td>\n",
       "      <td>2018-06-23</td>\n",
       "      <td>19</td>\n",
       "      <td>25</td>\n",
       "      <td>6</td>\n",
       "      <td>2018</td>\n",
       "      <td>7.0</td>\n",
       "      <td>20714.285714</td>\n",
       "    </tr>\n",
       "    <tr>\n",
       "      <td>1</td>\n",
       "      <td>25500</td>\n",
       "      <td>2011.0</td>\n",
       "      <td>ford f-150</td>\n",
       "      <td>good</td>\n",
       "      <td>6</td>\n",
       "      <td>gas</td>\n",
       "      <td>88705</td>\n",
       "      <td>automatic</td>\n",
       "      <td>pickup</td>\n",
       "      <td>white</td>\n",
       "      <td>True</td>\n",
       "      <td>2018-10-19</td>\n",
       "      <td>50</td>\n",
       "      <td>42</td>\n",
       "      <td>10</td>\n",
       "      <td>2018</td>\n",
       "      <td>7.0</td>\n",
       "      <td>12672.142857</td>\n",
       "    </tr>\n",
       "    <tr>\n",
       "      <td>2</td>\n",
       "      <td>5500</td>\n",
       "      <td>2013.0</td>\n",
       "      <td>hyundai sonata</td>\n",
       "      <td>like new</td>\n",
       "      <td>4</td>\n",
       "      <td>gas</td>\n",
       "      <td>110000</td>\n",
       "      <td>automatic</td>\n",
       "      <td>sedan</td>\n",
       "      <td>red</td>\n",
       "      <td>False</td>\n",
       "      <td>2019-02-07</td>\n",
       "      <td>79</td>\n",
       "      <td>6</td>\n",
       "      <td>2</td>\n",
       "      <td>2019</td>\n",
       "      <td>6.0</td>\n",
       "      <td>18333.333333</td>\n",
       "    </tr>\n",
       "    <tr>\n",
       "      <td>3</td>\n",
       "      <td>1500</td>\n",
       "      <td>2003.0</td>\n",
       "      <td>ford f-150</td>\n",
       "      <td>fair</td>\n",
       "      <td>8</td>\n",
       "      <td>gas</td>\n",
       "      <td>113000</td>\n",
       "      <td>automatic</td>\n",
       "      <td>pickup</td>\n",
       "      <td>other</td>\n",
       "      <td>False</td>\n",
       "      <td>2019-03-22</td>\n",
       "      <td>9</td>\n",
       "      <td>12</td>\n",
       "      <td>3</td>\n",
       "      <td>2019</td>\n",
       "      <td>16.0</td>\n",
       "      <td>7062.500000</td>\n",
       "    </tr>\n",
       "    <tr>\n",
       "      <td>4</td>\n",
       "      <td>14900</td>\n",
       "      <td>2017.0</td>\n",
       "      <td>chrysler 200</td>\n",
       "      <td>excellent</td>\n",
       "      <td>4</td>\n",
       "      <td>gas</td>\n",
       "      <td>80903</td>\n",
       "      <td>automatic</td>\n",
       "      <td>sedan</td>\n",
       "      <td>black</td>\n",
       "      <td>False</td>\n",
       "      <td>2019-04-02</td>\n",
       "      <td>28</td>\n",
       "      <td>14</td>\n",
       "      <td>4</td>\n",
       "      <td>2019</td>\n",
       "      <td>2.0</td>\n",
       "      <td>40451.500000</td>\n",
       "    </tr>\n",
       "  </tbody>\n",
       "</table>\n",
       "</div>"
      ],
      "text/plain": [
       "   price  model_year           model  condition  cylinders fuel  odometer  \\\n",
       "0   9400      2011.0          bmw x5       good          6  gas    145000   \n",
       "1  25500      2011.0      ford f-150       good          6  gas     88705   \n",
       "2   5500      2013.0  hyundai sonata   like new          4  gas    110000   \n",
       "3   1500      2003.0      ford f-150       fair          8  gas    113000   \n",
       "4  14900      2017.0    chrysler 200  excellent          4  gas     80903   \n",
       "\n",
       "  transmission    type paint_color  is_4wd date_posted  days_listed  week  \\\n",
       "0    automatic     SUV       other    True  2018-06-23           19    25   \n",
       "1    automatic  pickup       white    True  2018-10-19           50    42   \n",
       "2    automatic   sedan         red   False  2019-02-07           79     6   \n",
       "3    automatic  pickup       other   False  2019-03-22            9    12   \n",
       "4    automatic   sedan       black   False  2019-04-02           28    14   \n",
       "\n",
       "   month  year   age  mileage_per_year  \n",
       "0      6  2018   7.0      20714.285714  \n",
       "1     10  2018   7.0      12672.142857  \n",
       "2      2  2019   6.0      18333.333333  \n",
       "3      3  2019  16.0       7062.500000  \n",
       "4      4  2019   2.0      40451.500000  "
      ]
     },
     "execution_count": 30,
     "metadata": {},
     "output_type": "execute_result"
    }
   ],
   "source": [
    "data.head()"
   ]
  },
  {
   "cell_type": "code",
   "execution_count": 31,
   "metadata": {},
   "outputs": [],
   "source": [
    "def cond(row):\n",
    "    cond = row['condition']\n",
    "    if cond == 'new':\n",
    "        return 5\n",
    "    if cond == 'like new':\n",
    "        return 4\n",
    "    if cond == 'excellent':\n",
    "        return 3\n",
    "    if cond == 'good':\n",
    "        return 2\n",
    "    if cond == 'fair':\n",
    "        return 1\n",
    "    else:\n",
    "        return 0\n"
   ]
  },
  {
   "cell_type": "code",
   "execution_count": 32,
   "metadata": {},
   "outputs": [],
   "source": [
    "data['condition'] = data.apply(cond, axis=1)"
   ]
  },
  {
   "cell_type": "code",
   "execution_count": 33,
   "metadata": {},
   "outputs": [
    {
     "data": {
      "text/plain": [
       "3    24773\n",
       "2    20145\n",
       "4     4742\n",
       "1     1607\n",
       "5      143\n",
       "0      115\n",
       "Name: condition, dtype: int64"
      ]
     },
     "execution_count": 33,
     "metadata": {},
     "output_type": "execute_result"
    }
   ],
   "source": [
    "data['condition'].value_counts()"
   ]
  },
  {
   "cell_type": "code",
   "execution_count": 34,
   "metadata": {},
   "outputs": [
    {
     "data": {
      "text/html": [
       "<div>\n",
       "<style scoped>\n",
       "    .dataframe tbody tr th:only-of-type {\n",
       "        vertical-align: middle;\n",
       "    }\n",
       "\n",
       "    .dataframe tbody tr th {\n",
       "        vertical-align: top;\n",
       "    }\n",
       "\n",
       "    .dataframe thead th {\n",
       "        text-align: right;\n",
       "    }\n",
       "</style>\n",
       "<table border=\"1\" class=\"dataframe\">\n",
       "  <thead>\n",
       "    <tr style=\"text-align: right;\">\n",
       "      <th></th>\n",
       "      <th>price</th>\n",
       "      <th>model_year</th>\n",
       "      <th>model</th>\n",
       "      <th>condition</th>\n",
       "      <th>cylinders</th>\n",
       "      <th>fuel</th>\n",
       "      <th>odometer</th>\n",
       "      <th>transmission</th>\n",
       "      <th>type</th>\n",
       "      <th>paint_color</th>\n",
       "      <th>is_4wd</th>\n",
       "      <th>date_posted</th>\n",
       "      <th>days_listed</th>\n",
       "      <th>week</th>\n",
       "      <th>month</th>\n",
       "      <th>year</th>\n",
       "      <th>age</th>\n",
       "      <th>mileage_per_year</th>\n",
       "    </tr>\n",
       "  </thead>\n",
       "  <tbody>\n",
       "    <tr>\n",
       "      <td>0</td>\n",
       "      <td>9400</td>\n",
       "      <td>2011.0</td>\n",
       "      <td>bmw x5</td>\n",
       "      <td>2</td>\n",
       "      <td>6</td>\n",
       "      <td>gas</td>\n",
       "      <td>145000</td>\n",
       "      <td>automatic</td>\n",
       "      <td>SUV</td>\n",
       "      <td>other</td>\n",
       "      <td>True</td>\n",
       "      <td>2018-06-23</td>\n",
       "      <td>19</td>\n",
       "      <td>25</td>\n",
       "      <td>6</td>\n",
       "      <td>2018</td>\n",
       "      <td>7.0</td>\n",
       "      <td>20714.285714</td>\n",
       "    </tr>\n",
       "    <tr>\n",
       "      <td>1</td>\n",
       "      <td>25500</td>\n",
       "      <td>2011.0</td>\n",
       "      <td>ford f-150</td>\n",
       "      <td>2</td>\n",
       "      <td>6</td>\n",
       "      <td>gas</td>\n",
       "      <td>88705</td>\n",
       "      <td>automatic</td>\n",
       "      <td>pickup</td>\n",
       "      <td>white</td>\n",
       "      <td>True</td>\n",
       "      <td>2018-10-19</td>\n",
       "      <td>50</td>\n",
       "      <td>42</td>\n",
       "      <td>10</td>\n",
       "      <td>2018</td>\n",
       "      <td>7.0</td>\n",
       "      <td>12672.142857</td>\n",
       "    </tr>\n",
       "    <tr>\n",
       "      <td>2</td>\n",
       "      <td>5500</td>\n",
       "      <td>2013.0</td>\n",
       "      <td>hyundai sonata</td>\n",
       "      <td>4</td>\n",
       "      <td>4</td>\n",
       "      <td>gas</td>\n",
       "      <td>110000</td>\n",
       "      <td>automatic</td>\n",
       "      <td>sedan</td>\n",
       "      <td>red</td>\n",
       "      <td>False</td>\n",
       "      <td>2019-02-07</td>\n",
       "      <td>79</td>\n",
       "      <td>6</td>\n",
       "      <td>2</td>\n",
       "      <td>2019</td>\n",
       "      <td>6.0</td>\n",
       "      <td>18333.333333</td>\n",
       "    </tr>\n",
       "    <tr>\n",
       "      <td>3</td>\n",
       "      <td>1500</td>\n",
       "      <td>2003.0</td>\n",
       "      <td>ford f-150</td>\n",
       "      <td>1</td>\n",
       "      <td>8</td>\n",
       "      <td>gas</td>\n",
       "      <td>113000</td>\n",
       "      <td>automatic</td>\n",
       "      <td>pickup</td>\n",
       "      <td>other</td>\n",
       "      <td>False</td>\n",
       "      <td>2019-03-22</td>\n",
       "      <td>9</td>\n",
       "      <td>12</td>\n",
       "      <td>3</td>\n",
       "      <td>2019</td>\n",
       "      <td>16.0</td>\n",
       "      <td>7062.500000</td>\n",
       "    </tr>\n",
       "    <tr>\n",
       "      <td>4</td>\n",
       "      <td>14900</td>\n",
       "      <td>2017.0</td>\n",
       "      <td>chrysler 200</td>\n",
       "      <td>3</td>\n",
       "      <td>4</td>\n",
       "      <td>gas</td>\n",
       "      <td>80903</td>\n",
       "      <td>automatic</td>\n",
       "      <td>sedan</td>\n",
       "      <td>black</td>\n",
       "      <td>False</td>\n",
       "      <td>2019-04-02</td>\n",
       "      <td>28</td>\n",
       "      <td>14</td>\n",
       "      <td>4</td>\n",
       "      <td>2019</td>\n",
       "      <td>2.0</td>\n",
       "      <td>40451.500000</td>\n",
       "    </tr>\n",
       "  </tbody>\n",
       "</table>\n",
       "</div>"
      ],
      "text/plain": [
       "   price  model_year           model  condition  cylinders fuel  odometer  \\\n",
       "0   9400      2011.0          bmw x5          2          6  gas    145000   \n",
       "1  25500      2011.0      ford f-150          2          6  gas     88705   \n",
       "2   5500      2013.0  hyundai sonata          4          4  gas    110000   \n",
       "3   1500      2003.0      ford f-150          1          8  gas    113000   \n",
       "4  14900      2017.0    chrysler 200          3          4  gas     80903   \n",
       "\n",
       "  transmission    type paint_color  is_4wd date_posted  days_listed  week  \\\n",
       "0    automatic     SUV       other    True  2018-06-23           19    25   \n",
       "1    automatic  pickup       white    True  2018-10-19           50    42   \n",
       "2    automatic   sedan         red   False  2019-02-07           79     6   \n",
       "3    automatic  pickup       other   False  2019-03-22            9    12   \n",
       "4    automatic   sedan       black   False  2019-04-02           28    14   \n",
       "\n",
       "   month  year   age  mileage_per_year  \n",
       "0      6  2018   7.0      20714.285714  \n",
       "1     10  2018   7.0      12672.142857  \n",
       "2      2  2019   6.0      18333.333333  \n",
       "3      3  2019  16.0       7062.500000  \n",
       "4      4  2019   2.0      40451.500000  "
      ]
     },
     "execution_count": 34,
     "metadata": {},
     "output_type": "execute_result"
    }
   ],
   "source": [
    "data.head()"
   ]
  },
  {
   "cell_type": "markdown",
   "metadata": {},
   "source": [
    "### Conclusion\n",
    "Finished data preprocessing, added new columns to our data so now I can make the main calculations and analysis more easily since I have the ready values interested me most of all like age of car and mileage per year. These two values are very important for us to see correlation between them and between price of the car. Also made numerical values in condition column since it is more comfortable for researching. The most selling cars are in excellent and good conditions and fewest are new and salvage. It makes sence because people more often sell a cars in good condition cause there is more chances to sell them in a good price. And rare people sell new cars and salvage. First because there is no sence to sell it once your just bought it, this is serious purchase which people wouldn't change so fast. Second because there's no luck to sell a car in a such a bad conditon."
   ]
  },
  {
   "cell_type": "markdown",
   "metadata": {},
   "source": [
    "## Carry out exploratory data analysis"
   ]
  },
  {
   "cell_type": "markdown",
   "metadata": {},
   "source": [
    "### To do list:\n",
    "Study the following parameters: price, vehicle's age when the ad was placed, mileage, number of cylinders, and condition. Plot histograms for each of these parameters. Study how outliers affect the form and readability of the histograms."
   ]
  },
  {
   "cell_type": "code",
   "execution_count": 35,
   "metadata": {},
   "outputs": [
    {
     "data": {
      "image/png": "[encoded data removed]",
      "text/plain": [
       "<Figure size 432x288 with 1 Axes>"
      ]
     },
     "metadata": {
      "needs_background": "light"
     },
     "output_type": "display_data"
    }
   ],
   "source": [
    "data['price'].hist(color='red')\n",
    "plt.title(\"Price researching histogram\")\n",
    "plt.xlabel(\"Price\")\n",
    "plt.show()"
   ]
  },
  {
   "cell_type": "code",
   "execution_count": 36,
   "metadata": {},
   "outputs": [
    {
     "data": {
      "image/png": "[encoded data removed]",
      "text/plain": [
       "<Figure size 432x288 with 1 Axes>"
      ]
     },
     "metadata": {
      "needs_background": "light"
     },
     "output_type": "display_data"
    }
   ],
   "source": [
    "data['age'].hist(color='blue')\n",
    "plt.title(\"Age researching histogram\")\n",
    "plt.xlabel(\"Age\")\n",
    "plt.show()"
   ]
  },
  {
   "cell_type": "code",
   "execution_count": 37,
   "metadata": {},
   "outputs": [
    {
     "data": {
      "image/png": "[encoded data removed]",
      "text/plain": [
       "<Figure size 432x288 with 1 Axes>"
      ]
     },
     "metadata": {
      "needs_background": "light"
     },
     "output_type": "display_data"
    }
   ],
   "source": [
    "data['mileage_per_year'].hist(color='green')\n",
    "plt.title(\"Mileage researching histogram\")\n",
    "plt.xlabel(\"Mileage per year\")\n",
    "plt.show()"
   ]
  },
  {
   "cell_type": "code",
   "execution_count": 38,
   "metadata": {},
   "outputs": [
    {
     "data": {
      "image/png": "[encoded data removed]",
      "text/plain": [
       "<Figure size 432x288 with 1 Axes>"
      ]
     },
     "metadata": {
      "needs_background": "light"
     },
     "output_type": "display_data"
    }
   ],
   "source": [
    "data['cylinders'].hist(color='yellow')\n",
    "plt.title(\"Number of cylinders researching histogram\")\n",
    "plt.xlabel(\"Cylinders\")\n",
    "plt.show()"
   ]
  },
  {
   "cell_type": "code",
   "execution_count": 39,
   "metadata": {},
   "outputs": [
    {
     "data": {
      "image/png": "[encoded data removed]",
      "text/plain": [
       "<Figure size 432x288 with 1 Axes>"
      ]
     },
     "metadata": {
      "needs_background": "light"
     },
     "output_type": "display_data"
    }
   ],
   "source": [
    "data['condition'].hist(color='purple')\n",
    "plt.title(\"Condition researching histogram\")\n",
    "plt.xlabel(\"Condition\")\n",
    "plt.show()"
   ]
  },
  {
   "cell_type": "markdown",
   "metadata": {},
   "source": [
    "### Conclusion\n",
    "After plotting histograms for the parameters: price, age, mileage, cylinders and condition I see that the first 3 histograms are not good enough for researching. Obviously there is outliers which we need to cut off to see the true picture of data in those categories. In price histogram we see separate price which is around 350.000$, it influence on our histogram and doesn't let us see the more details picture. The same is in histograms with age and mileage. "
   ]
  },
  {
   "cell_type": "markdown",
   "metadata": {},
   "source": [
    "### To do list:\n",
    "Determine the upper limits of outliers, remove the outliers and store them in a separate DataFrame, and continue your work with the filtered data."
   ]
  },
  {
   "cell_type": "code",
   "execution_count": 40,
   "metadata": {},
   "outputs": [
    {
     "data": {
      "text/plain": [
       "count     51525.000000\n",
       "mean      12132.464920\n",
       "std       10040.803015\n",
       "min           1.000000\n",
       "25%        5000.000000\n",
       "50%        9000.000000\n",
       "75%       16839.000000\n",
       "max      375000.000000\n",
       "Name: price, dtype: float64"
      ]
     },
     "execution_count": 40,
     "metadata": {},
     "output_type": "execute_result"
    }
   ],
   "source": [
    "data['price'].describe()\n"
   ]
  },
  {
   "cell_type": "code",
   "execution_count": 41,
   "metadata": {},
   "outputs": [
    {
     "data": {
      "image/png": "[encoded data removed]",
      "text/plain": [
       "<Figure size 432x288 with 1 Axes>"
      ]
     },
     "metadata": {
      "needs_background": "light"
     },
     "output_type": "display_data"
    }
   ],
   "source": [
    "data.boxplot(column='price')\n",
    "plt.title(\"Investigating price outliers\")\n",
    "plt.show()"
   ]
  },
  {
   "cell_type": "code",
   "execution_count": 42,
   "metadata": {},
   "outputs": [
    {
     "data": {
      "image/png": "[encoded data removed]",
      "text/plain": [
       "<Figure size 432x288 with 1 Axes>"
      ]
     },
     "metadata": {
      "needs_background": "light"
     },
     "output_type": "display_data"
    }
   ],
   "source": [
    "data.boxplot(column='price')\n",
    "plt.ylim(0, 40000)\n",
    "plt.title(\"Cutting price outliers\")\n",
    "plt.show()"
   ]
  },
  {
   "cell_type": "code",
   "execution_count": 43,
   "metadata": {},
   "outputs": [],
   "source": [
    "data_good = data.query('price <= 35000')"
   ]
  },
  {
   "cell_type": "code",
   "execution_count": 44,
   "metadata": {},
   "outputs": [
    {
     "data": {
      "text/plain": [
       "count    50111.000000\n",
       "mean         8.625272\n",
       "std          5.970140\n",
       "min          0.000000\n",
       "25%          5.000000\n",
       "50%          7.000000\n",
       "75%         12.000000\n",
       "max        110.000000\n",
       "Name: age, dtype: float64"
      ]
     },
     "execution_count": 44,
     "metadata": {},
     "output_type": "execute_result"
    }
   ],
   "source": [
    "data_good['age'].describe()"
   ]
  },
  {
   "cell_type": "code",
   "execution_count": 45,
   "metadata": {},
   "outputs": [
    {
     "data": {
      "image/png": "[encoded data removed]",
      "text/plain": [
       "<Figure size 432x288 with 1 Axes>"
      ]
     },
     "metadata": {
      "needs_background": "light"
     },
     "output_type": "display_data"
    }
   ],
   "source": [
    "data_good.boxplot(column='age')\n",
    "plt.title(\"Investigating age outliers\")\n",
    "plt.show()"
   ]
  },
  {
   "cell_type": "code",
   "execution_count": 46,
   "metadata": {},
   "outputs": [
    {
     "data": {
      "image/png": "[encoded data removed]",
      "text/plain": [
       "<Figure size 432x288 with 1 Axes>"
      ]
     },
     "metadata": {
      "needs_background": "light"
     },
     "output_type": "display_data"
    }
   ],
   "source": [
    "data_good.boxplot(column='age')\n",
    "plt.ylim(0, 25)\n",
    "plt.title(\"Cutting Age outliers\")\n",
    "plt.show()"
   ]
  },
  {
   "cell_type": "code",
   "execution_count": 47,
   "metadata": {},
   "outputs": [],
   "source": [
    "data_good = data_good.query('age <= 22')"
   ]
  },
  {
   "cell_type": "code",
   "execution_count": 48,
   "metadata": {},
   "outputs": [
    {
     "data": {
      "text/plain": [
       "count     49077.000000\n",
       "mean      19111.368821\n",
       "std       16268.397487\n",
       "min           0.000000\n",
       "25%       10680.555556\n",
       "50%       15285.714286\n",
       "75%       22142.857143\n",
       "max      373200.000000\n",
       "Name: mileage_per_year, dtype: float64"
      ]
     },
     "execution_count": 48,
     "metadata": {},
     "output_type": "execute_result"
    }
   ],
   "source": [
    "data_good['mileage_per_year'].describe()"
   ]
  },
  {
   "cell_type": "code",
   "execution_count": 49,
   "metadata": {},
   "outputs": [
    {
     "data": {
      "image/png": "[encoded data removed]",
      "text/plain": [
       "<Figure size 432x288 with 1 Axes>"
      ]
     },
     "metadata": {
      "needs_background": "light"
     },
     "output_type": "display_data"
    }
   ],
   "source": [
    "data_good.boxplot('mileage_per_year')\n",
    "plt.title(\"Investigating mileage outliers\")\n",
    "plt.show()"
   ]
  },
  {
   "cell_type": "code",
   "execution_count": 50,
   "metadata": {},
   "outputs": [
    {
     "data": {
      "image/png": "[encoded data removed]",
      "text/plain": [
       "<Figure size 432x288 with 1 Axes>"
      ]
     },
     "metadata": {
      "needs_background": "light"
     },
     "output_type": "display_data"
    }
   ],
   "source": [
    "data_good.boxplot(column='mileage_per_year')\n",
    "plt.ylim(0, 40000)\n",
    "plt.title(\"Cutting mileage outliers\")\n",
    "plt.show()"
   ]
  },
  {
   "cell_type": "code",
   "execution_count": 51,
   "metadata": {},
   "outputs": [],
   "source": [
    "data_good = data_good.query('mileage_per_year <= 39000')"
   ]
  },
  {
   "cell_type": "code",
   "execution_count": 52,
   "metadata": {},
   "outputs": [
    {
     "data": {
      "image/png": "[encoded data removed]",
      "text/plain": [
       "<Figure size 432x288 with 1 Axes>"
      ]
     },
     "metadata": {
      "needs_background": "light"
     },
     "output_type": "display_data"
    }
   ],
   "source": [
    "data_good.boxplot(column='cylinders')\n",
    "plt.title(\"Investigating cylinder outliers\")\n",
    "plt.show()"
   ]
  },
  {
   "cell_type": "code",
   "execution_count": 53,
   "metadata": {},
   "outputs": [
    {
     "data": {
      "image/png": "[encoded data removed]",
      "text/plain": [
       "<Figure size 432x288 with 1 Axes>"
      ]
     },
     "metadata": {
      "needs_background": "light"
     },
     "output_type": "display_data"
    }
   ],
   "source": [
    "data_good.boxplot(column='condition')\n",
    "plt.title(\"Investigating condition outliers\")\n",
    "plt.show()"
   ]
  },
  {
   "cell_type": "code",
   "execution_count": 54,
   "metadata": {},
   "outputs": [],
   "source": [
    "data_good = data_good.query('0 <= condition <= 5')"
   ]
  },
  {
   "cell_type": "markdown",
   "metadata": {},
   "source": [
    "### Conclusion\n",
    "Using boxplotes gave us a very detail picture of our data. As I said previously in 3 columns were outliers which we can see on the boxplotes. So we had outstanding prices from 35000 to 350000 USD, age more then 100 years and mileage over the 350000km. In the column condition also were a small outliers because people rare sell new or salvage cars. I filtered those outliers and now our data is accurate and clean for the further calculations"
   ]
  },
  {
   "cell_type": "markdown",
   "metadata": {},
   "source": [
    "### To do list:\n",
    "Use the filtered data to plot new histograms. Compare them with the earlier histograms (the ones that included outliers). Draw conclusions for each histogram.\n"
   ]
  },
  {
   "cell_type": "code",
   "execution_count": 55,
   "metadata": {},
   "outputs": [
    {
     "data": {
      "image/png": "[encoded data removed]",
      "text/plain": [
       "<Figure size 432x288 with 1 Axes>"
      ]
     },
     "metadata": {
      "needs_background": "light"
     },
     "output_type": "display_data"
    }
   ],
   "source": [
    "data_good['price'].hist(color='red')\n",
    "plt.title(\"Price researching histogram\")\n",
    "plt.xlabel(\"Price\")\n",
    "plt.show()"
   ]
  },
  {
   "cell_type": "markdown",
   "metadata": {},
   "source": [
    "#### Now we see normal dispersion. The most cars have a price range 3500-6500 dollars, less with price of 6500-10000, third place is the most cheap cars below 3500, then we see that the more expensive car the less advertising we have."
   ]
  },
  {
   "cell_type": "code",
   "execution_count": 56,
   "metadata": {},
   "outputs": [
    {
     "data": {
      "image/png": "[encoded data removed]",
      "text/plain": [
       "<Figure size 432x288 with 1 Axes>"
      ]
     },
     "metadata": {
      "needs_background": "light"
     },
     "output_type": "display_data"
    }
   ],
   "source": [
    "data_good['age'].hist(color='blue')\n",
    "plt.title(\"Age researching histogram\")\n",
    "plt.xlabel(\"Age\")\n",
    "plt.show()"
   ]
  },
  {
   "cell_type": "markdown",
   "metadata": {},
   "source": [
    "#### The biggest category is cars which 6-7 years old, then 11-12, 4-6, 2-4 and 6-11 years old. The interesting thing that there is a pretty big amount of new cars. And also we see the eldest car is the less ads we have"
   ]
  },
  {
   "cell_type": "code",
   "execution_count": 57,
   "metadata": {},
   "outputs": [
    {
     "data": {
      "image/png": "[encoded data removed]",
      "text/plain": [
       "<Figure size 432x288 with 1 Axes>"
      ]
     },
     "metadata": {
      "needs_background": "light"
     },
     "output_type": "display_data"
    }
   ],
   "source": [
    "data_good['mileage_per_year'].hist(color='green')\n",
    "plt.title(\"Mileage researching histogram\")\n",
    "plt.xlabel(\"Mileage per year\")\n",
    "plt.show()"
   ]
  },
  {
   "cell_type": "markdown",
   "metadata": {},
   "source": [
    "#### We have the same picture as on previous 2 histograms: the biggest category is cars with average mileage, less with small and as bigger mileage the less ads on the website"
   ]
  },
  {
   "cell_type": "code",
   "execution_count": 58,
   "metadata": {},
   "outputs": [
    {
     "data": {
      "image/png": "[encoded data removed]",
      "text/plain": [
       "<Figure size 432x288 with 1 Axes>"
      ]
     },
     "metadata": {
      "needs_background": "light"
     },
     "output_type": "display_data"
    }
   ],
   "source": [
    "data_good['cylinders'].hist(color='yellow')\n",
    "plt.title(\"Cylinders researching histogram\")\n",
    "plt.xlabel(\"Cylinders\")\n",
    "plt.show()"
   ]
  },
  {
   "cell_type": "markdown",
   "metadata": {},
   "source": [
    "#### The most common cars with 6, 8 and 4 cylinders, rest are not so popular"
   ]
  },
  {
   "cell_type": "code",
   "execution_count": 59,
   "metadata": {},
   "outputs": [
    {
     "data": {
      "image/png": "[encoded data removed]",
      "text/plain": [
       "<Figure size 432x288 with 1 Axes>"
      ]
     },
     "metadata": {
      "needs_background": "light"
     },
     "output_type": "display_data"
    }
   ],
   "source": [
    "data_good['condition'].hist(color='purple')\n",
    "plt.title(\"Condition researching histogram\")\n",
    "plt.xlabel(\"Condition\")\n",
    "plt.show()"
   ]
  },
  {
   "cell_type": "markdown",
   "metadata": {},
   "source": [
    "#### The most selling cars are in excellent and good conditions. Rest of ads take a small part of all advertisement."
   ]
  },
  {
   "cell_type": "markdown",
   "metadata": {},
   "source": [
    "### To do list:\n",
    "Study how many days advertisements were displayed (days_listed). Plot a histogram. Calculate the mean and median. Describe the typical lifetime of an ad. Determine when ads were removed quickly, and when they were listed for an abnormally long time."
   ]
  },
  {
   "cell_type": "code",
   "execution_count": 60,
   "metadata": {},
   "outputs": [
    {
     "data": {
      "image/png": "[encoded data removed]",
      "text/plain": [
       "<Figure size 432x288 with 1 Axes>"
      ]
     },
     "metadata": {
      "needs_background": "light"
     },
     "output_type": "display_data"
    }
   ],
   "source": [
    "data_good['days_listed'].plot(kind='hist', bins=10, title='Days listed')\n",
    "plt.xlabel(\"Days of listing\")\n",
    "plt.ylabel(\"Amount of listings\")\n",
    "plt.show()"
   ]
  },
  {
   "cell_type": "code",
   "execution_count": 61,
   "metadata": {},
   "outputs": [
    {
     "data": {
      "text/plain": [
       "count    45911.000000\n",
       "mean        39.549999\n",
       "std         28.208028\n",
       "min          0.000000\n",
       "25%         19.000000\n",
       "50%         33.000000\n",
       "75%         53.000000\n",
       "max        271.000000\n",
       "Name: days_listed, dtype: float64"
      ]
     },
     "execution_count": 61,
     "metadata": {},
     "output_type": "execute_result"
    }
   ],
   "source": [
    "data_good['days_listed'].describe()"
   ]
  },
  {
   "cell_type": "markdown",
   "metadata": {},
   "source": [
    "####  The mean and median in the describe method shows us that the most ads were removed in the first month.  After two months the amount of ads reduces. The more time spent the more ads were removed."
   ]
  },
  {
   "cell_type": "markdown",
   "metadata": {},
   "source": [
    "### To do list:\n",
    "Analyze the number of ads and the average price for each type of vehicle. Plot a graph showing the dependence of the number of ads on the vehicle type. Select the two types with the greatest number of ads."
   ]
  },
  {
   "cell_type": "code",
   "execution_count": 62,
   "metadata": {},
   "outputs": [
    {
     "data": {
      "image/png": "[encoded data removed]",
      "text/plain": [
       "<Figure size 864x360 with 1 Axes>"
      ]
     },
     "metadata": {
      "needs_background": "light"
     },
     "output_type": "display_data"
    }
   ],
   "source": [
    "(data_good \n",
    "          .pivot_table(index='type', values='price', aggfunc=['count', 'mean','median'])\n",
    "          .plot(grid=True, figsize=(12, 5))\n",
    ")\n",
    "plt.xlabel(\"Type of vehicle\")\n",
    "plt.ylabel(\"Price\")\n",
    "plt.legend(bbox_to_anchor=(1, 0.6), title='Dependence of the number of ads')\n",
    "plt.show()"
   ]
  },
  {
   "cell_type": "markdown",
   "metadata": {},
   "source": [
    "#### According to the graph the greatest number of ads have SUV and pickup types of vehicles"
   ]
  },
  {
   "cell_type": "markdown",
   "metadata": {},
   "source": [
    "### List to do:\n",
    "What factors impact the price most? Take each of the popular types you detected at the previous stage and study whether the price depends on age, mileage, condition, transmission type, and color. For categorical variables (transmission type and color), plot box-and-whisker charts, and create scatterplots for the rest. When analyzing categorical variables, note that the categories must have at least 50 ads; otherwise, their parameters won't be valid for analysis."
   ]
  },
  {
   "cell_type": "code",
   "execution_count": 63,
   "metadata": {},
   "outputs": [
    {
     "data": {
      "text/plain": [
       "automatic    41984\n",
       "manual        2413\n",
       "other         1514\n",
       "Name: transmission, dtype: int64"
      ]
     },
     "execution_count": 63,
     "metadata": {},
     "output_type": "execute_result"
    }
   ],
   "source": [
    "data_good['transmission'].value_counts()"
   ]
  },
  {
   "cell_type": "code",
   "execution_count": 64,
   "metadata": {},
   "outputs": [
    {
     "data": {
      "text/plain": [
       "white     8587\n",
       "other     8250\n",
       "black     6762\n",
       "silver    5773\n",
       "grey      4543\n",
       "blue      4084\n",
       "red       3953\n",
       "green     1286\n",
       "brown     1132\n",
       "custom    1064\n",
       "orange     205\n",
       "yellow     182\n",
       "purple      90\n",
       "Name: paint_color, dtype: int64"
      ]
     },
     "execution_count": 64,
     "metadata": {},
     "output_type": "execute_result"
    }
   ],
   "source": [
    "data_good['paint_color'].value_counts()"
   ]
  },
  {
   "cell_type": "code",
   "execution_count": 65,
   "metadata": {},
   "outputs": [
    {
     "data": {
      "image/png": "[encoded data removed]",
      "text/plain": [
       "<Figure size 432x288 with 2 Axes>"
      ]
     },
     "metadata": {
      "needs_background": "light"
     },
     "output_type": "display_data"
    },
    {
     "data": {
      "image/png": "[encoded data removed]",
      "text/plain": [
       "<Figure size 432x288 with 2 Axes>"
      ]
     },
     "metadata": {
      "needs_background": "light"
     },
     "output_type": "display_data"
    }
   ],
   "source": [
    "(data_good\n",
    "          .query('type == \"SUV\"')\n",
    "          .plot(x='age', y='price', kind='hexbin', gridsize=12, sharex=False, title='Dependence the price from the age of the car for SUV type')\n",
    ")\n",
    "(data_good\n",
    "          .query('type == \"pickup\"')\n",
    "          .plot(x='age', y='price', kind='hexbin', gridsize=12, sharex=False, title='Dependence the price from the age of the car for pickup type')\n",
    ")\n",
    "plt.show()"
   ]
  },
  {
   "cell_type": "markdown",
   "metadata": {},
   "source": [
    "#### Here we see that for the SUV type the most ads for cars 5-7 years old and for the price 5000-10000 USD. Also we see a lot of ads for elder cars and the price almost the same till 15 years old. And as we could prognose the newest cars have the highest price, and eldest ones have the lowest price. For the pickup type picture is little bit different. We can see that the most ads are for cars with the price 10000-15000 USD, and also we see that the popular car age for selling pickups is longer, a lot of ads for cars 12-15 years old. Maybe it connected with the type, since pickup mostly a type car for work, so I assume that it could be in use longer. Also I see bigger dispersion then we had for SUV type, we can see a lot of ads for new cars with a pretty high price like 25000-30000 USD."
   ]
  },
  {
   "cell_type": "code",
   "execution_count": 66,
   "metadata": {},
   "outputs": [
    {
     "data": {
      "image/png": "[encoded data removed]",
      "text/plain": [
       "<Figure size 432x288 with 2 Axes>"
      ]
     },
     "metadata": {
      "needs_background": "light"
     },
     "output_type": "display_data"
    },
    {
     "data": {
      "image/png": "[encoded data removed]",
      "text/plain": [
       "<Figure size 432x288 with 2 Axes>"
      ]
     },
     "metadata": {
      "needs_background": "light"
     },
     "output_type": "display_data"
    }
   ],
   "source": [
    "(data_good\n",
    "          .query('type == \"SUV\"')\n",
    "          .plot(x='odometer', y='price', kind='hexbin', gridsize=12, sharex=False, title='Dependence the price from the mileage of the car for SUV type')\n",
    ")\n",
    "(data_good\n",
    "          .query('type == \"pickup\"')\n",
    "          .plot(x='odometer', y='price', kind='hexbin', gridsize=12, sharex=False, title='Dependence the price from the mileage of the car for pickup type')\n",
    ")\n",
    "plt.show()"
   ]
  },
  {
   "cell_type": "markdown",
   "metadata": {},
   "source": [
    "#### About how the price dependent on mileage we see the same picture as in previous plots. The pickup type has a bigger dispersion then the SUV type. In SUV type we see that the most of ads are for the cars with a little bit more then 100000km mileage and price for 10000 USD, while the pickups beeing in the same odometer range have more prices diversity from 5000 USD to 15000USD. I think it depends of technical characteristics of pickup cars."
   ]
  },
  {
   "cell_type": "code",
   "execution_count": 67,
   "metadata": {},
   "outputs": [
    {
     "data": {
      "text/plain": [
       "<matplotlib.axes._subplots.AxesSubplot at 0x7f6e302a9e50>"
      ]
     },
     "execution_count": 67,
     "metadata": {},
     "output_type": "execute_result"
    },
    {
     "data": {
      "image/png": "[encoded data removed]",
      "text/plain": [
       "<Figure size 432x288 with 2 Axes>"
      ]
     },
     "metadata": {
      "needs_background": "light"
     },
     "output_type": "display_data"
    },
    {
     "data": {
      "image/png": "[encoded data removed]",
      "text/plain": [
       "<Figure size 432x288 with 2 Axes>"
      ]
     },
     "metadata": {
      "needs_background": "light"
     },
     "output_type": "display_data"
    }
   ],
   "source": [
    "(data_good\n",
    "          .query('type == \"SUV\"')\n",
    "          .plot(x='condition', y='price', kind='hexbin', gridsize=12, sharex=False, title='Dependence the price from the condition of the car for SUV type')\n",
    ")\n",
    "(data_good\n",
    "          .query('type == \"pickup\"')\n",
    "          .plot(x='condition', y='price', kind='hexbin', gridsize=12, sharex=False, title='Dependence the price from the condition of the car for pickup type')\n",
    ")"
   ]
  },
  {
   "cell_type": "markdown",
   "metadata": {},
   "source": [
    "#### According to condition the most cars of two type are in excellent and good conditions, here we see the identical picture. But the price for pickup type of cars has a bigger range."
   ]
  },
  {
   "cell_type": "code",
   "execution_count": 68,
   "metadata": {},
   "outputs": [
    {
     "data": {
      "text/html": [
       "<div>\n",
       "<style scoped>\n",
       "    .dataframe tbody tr th:only-of-type {\n",
       "        vertical-align: middle;\n",
       "    }\n",
       "\n",
       "    .dataframe tbody tr th {\n",
       "        vertical-align: top;\n",
       "    }\n",
       "\n",
       "    .dataframe thead th {\n",
       "        text-align: right;\n",
       "    }\n",
       "</style>\n",
       "<table border=\"1\" class=\"dataframe\">\n",
       "  <thead>\n",
       "    <tr style=\"text-align: right;\">\n",
       "      <th></th>\n",
       "      <th>price</th>\n",
       "      <th>model_year</th>\n",
       "      <th>condition</th>\n",
       "      <th>cylinders</th>\n",
       "      <th>odometer</th>\n",
       "      <th>is_4wd</th>\n",
       "      <th>days_listed</th>\n",
       "      <th>week</th>\n",
       "      <th>month</th>\n",
       "      <th>year</th>\n",
       "      <th>age</th>\n",
       "      <th>mileage_per_year</th>\n",
       "    </tr>\n",
       "  </thead>\n",
       "  <tbody>\n",
       "    <tr>\n",
       "      <td>price</td>\n",
       "      <td>1.000000</td>\n",
       "      <td>0.504040</td>\n",
       "      <td>0.195755</td>\n",
       "      <td>0.290305</td>\n",
       "      <td>-0.413896</td>\n",
       "      <td>0.330804</td>\n",
       "      <td>-0.002372</td>\n",
       "      <td>-0.023364</td>\n",
       "      <td>-0.023453</td>\n",
       "      <td>0.023377</td>\n",
       "      <td>-0.501533</td>\n",
       "      <td>0.187354</td>\n",
       "    </tr>\n",
       "    <tr>\n",
       "      <td>model_year</td>\n",
       "      <td>0.504040</td>\n",
       "      <td>1.000000</td>\n",
       "      <td>0.274829</td>\n",
       "      <td>-0.141550</td>\n",
       "      <td>-0.551824</td>\n",
       "      <td>-0.018378</td>\n",
       "      <td>-0.002945</td>\n",
       "      <td>-0.042979</td>\n",
       "      <td>-0.042544</td>\n",
       "      <td>0.043914</td>\n",
       "      <td>-0.995267</td>\n",
       "      <td>0.525896</td>\n",
       "    </tr>\n",
       "    <tr>\n",
       "      <td>condition</td>\n",
       "      <td>0.195755</td>\n",
       "      <td>0.274829</td>\n",
       "      <td>1.000000</td>\n",
       "      <td>-0.071321</td>\n",
       "      <td>-0.268702</td>\n",
       "      <td>0.000397</td>\n",
       "      <td>0.000188</td>\n",
       "      <td>-0.008791</td>\n",
       "      <td>-0.008307</td>\n",
       "      <td>0.010613</td>\n",
       "      <td>-0.273670</td>\n",
       "      <td>0.048442</td>\n",
       "    </tr>\n",
       "    <tr>\n",
       "      <td>cylinders</td>\n",
       "      <td>0.290305</td>\n",
       "      <td>-0.141550</td>\n",
       "      <td>-0.071321</td>\n",
       "      <td>1.000000</td>\n",
       "      <td>0.108030</td>\n",
       "      <td>0.391763</td>\n",
       "      <td>0.004607</td>\n",
       "      <td>0.003484</td>\n",
       "      <td>0.002629</td>\n",
       "      <td>-0.001775</td>\n",
       "      <td>0.141312</td>\n",
       "      <td>-0.045221</td>\n",
       "    </tr>\n",
       "    <tr>\n",
       "      <td>odometer</td>\n",
       "      <td>-0.413896</td>\n",
       "      <td>-0.551824</td>\n",
       "      <td>-0.268702</td>\n",
       "      <td>0.108030</td>\n",
       "      <td>1.000000</td>\n",
       "      <td>0.052746</td>\n",
       "      <td>0.006826</td>\n",
       "      <td>0.017299</td>\n",
       "      <td>0.018307</td>\n",
       "      <td>-0.014377</td>\n",
       "      <td>0.550171</td>\n",
       "      <td>0.244270</td>\n",
       "    </tr>\n",
       "    <tr>\n",
       "      <td>is_4wd</td>\n",
       "      <td>0.330804</td>\n",
       "      <td>-0.018378</td>\n",
       "      <td>0.000397</td>\n",
       "      <td>0.391763</td>\n",
       "      <td>0.052746</td>\n",
       "      <td>1.000000</td>\n",
       "      <td>0.002742</td>\n",
       "      <td>0.004355</td>\n",
       "      <td>0.003295</td>\n",
       "      <td>-0.000861</td>\n",
       "      <td>0.018285</td>\n",
       "      <td>0.043987</td>\n",
       "    </tr>\n",
       "    <tr>\n",
       "      <td>days_listed</td>\n",
       "      <td>-0.002372</td>\n",
       "      <td>-0.002945</td>\n",
       "      <td>0.000188</td>\n",
       "      <td>0.004607</td>\n",
       "      <td>0.006826</td>\n",
       "      <td>0.002742</td>\n",
       "      <td>1.000000</td>\n",
       "      <td>-0.012370</td>\n",
       "      <td>-0.010630</td>\n",
       "      <td>0.011608</td>\n",
       "      <td>0.004073</td>\n",
       "      <td>-0.000106</td>\n",
       "    </tr>\n",
       "    <tr>\n",
       "      <td>week</td>\n",
       "      <td>-0.023364</td>\n",
       "      <td>-0.042979</td>\n",
       "      <td>-0.008791</td>\n",
       "      <td>0.003484</td>\n",
       "      <td>0.017299</td>\n",
       "      <td>0.004355</td>\n",
       "      <td>-0.012370</td>\n",
       "      <td>1.000000</td>\n",
       "      <td>0.981867</td>\n",
       "      <td>-0.812337</td>\n",
       "      <td>-0.036059</td>\n",
       "      <td>0.076728</td>\n",
       "    </tr>\n",
       "    <tr>\n",
       "      <td>month</td>\n",
       "      <td>-0.023453</td>\n",
       "      <td>-0.042544</td>\n",
       "      <td>-0.008307</td>\n",
       "      <td>0.002629</td>\n",
       "      <td>0.018307</td>\n",
       "      <td>0.003295</td>\n",
       "      <td>-0.010630</td>\n",
       "      <td>0.981867</td>\n",
       "      <td>1.000000</td>\n",
       "      <td>-0.821314</td>\n",
       "      <td>-0.037366</td>\n",
       "      <td>0.079392</td>\n",
       "    </tr>\n",
       "    <tr>\n",
       "      <td>year</td>\n",
       "      <td>0.023377</td>\n",
       "      <td>0.043914</td>\n",
       "      <td>0.010613</td>\n",
       "      <td>-0.001775</td>\n",
       "      <td>-0.014377</td>\n",
       "      <td>-0.000861</td>\n",
       "      <td>0.011608</td>\n",
       "      <td>-0.812337</td>\n",
       "      <td>-0.821314</td>\n",
       "      <td>1.000000</td>\n",
       "      <td>0.053379</td>\n",
       "      <td>-0.096002</td>\n",
       "    </tr>\n",
       "    <tr>\n",
       "      <td>age</td>\n",
       "      <td>-0.501533</td>\n",
       "      <td>-0.995267</td>\n",
       "      <td>-0.273670</td>\n",
       "      <td>0.141312</td>\n",
       "      <td>0.550171</td>\n",
       "      <td>0.018285</td>\n",
       "      <td>0.004073</td>\n",
       "      <td>-0.036059</td>\n",
       "      <td>-0.037366</td>\n",
       "      <td>0.053379</td>\n",
       "      <td>1.000000</td>\n",
       "      <td>-0.534991</td>\n",
       "    </tr>\n",
       "    <tr>\n",
       "      <td>mileage_per_year</td>\n",
       "      <td>0.187354</td>\n",
       "      <td>0.525896</td>\n",
       "      <td>0.048442</td>\n",
       "      <td>-0.045221</td>\n",
       "      <td>0.244270</td>\n",
       "      <td>0.043987</td>\n",
       "      <td>-0.000106</td>\n",
       "      <td>0.076728</td>\n",
       "      <td>0.079392</td>\n",
       "      <td>-0.096002</td>\n",
       "      <td>-0.534991</td>\n",
       "      <td>1.000000</td>\n",
       "    </tr>\n",
       "  </tbody>\n",
       "</table>\n",
       "</div>"
      ],
      "text/plain": [
       "                     price  model_year  condition  cylinders  odometer  \\\n",
       "price             1.000000    0.504040   0.195755   0.290305 -0.413896   \n",
       "model_year        0.504040    1.000000   0.274829  -0.141550 -0.551824   \n",
       "condition         0.195755    0.274829   1.000000  -0.071321 -0.268702   \n",
       "cylinders         0.290305   -0.141550  -0.071321   1.000000  0.108030   \n",
       "odometer         -0.413896   -0.551824  -0.268702   0.108030  1.000000   \n",
       "is_4wd            0.330804   -0.018378   0.000397   0.391763  0.052746   \n",
       "days_listed      -0.002372   -0.002945   0.000188   0.004607  0.006826   \n",
       "week             -0.023364   -0.042979  -0.008791   0.003484  0.017299   \n",
       "month            -0.023453   -0.042544  -0.008307   0.002629  0.018307   \n",
       "year              0.023377    0.043914   0.010613  -0.001775 -0.014377   \n",
       "age              -0.501533   -0.995267  -0.273670   0.141312  0.550171   \n",
       "mileage_per_year  0.187354    0.525896   0.048442  -0.045221  0.244270   \n",
       "\n",
       "                    is_4wd  days_listed      week     month      year  \\\n",
       "price             0.330804    -0.002372 -0.023364 -0.023453  0.023377   \n",
       "model_year       -0.018378    -0.002945 -0.042979 -0.042544  0.043914   \n",
       "condition         0.000397     0.000188 -0.008791 -0.008307  0.010613   \n",
       "cylinders         0.391763     0.004607  0.003484  0.002629 -0.001775   \n",
       "odometer          0.052746     0.006826  0.017299  0.018307 -0.014377   \n",
       "is_4wd            1.000000     0.002742  0.004355  0.003295 -0.000861   \n",
       "days_listed       0.002742     1.000000 -0.012370 -0.010630  0.011608   \n",
       "week              0.004355    -0.012370  1.000000  0.981867 -0.812337   \n",
       "month             0.003295    -0.010630  0.981867  1.000000 -0.821314   \n",
       "year             -0.000861     0.011608 -0.812337 -0.821314  1.000000   \n",
       "age               0.018285     0.004073 -0.036059 -0.037366  0.053379   \n",
       "mileage_per_year  0.043987    -0.000106  0.076728  0.079392 -0.096002   \n",
       "\n",
       "                       age  mileage_per_year  \n",
       "price            -0.501533          0.187354  \n",
       "model_year       -0.995267          0.525896  \n",
       "condition        -0.273670          0.048442  \n",
       "cylinders         0.141312         -0.045221  \n",
       "odometer          0.550171          0.244270  \n",
       "is_4wd            0.018285          0.043987  \n",
       "days_listed       0.004073         -0.000106  \n",
       "week             -0.036059          0.076728  \n",
       "month            -0.037366          0.079392  \n",
       "year              0.053379         -0.096002  \n",
       "age               1.000000         -0.534991  \n",
       "mileage_per_year -0.534991          1.000000  "
      ]
     },
     "execution_count": 68,
     "metadata": {},
     "output_type": "execute_result"
    }
   ],
   "source": [
    "matrix = data_good.corr()\n",
    "matrix"
   ]
  },
  {
   "cell_type": "code",
   "execution_count": 69,
   "metadata": {},
   "outputs": [
    {
     "data": {
      "image/png": "[encoded data removed]",
      "text/plain": [
       "<Figure size 432x288 with 2 Axes>"
      ]
     },
     "metadata": {
      "needs_background": "light"
     },
     "output_type": "display_data"
    },
    {
     "data": {
      "text/plain": [
       "<Figure size 648x360 with 0 Axes>"
      ]
     },
     "metadata": {},
     "output_type": "display_data"
    }
   ],
   "source": [
    "sn.heatmap(matrix, annot=True, fmt='.1g', vmin=-1, vmax=1, center=0, cmap='coolwarm', linewidths=3, linecolor='black')\n",
    "plt.title('Correlation matrix for vehicle website')\n",
    "plt.figure(figsize=(9, 5))\n",
    "plt.show()"
   ]
  },
  {
   "cell_type": "markdown",
   "metadata": {},
   "source": [
    "#### Here we see where we have the biggest correlation between such factors as price, mileage, model year and type of the car."
   ]
  },
  {
   "cell_type": "code",
   "execution_count": 70,
   "metadata": {},
   "outputs": [
    {
     "data": {
      "image/png": "[encoded data removed]",
      "text/plain": [
       "<Figure size 864x432 with 1 Axes>"
      ]
     },
     "metadata": {
      "needs_background": "light"
     },
     "output_type": "display_data"
    },
    {
     "data": {
      "image/png": "[encoded data removed]",
      "text/plain": [
       "<Figure size 864x432 with 1 Axes>"
      ]
     },
     "metadata": {
      "needs_background": "light"
     },
     "output_type": "display_data"
    }
   ],
   "source": [
    "(data_good\n",
    "          .query('type == \"SUV\"')\n",
    "          .pivot_table(index='transmission', values='price', aggfunc=['mean', 'count', 'median'])\n",
    "          .plot(kind='bar', grid=True, figsize=(12, 6), title='Dependence of price from transmission type for SUV cars')\n",
    ")\n",
    "plt.ylabel(\"Price\")\n",
    "plt.legend(bbox_to_anchor=(1, 0.6), title='Dependence of of price from transmission type')\n",
    "(data_good\n",
    "          .query('type == \"pickup\"')\n",
    "          .pivot_table(index='transmission', values='price', aggfunc=['mean', 'count', 'median'])\n",
    "          .plot(kind='bar', grid=True, figsize=(12, 6), title='Dependence of price from transmission type for pickup cars')\n",
    ")\n",
    "plt.ylabel(\"Price\")\n",
    "plt.legend(bbox_to_anchor=(1, 0.6), title='Dependence of of price from transmission type')\n",
    "plt.show()"
   ]
  },
  {
   "cell_type": "markdown",
   "metadata": {},
   "source": [
    "#### From the graphs we see that the most common transmission type is Automatic for both type of cars. SUV cars like as pickup cars with manual or other transmission are very rare, that's why we see such a high prices: for manual transmission for SUV cars and for other type of transmission for pickups"
   ]
  },
  {
   "cell_type": "code",
   "execution_count": 71,
   "metadata": {},
   "outputs": [
    {
     "data": {
      "image/png": "[encoded data removed]",
      "text/plain": [
       "<Figure size 864x432 with 1 Axes>"
      ]
     },
     "metadata": {
      "needs_background": "light"
     },
     "output_type": "display_data"
    },
    {
     "data": {
      "image/png": "[encoded data removed]",
      "text/plain": [
       "<Figure size 864x432 with 1 Axes>"
      ]
     },
     "metadata": {
      "needs_background": "light"
     },
     "output_type": "display_data"
    }
   ],
   "source": [
    "(data_good\n",
    "          .query('type == \"SUV\"')\n",
    "          .pivot_table(index='paint_color', values='price', aggfunc=['mean', 'count', 'median'])\n",
    "          .plot(kind='bar', grid=True, figsize=(12, 6), title='Dependence of price from color for SUV cars')\n",
    ")\n",
    "plt.ylabel(\"Price\")\n",
    "plt.legend(bbox_to_anchor=(1, 0.6), title='Dependence of price from color')\n",
    "(data_good\n",
    "          .query('type == \"pickup\"')\n",
    "          .pivot_table(index='paint_color', values='price', aggfunc=['mean', 'count', 'median'])\n",
    "          .plot(kind='bar', grid=True, figsize=(12, 6), title='Dependence of price from color for pickup cars')\n",
    ")\n",
    "plt.ylabel(\"Price\")\n",
    "plt.legend(bbox_to_anchor=(1, 0.6), title='Dependence of price from color')\n",
    "plt.show()"
   ]
  },
  {
   "cell_type": "markdown",
   "metadata": {},
   "source": [
    "#### The most expensive cars are those which are in orange column, for the SUV cars yellow color also expencive one, for pickups those cars which are in black and brown colors."
   ]
  },
  {
   "cell_type": "markdown",
   "metadata": {},
   "source": [
    "## Overall conclusion"
   ]
  },
  {
   "cell_type": "markdown",
   "metadata": {},
   "source": [
    " We had the dataset with 51525 rows and 13 columns. The types of data are: float64 - 4 columns, int64 - 2 columns and objext - 7 columns. From the info I saw missing values in columns model_year, cylinders, odometr, paint_color and the most in columns is_4wd. About model_year I may assume that some seller prefered not to indicate the year of car was produced because it could reduce the price the wanted for their car, same thing with odometer values. About amount of cylinders I think that not everyone knows those technical characteristics, especially if sellers are women. About paint_color, so probably some sellers didn't think it is the main car characteristic and prefered to skip this one. And at least, in the column is_4wd were almost 50% of missing values since it is boolean column, so all of those values are equal to 0, or False.\n",
    " After looking at the columns with missing values, first 3: model_year, cylinders and odometer had 5%-15% of missing values, so I decided to replace them on median and convert into int type, because there weren't a lot of them. In the column paint_color were a little bit more missing values. But the most of customers first choose car according its technical characteristics, so I decided to replace missing values with 'other' color, it will not damage results of our calculations. In the column 'is_4wd' since it is just information about is this particular car is 4_wd or not I replaced missing values with 0 and converted data type to boolean, so I was able to see the hole picture clear and understandable. And the last thing I did to prepare my data is convertation the date in column 'date_posted', so now we have the correct data type and memory usage reduced.\n",
    " Finished data preprocessing, added new columns to our data so I could make the main calculations and analysis more easily since I had the ready values interested me most of all like age of car and mileage per year. These two values are very important for us to see correlation between them and between price of the car. Also made numerical values in condition column since it is more comfortable for researching. The most selling cars are in excellent and good conditions and fewest are new and salvage. It makes sence because people more often sell a cars in good condition cause there is more chances to sell them in a good price. And rare people sell new cars and salvage. First because there is no sence to sell it once your just bought it, this is serious purchase which people wouldn't change so fast. Second because there's no luck to sell a car in a such a bad conditon.\n",
    " After plotting histograms for the parameters: price, age, mileage, cylinders and condition I saw that the first 3 histograms are not good enough for researching. Obviously there is outliers which I was needed to cut off to see the true picture of data in those categories. In price histogram I saw separate price which is around 350.000 USD, it influenced on our histogram and didn't let me see the more detail picture. The same was in histograms with age and mileage. \n",
    " Using boxplotes gave me a very detail picture of our data. As I said previously in 3 columns were outliers which we can see on the boxplotes. So we had outstanding prices from 35000 USD to 350000 USD, age more 100 years and mileage over the 350000km. In the column condition also were a small outliers because people rare sell new or salvage cars. I filtered those outliers and prepared the data for calculations.\n",
    " After cutting the outliers histograms showed me the next:\n",
    "   -  The most cars have a price range 3500-6500 dollars, less with price of 6500-10000, third place is the most cheap cars below 3500, then we see that the more expensive car the less advertising we have.\n",
    "   -  The biggest category is cars which 6-7 years old, then 11-12, 4-6, 2-4 and 6-11 years old. The interesting thing that there is a pretty big amount of new cars. And also we see the eldest car is the less ads we have.\n",
    "   -  The biggest category is cars with average mileage, less with small and as bigger mileage the less ads on the website.\n",
    "   -  The most common cars are with 6, 8 and 4 cylinders, rest are not so popular.\n",
    "   -  The most selling cars are in excellent and good conditions. Rest of ads take a small part of all advertisement.\n",
    " After researching the lifetime of advertising I assumed that the most ads were removed in the fisrt month, but still we see a weird peaks after 35 days. Probably sellers want to sell their cars and reduce the price after a month of advertising. After two months the amount of ads reduces. The more time spent the more ads were removed.\n",
    " According to the graph the greatest number of ads have SUV and pickup types of vehicles. So it was interesting to investigate how price depends on different factors using those two most common types of cars.\n",
    " Here we see that for the SUV type the most ads for cars 5-7 years old and for the price 5000-10000 USD. Also we see a lot of ads for elder cars and the price almost the same till 15 years old. And as we could prognose the newest cars have the highest price, and eldest ones have the lowest price. For the pickup type picture is little bit different. We can see that the most ads are for cars with the price 10000-15000 USD, and also we see that the popular car age for selling pickups is longer, a lot of ads for cars 12-15 years old. Maybe it connected with the type, since pickup mostly a type car for work, so I assume that it could be in use longer. Also I see bigger dispersion then we had for SUV type, we can see a lot of ads for new cars with a pretty high price like 25000-30000 USD.\n",
    " About how the price dependent on mileage we see the same picture as in previous plots. The pickup type has a bigger dispersion then the SUV type. In SUV type we see that the most of ads are for the cars with a little bit more then 100000km mileage and price for 10000 USD, while the pickups beeing in the same odometer range have more prices diversity from 5000 USD to 15000USD. I think it depends of technical characteristics of pickup cars.\n",
    " According to condition the most cars of two type are in excellent and good conditions, here we see the identical picture. But the price for pickup type of cars has a bigger range.\n",
    " From the graphs we see that the most common transmission type is Automatic for both type of cars. SUV cars like as pickup cars with manual or other transmission are very rare, that's why we see such a high prices: for manual transmission for SUV cars and for other type of transmission for pickups. For the SUV type cars I guess we see such situation because most of them are selling with Automatic transmission and since it is a modern type of car, if buyer wants manual transmission he should make a preorder for it, which is raise the price. The other transmission type could be robotic transmission which is expensive by itseld and also influence on the car price.\n",
    " The most expensive cars are those which are in orange column, for the SUV cars yellow color also expencive one, for pickups those cars which are in black and brown colors. Orange and yellow colors are not so common so maybe sellers also made a preorder whe bought those cars, and it affected the prices.\n",
    " \n",
    " \n",
    "\n",
    " \n",
    " \n",
    " "
   ]
  }
 ],
 "metadata": {
  "ExecuteTimeLog": [
   {
    "duration": 399,
    "start_time": "2021-10-19T17:46:15.827Z"
   },
   {
    "duration": 331,
    "start_time": "2021-10-19T17:47:05.017Z"
   },
   {
    "duration": 807,
    "start_time": "2021-10-19T17:47:51.967Z"
   },
   {
    "duration": 940,
    "start_time": "2021-10-19T17:47:52.777Z"
   },
   {
    "duration": 27,
    "start_time": "2021-10-19T17:48:29.131Z"
   },
   {
    "duration": 55,
    "start_time": "2021-10-19T17:49:46.991Z"
   },
   {
    "duration": 246,
    "start_time": "2021-10-21T04:36:05.549Z"
   },
   {
    "duration": 304,
    "start_time": "2021-10-21T04:36:20.430Z"
   },
   {
    "duration": 751,
    "start_time": "2021-10-21T04:36:39.279Z"
   },
   {
    "duration": 135,
    "start_time": "2021-10-21T04:36:41.468Z"
   },
   {
    "duration": 23,
    "start_time": "2021-10-21T04:36:53.460Z"
   },
   {
    "duration": 25,
    "start_time": "2021-10-21T04:37:32.570Z"
   },
   {
    "duration": 51,
    "start_time": "2021-10-21T04:37:53.610Z"
   },
   {
    "duration": 23,
    "start_time": "2021-10-21T04:48:44.230Z"
   },
   {
    "duration": 22,
    "start_time": "2021-10-21T05:47:24.093Z"
   },
   {
    "duration": 6,
    "start_time": "2021-10-21T05:48:20.273Z"
   },
   {
    "duration": 6,
    "start_time": "2021-10-21T05:48:32.283Z"
   },
   {
    "duration": 7,
    "start_time": "2021-10-21T05:52:00.116Z"
   },
   {
    "duration": 5,
    "start_time": "2021-10-21T05:53:41.467Z"
   },
   {
    "duration": 7,
    "start_time": "2021-10-21T05:53:45.321Z"
   },
   {
    "duration": 27,
    "start_time": "2021-10-21T05:53:56.767Z"
   },
   {
    "duration": 256,
    "start_time": "2021-10-24T13:27:32.299Z"
   },
   {
    "duration": 694,
    "start_time": "2021-10-24T13:27:41.679Z"
   },
   {
    "duration": 140,
    "start_time": "2021-10-24T13:27:44.579Z"
   },
   {
    "duration": 22,
    "start_time": "2021-10-24T13:27:52.176Z"
   },
   {
    "duration": 34,
    "start_time": "2021-10-24T13:27:55.646Z"
   },
   {
    "duration": 54,
    "start_time": "2021-10-24T13:28:00.865Z"
   },
   {
    "duration": 31,
    "start_time": "2021-10-24T13:28:09.032Z"
   },
   {
    "duration": 7,
    "start_time": "2021-10-24T13:28:13.097Z"
   },
   {
    "duration": 5,
    "start_time": "2021-10-24T13:28:16.570Z"
   },
   {
    "duration": 19,
    "start_time": "2021-10-24T13:28:19.563Z"
   },
   {
    "duration": 8,
    "start_time": "2021-10-24T13:28:52.363Z"
   },
   {
    "duration": 21,
    "start_time": "2021-10-24T13:29:05.950Z"
   },
   {
    "duration": 664,
    "start_time": "2021-10-25T12:29:09.972Z"
   },
   {
    "duration": 108,
    "start_time": "2021-10-25T12:29:10.638Z"
   },
   {
    "duration": 14,
    "start_time": "2021-10-25T12:29:10.748Z"
   },
   {
    "duration": 40,
    "start_time": "2021-10-25T12:29:10.764Z"
   },
   {
    "duration": 43,
    "start_time": "2021-10-25T12:29:10.806Z"
   },
   {
    "duration": 18,
    "start_time": "2021-10-25T12:29:10.851Z"
   },
   {
    "duration": 12,
    "start_time": "2021-10-25T12:29:10.882Z"
   },
   {
    "duration": 7,
    "start_time": "2021-10-25T12:29:10.896Z"
   },
   {
    "duration": 13,
    "start_time": "2021-10-25T12:29:10.905Z"
   },
   {
    "duration": 111,
    "start_time": "2021-10-25T12:29:10.920Z"
   },
   {
    "duration": -3974,
    "start_time": "2021-10-25T12:29:15.007Z"
   },
   {
    "duration": 12,
    "start_time": "2021-10-25T12:29:59.524Z"
   },
   {
    "duration": 4,
    "start_time": "2021-10-25T12:30:20.421Z"
   },
   {
    "duration": 20,
    "start_time": "2021-10-25T12:30:24.280Z"
   },
   {
    "duration": 6,
    "start_time": "2021-10-25T12:32:29.842Z"
   },
   {
    "duration": 4,
    "start_time": "2021-10-25T12:33:14.647Z"
   },
   {
    "duration": 16,
    "start_time": "2021-10-25T12:33:32.153Z"
   },
   {
    "duration": 416,
    "start_time": "2021-10-25T12:34:09.250Z"
   },
   {
    "duration": 5,
    "start_time": "2021-10-25T12:34:21.532Z"
   },
   {
    "duration": 12,
    "start_time": "2021-10-25T12:34:31.856Z"
   },
   {
    "duration": 7,
    "start_time": "2021-10-25T12:35:08.633Z"
   },
   {
    "duration": 15,
    "start_time": "2021-10-25T12:35:23.204Z"
   },
   {
    "duration": 4,
    "start_time": "2021-10-25T12:36:26.613Z"
   },
   {
    "duration": 13,
    "start_time": "2021-10-25T12:36:35.034Z"
   },
   {
    "duration": 3,
    "start_time": "2021-10-25T12:37:05.084Z"
   },
   {
    "duration": 17,
    "start_time": "2021-10-25T12:37:11.173Z"
   },
   {
    "duration": 17,
    "start_time": "2021-10-25T12:40:45.583Z"
   },
   {
    "duration": 20,
    "start_time": "2021-10-25T12:40:55.673Z"
   },
   {
    "duration": 33,
    "start_time": "2021-10-25T12:41:10.764Z"
   },
   {
    "duration": 321,
    "start_time": "2021-10-25T12:41:57.242Z"
   },
   {
    "duration": 8,
    "start_time": "2021-10-25T12:42:01.211Z"
   },
   {
    "duration": 4,
    "start_time": "2021-10-25T12:42:31.952Z"
   },
   {
    "duration": 17,
    "start_time": "2021-10-25T12:43:15.782Z"
   },
   {
    "duration": 4,
    "start_time": "2021-10-25T12:43:19.653Z"
   },
   {
    "duration": 14,
    "start_time": "2021-10-25T12:43:22.623Z"
   },
   {
    "duration": 25,
    "start_time": "2021-10-25T12:43:33.113Z"
   },
   {
    "duration": 14,
    "start_time": "2021-10-25T12:54:16.844Z"
   },
   {
    "duration": 21,
    "start_time": "2021-10-25T13:13:32.450Z"
   },
   {
    "duration": 13,
    "start_time": "2021-10-25T13:13:33.852Z"
   },
   {
    "duration": 8,
    "start_time": "2021-10-25T13:14:22.163Z"
   },
   {
    "duration": 15,
    "start_time": "2021-10-25T13:20:09.171Z"
   },
   {
    "duration": 678,
    "start_time": "2021-10-25T13:20:22.435Z"
   },
   {
    "duration": 378,
    "start_time": "2021-10-25T13:20:58.233Z"
   },
   {
    "duration": 4,
    "start_time": "2021-10-25T13:21:19.643Z"
   },
   {
    "duration": 1333,
    "start_time": "2021-10-25T13:21:22.511Z"
   },
   {
    "duration": 1421,
    "start_time": "2021-10-25T13:21:25.343Z"
   },
   {
    "duration": 14,
    "start_time": "2021-10-25T13:21:27.023Z"
   },
   {
    "duration": 4,
    "start_time": "2021-10-25T13:48:44.058Z"
   },
   {
    "duration": 742,
    "start_time": "2021-10-25T13:48:47.890Z"
   },
   {
    "duration": 8,
    "start_time": "2021-10-25T13:49:14.349Z"
   },
   {
    "duration": 16,
    "start_time": "2021-10-25T13:49:29.620Z"
   },
   {
    "duration": 256,
    "start_time": "2021-10-25T14:05:49.674Z"
   },
   {
    "duration": 696,
    "start_time": "2021-10-25T14:07:39.458Z"
   },
   {
    "duration": 97,
    "start_time": "2021-10-25T14:07:40.156Z"
   },
   {
    "duration": 14,
    "start_time": "2021-10-25T14:07:40.255Z"
   },
   {
    "duration": 29,
    "start_time": "2021-10-25T14:07:40.276Z"
   },
   {
    "duration": 49,
    "start_time": "2021-10-25T14:07:40.307Z"
   },
   {
    "duration": 26,
    "start_time": "2021-10-25T14:07:40.358Z"
   },
   {
    "duration": 18,
    "start_time": "2021-10-25T14:07:40.386Z"
   },
   {
    "duration": 11,
    "start_time": "2021-10-25T14:07:40.405Z"
   },
   {
    "duration": 16,
    "start_time": "2021-10-25T14:07:40.419Z"
   },
   {
    "duration": 18,
    "start_time": "2021-10-25T14:07:40.437Z"
   },
   {
    "duration": 22,
    "start_time": "2021-10-25T14:07:40.457Z"
   },
   {
    "duration": 17,
    "start_time": "2021-10-25T14:07:40.481Z"
   },
   {
    "duration": 6,
    "start_time": "2021-10-25T14:07:40.500Z"
   },
   {
    "duration": 32,
    "start_time": "2021-10-25T14:07:40.507Z"
   },
   {
    "duration": 4,
    "start_time": "2021-10-25T14:07:40.541Z"
   },
   {
    "duration": 23,
    "start_time": "2021-10-25T14:07:40.546Z"
   },
   {
    "duration": 20,
    "start_time": "2021-10-25T14:07:40.571Z"
   },
   {
    "duration": 27,
    "start_time": "2021-10-25T14:07:40.593Z"
   },
   {
    "duration": 16,
    "start_time": "2021-10-25T14:07:40.622Z"
   },
   {
    "duration": 26,
    "start_time": "2021-10-25T14:07:40.640Z"
   },
   {
    "duration": 11,
    "start_time": "2021-10-25T14:07:40.668Z"
   },
   {
    "duration": 22,
    "start_time": "2021-10-25T14:07:40.681Z"
   },
   {
    "duration": 8,
    "start_time": "2021-10-25T14:07:40.705Z"
   },
   {
    "duration": 17,
    "start_time": "2021-10-25T14:07:40.714Z"
   },
   {
    "duration": 10,
    "start_time": "2021-10-25T14:07:40.733Z"
   },
   {
    "duration": 22,
    "start_time": "2021-10-25T14:07:40.745Z"
   },
   {
    "duration": 30,
    "start_time": "2021-10-25T14:07:40.771Z"
   },
   {
    "duration": 23,
    "start_time": "2021-10-25T14:07:40.803Z"
   },
   {
    "duration": 41,
    "start_time": "2021-10-25T14:07:40.828Z"
   },
   {
    "duration": 21,
    "start_time": "2021-10-25T14:07:40.871Z"
   },
   {
    "duration": 12,
    "start_time": "2021-10-25T14:07:40.894Z"
   },
   {
    "duration": 21,
    "start_time": "2021-10-25T14:07:40.907Z"
   },
   {
    "duration": 24,
    "start_time": "2021-10-25T14:07:40.929Z"
   },
   {
    "duration": 1406,
    "start_time": "2021-10-25T14:07:40.955Z"
   },
   {
    "duration": 20,
    "start_time": "2021-10-25T14:07:42.363Z"
   },
   {
    "duration": 10,
    "start_time": "2021-10-25T14:07:42.385Z"
   },
   {
    "duration": 699,
    "start_time": "2021-10-25T14:07:42.396Z"
   },
   {
    "duration": 6,
    "start_time": "2021-10-25T14:07:43.096Z"
   },
   {
    "duration": 27,
    "start_time": "2021-10-25T14:07:43.103Z"
   },
   {
    "duration": 199,
    "start_time": "2021-10-25T14:07:43.131Z"
   },
   {
    "duration": 182,
    "start_time": "2021-10-25T14:11:03.241Z"
   },
   {
    "duration": 237,
    "start_time": "2021-10-25T14:13:22.241Z"
   },
   {
    "duration": 178,
    "start_time": "2021-10-25T14:14:44.125Z"
   },
   {
    "duration": 179,
    "start_time": "2021-10-25T14:15:42.919Z"
   },
   {
    "duration": 176,
    "start_time": "2021-10-25T14:16:48.611Z"
   },
   {
    "duration": 431,
    "start_time": "2021-10-25T14:43:38.450Z"
   },
   {
    "duration": 740,
    "start_time": "2021-10-25T14:44:54.421Z"
   },
   {
    "duration": 9,
    "start_time": "2021-10-25T14:50:42.147Z"
   },
   {
    "duration": 149,
    "start_time": "2021-10-25T14:51:45.581Z"
   },
   {
    "duration": 156,
    "start_time": "2021-10-25T14:54:07.578Z"
   },
   {
    "duration": 144,
    "start_time": "2021-10-25T14:54:22.660Z"
   },
   {
    "duration": 130,
    "start_time": "2021-10-25T14:54:45.805Z"
   },
   {
    "duration": 143,
    "start_time": "2021-10-25T14:55:15.500Z"
   },
   {
    "duration": 9,
    "start_time": "2021-10-25T14:56:44.221Z"
   },
   {
    "duration": 190,
    "start_time": "2021-10-25T14:58:23.090Z"
   },
   {
    "duration": 136,
    "start_time": "2021-10-25T14:59:17.530Z"
   },
   {
    "duration": 13,
    "start_time": "2021-10-25T15:00:35.960Z"
   },
   {
    "duration": 145,
    "start_time": "2021-10-25T15:02:38.189Z"
   },
   {
    "duration": 10,
    "start_time": "2021-10-25T15:03:46.390Z"
   },
   {
    "duration": 10,
    "start_time": "2021-10-25T15:04:29.841Z"
   },
   {
    "duration": 143,
    "start_time": "2021-10-25T15:05:40.851Z"
   },
   {
    "duration": 9,
    "start_time": "2021-10-25T15:06:26.610Z"
   },
   {
    "duration": 127,
    "start_time": "2021-10-25T15:09:10.530Z"
   },
   {
    "duration": 448,
    "start_time": "2021-10-25T15:09:34.531Z"
   },
   {
    "duration": 128,
    "start_time": "2021-10-25T15:09:52.921Z"
   },
   {
    "duration": 14,
    "start_time": "2021-10-25T15:20:08.463Z"
   },
   {
    "duration": 580,
    "start_time": "2021-10-25T15:27:19.285Z"
   },
   {
    "duration": 193,
    "start_time": "2021-10-25T15:27:31.685Z"
   },
   {
    "duration": 184,
    "start_time": "2021-10-25T15:27:56.336Z"
   },
   {
    "duration": 198,
    "start_time": "2021-10-25T15:29:39.156Z"
   },
   {
    "duration": 184,
    "start_time": "2021-10-25T15:29:46.625Z"
   },
   {
    "duration": 244,
    "start_time": "2021-10-25T15:38:26.693Z"
   },
   {
    "duration": 188,
    "start_time": "2021-10-25T15:42:44.131Z"
   },
   {
    "duration": 170,
    "start_time": "2021-10-25T15:46:22.890Z"
   },
   {
    "duration": 187,
    "start_time": "2021-10-25T15:47:45.982Z"
   },
   {
    "duration": 173,
    "start_time": "2021-10-25T15:48:28.782Z"
   },
   {
    "duration": 191,
    "start_time": "2021-10-25T15:48:36.170Z"
   },
   {
    "duration": 173,
    "start_time": "2021-10-25T15:48:49.900Z"
   },
   {
    "duration": 168,
    "start_time": "2021-10-25T15:49:02.792Z"
   },
   {
    "duration": 212,
    "start_time": "2021-10-25T16:16:58.759Z"
   },
   {
    "duration": 6,
    "start_time": "2021-10-25T16:21:05.892Z"
   },
   {
    "duration": 6,
    "start_time": "2021-10-25T16:21:29.722Z"
   },
   {
    "duration": 9,
    "start_time": "2021-10-25T16:22:23.321Z"
   },
   {
    "duration": 152,
    "start_time": "2021-10-25T16:24:08.969Z"
   },
   {
    "duration": 4,
    "start_time": "2021-10-25T16:35:32.272Z"
   },
   {
    "duration": 12,
    "start_time": "2021-10-25T16:37:24.292Z"
   },
   {
    "duration": 243,
    "start_time": "2021-10-25T16:37:52.761Z"
   },
   {
    "duration": 8,
    "start_time": "2021-10-25T16:39:42.310Z"
   },
   {
    "duration": 16,
    "start_time": "2021-10-25T16:40:54.912Z"
   },
   {
    "duration": 296,
    "start_time": "2021-10-25T16:43:58.991Z"
   },
   {
    "duration": 8,
    "start_time": "2021-10-25T16:44:47.662Z"
   },
   {
    "duration": 164,
    "start_time": "2021-10-25T16:47:13.642Z"
   },
   {
    "duration": 10,
    "start_time": "2021-10-25T16:47:25.852Z"
   },
   {
    "duration": 317,
    "start_time": "2021-10-25T16:48:35.068Z"
   },
   {
    "duration": 184,
    "start_time": "2021-10-25T16:48:56.500Z"
   },
   {
    "duration": 12,
    "start_time": "2021-10-25T16:56:06.822Z"
   },
   {
    "duration": 190,
    "start_time": "2021-10-25T16:56:10.470Z"
   },
   {
    "duration": 666,
    "start_time": "2021-10-25T16:58:30.950Z"
   },
   {
    "duration": 7,
    "start_time": "2021-10-25T16:58:34.222Z"
   },
   {
    "duration": 192,
    "start_time": "2021-10-25T16:58:36.430Z"
   },
   {
    "duration": 8,
    "start_time": "2021-10-25T17:04:56.991Z"
   },
   {
    "duration": 176,
    "start_time": "2021-10-25T17:04:59.722Z"
   },
   {
    "duration": 12,
    "start_time": "2021-10-25T17:05:10.042Z"
   },
   {
    "duration": 184,
    "start_time": "2021-10-25T17:05:11.781Z"
   },
   {
    "duration": 9,
    "start_time": "2021-10-25T17:05:26.202Z"
   },
   {
    "duration": 261,
    "start_time": "2021-10-25T17:05:45.321Z"
   },
   {
    "duration": 351,
    "start_time": "2021-10-25T17:08:57.882Z"
   },
   {
    "duration": 21,
    "start_time": "2021-10-25T17:09:06.599Z"
   },
   {
    "duration": 6,
    "start_time": "2021-10-25T17:09:31.501Z"
   },
   {
    "duration": 7,
    "start_time": "2021-10-25T17:11:08.570Z"
   },
   {
    "duration": -1275,
    "start_time": "2021-10-25T17:20:40.674Z"
   },
   {
    "duration": 9265,
    "start_time": "2021-10-25T17:21:08.071Z"
   },
   {
    "duration": 250,
    "start_time": "2021-10-25T17:24:38.951Z"
   },
   {
    "duration": 390,
    "start_time": "2021-10-25T17:25:19.230Z"
   },
   {
    "duration": 244,
    "start_time": "2021-10-25T17:25:30.821Z"
   },
   {
    "duration": -979,
    "start_time": "2021-10-25T17:43:56.113Z"
   },
   {
    "duration": 11,
    "start_time": "2021-10-25T17:44:31.419Z"
   },
   {
    "duration": 9284,
    "start_time": "2021-10-25T17:44:58.939Z"
   },
   {
    "duration": 9,
    "start_time": "2021-10-25T17:45:25.077Z"
   },
   {
    "duration": 370,
    "start_time": "2021-10-25T18:23:43.289Z"
   },
   {
    "duration": 9776,
    "start_time": "2021-10-25T18:23:56.685Z"
   },
   {
    "duration": 8924,
    "start_time": "2021-10-25T18:25:04.698Z"
   },
   {
    "duration": 291,
    "start_time": "2021-10-25T18:26:36.288Z"
   },
   {
    "duration": 284,
    "start_time": "2021-10-25T18:34:26.466Z"
   },
   {
    "duration": 276,
    "start_time": "2021-10-25T18:39:01.437Z"
   },
   {
    "duration": 9282,
    "start_time": "2021-10-25T18:40:10.553Z"
   },
   {
    "duration": 277,
    "start_time": "2021-10-25T18:41:16.965Z"
   },
   {
    "duration": 386,
    "start_time": "2021-10-25T18:41:48.256Z"
   },
   {
    "duration": 396,
    "start_time": "2021-10-25T18:42:28.984Z"
   },
   {
    "duration": 18,
    "start_time": "2021-10-25T18:42:39.686Z"
   },
   {
    "duration": 284,
    "start_time": "2021-10-25T18:43:03.474Z"
   },
   {
    "duration": 270,
    "start_time": "2021-10-25T18:43:25.305Z"
   },
   {
    "duration": 269,
    "start_time": "2021-10-25T18:43:41.695Z"
   },
   {
    "duration": 541,
    "start_time": "2021-10-25T18:45:10.025Z"
   },
   {
    "duration": 153,
    "start_time": "2021-10-25T18:45:33.936Z"
   },
   {
    "duration": 357,
    "start_time": "2021-10-25T18:45:46.024Z"
   },
   {
    "duration": 240,
    "start_time": "2021-10-25T18:46:27.505Z"
   },
   {
    "duration": 355,
    "start_time": "2021-10-25T18:58:19.311Z"
   },
   {
    "duration": 243,
    "start_time": "2021-10-25T19:03:45.977Z"
   },
   {
    "duration": 435,
    "start_time": "2021-10-26T04:50:18.680Z"
   },
   {
    "duration": 969,
    "start_time": "2021-10-26T04:50:30.663Z"
   },
   {
    "duration": 143,
    "start_time": "2021-10-26T04:50:35.074Z"
   },
   {
    "duration": 22,
    "start_time": "2021-10-26T04:50:43.880Z"
   },
   {
    "duration": 31,
    "start_time": "2021-10-26T04:50:47.753Z"
   },
   {
    "duration": 55,
    "start_time": "2021-10-26T04:50:53.710Z"
   },
   {
    "duration": 24,
    "start_time": "2021-10-26T04:51:00.714Z"
   },
   {
    "duration": 7,
    "start_time": "2021-10-26T04:51:02.322Z"
   },
   {
    "duration": 5,
    "start_time": "2021-10-26T04:51:03.594Z"
   },
   {
    "duration": 20,
    "start_time": "2021-10-26T04:51:04.763Z"
   },
   {
    "duration": 5,
    "start_time": "2021-10-26T04:51:10.392Z"
   },
   {
    "duration": 19,
    "start_time": "2021-10-26T04:51:11.464Z"
   },
   {
    "duration": 8,
    "start_time": "2021-10-26T04:51:12.874Z"
   },
   {
    "duration": 5,
    "start_time": "2021-10-26T04:51:13.964Z"
   },
   {
    "duration": 25,
    "start_time": "2021-10-26T04:51:15.123Z"
   },
   {
    "duration": 6,
    "start_time": "2021-10-26T04:51:18.357Z"
   },
   {
    "duration": 20,
    "start_time": "2021-10-26T04:51:19.463Z"
   },
   {
    "duration": 8,
    "start_time": "2021-10-26T04:51:21.024Z"
   },
   {
    "duration": 19,
    "start_time": "2021-10-26T04:51:21.994Z"
   },
   {
    "duration": 7,
    "start_time": "2021-10-26T04:51:28.577Z"
   },
   {
    "duration": 5,
    "start_time": "2021-10-26T04:51:29.444Z"
   },
   {
    "duration": 6,
    "start_time": "2021-10-26T04:51:30.414Z"
   },
   {
    "duration": 20,
    "start_time": "2021-10-26T04:51:31.554Z"
   },
   {
    "duration": 5,
    "start_time": "2021-10-26T04:51:32.934Z"
   },
   {
    "duration": 20,
    "start_time": "2021-10-26T04:51:34.030Z"
   },
   {
    "duration": 5,
    "start_time": "2021-10-26T04:51:39.734Z"
   },
   {
    "duration": 20,
    "start_time": "2021-10-26T04:51:40.751Z"
   },
   {
    "duration": 19,
    "start_time": "2021-10-26T04:51:41.774Z"
   },
   {
    "duration": 20,
    "start_time": "2021-10-26T04:51:42.904Z"
   },
   {
    "duration": 28,
    "start_time": "2021-10-26T04:51:48.504Z"
   },
   {
    "duration": 29,
    "start_time": "2021-10-26T04:51:55.475Z"
   },
   {
    "duration": 22,
    "start_time": "2021-10-26T04:51:56.343Z"
   },
   {
    "duration": 10,
    "start_time": "2021-10-26T04:52:02.664Z"
   },
   {
    "duration": 4,
    "start_time": "2021-10-26T04:52:03.564Z"
   },
   {
    "duration": 2246,
    "start_time": "2021-10-26T04:52:04.412Z"
   },
   {
    "duration": 21,
    "start_time": "2021-10-26T04:52:06.661Z"
   },
   {
    "duration": 4,
    "start_time": "2021-10-26T04:52:06.701Z"
   },
   {
    "duration": 1170,
    "start_time": "2021-10-26T04:52:13.383Z"
   },
   {
    "duration": 8,
    "start_time": "2021-10-26T04:52:14.555Z"
   },
   {
    "duration": 21,
    "start_time": "2021-10-26T04:52:15.704Z"
   },
   {
    "duration": 311,
    "start_time": "2021-10-26T04:52:22.772Z"
   },
   {
    "duration": 306,
    "start_time": "2021-10-26T04:52:24.404Z"
   },
   {
    "duration": 347,
    "start_time": "2021-10-26T04:52:30.485Z"
   },
   {
    "duration": 298,
    "start_time": "2021-10-26T04:52:37.133Z"
   },
   {
    "duration": 291,
    "start_time": "2021-10-26T04:52:38.394Z"
   },
   {
    "duration": 12,
    "start_time": "2021-10-26T04:52:44.914Z"
   },
   {
    "duration": 246,
    "start_time": "2021-10-26T04:52:45.914Z"
   },
   {
    "duration": 240,
    "start_time": "2021-10-26T04:52:52.204Z"
   },
   {
    "duration": 17,
    "start_time": "2021-10-26T04:52:55.284Z"
   },
   {
    "duration": 11,
    "start_time": "2021-10-26T04:52:57.304Z"
   },
   {
    "duration": 216,
    "start_time": "2021-10-26T04:53:03.784Z"
   },
   {
    "duration": 213,
    "start_time": "2021-10-26T04:53:05.412Z"
   },
   {
    "duration": 19,
    "start_time": "2021-10-26T04:53:11.832Z"
   },
   {
    "duration": 15,
    "start_time": "2021-10-26T04:53:12.902Z"
   },
   {
    "duration": 241,
    "start_time": "2021-10-26T04:53:14.083Z"
   },
   {
    "duration": 241,
    "start_time": "2021-10-26T04:53:19.814Z"
   },
   {
    "duration": 17,
    "start_time": "2021-10-26T04:53:26.143Z"
   },
   {
    "duration": 211,
    "start_time": "2021-10-26T04:53:27.183Z"
   },
   {
    "duration": 213,
    "start_time": "2021-10-26T04:53:28.454Z"
   },
   {
    "duration": 17,
    "start_time": "2021-10-26T04:53:34.204Z"
   },
   {
    "duration": 365,
    "start_time": "2021-10-26T04:53:40.374Z"
   },
   {
    "duration": 271,
    "start_time": "2021-10-26T04:53:48.523Z"
   },
   {
    "duration": 310,
    "start_time": "2021-10-26T04:53:51.632Z"
   },
   {
    "duration": 295,
    "start_time": "2021-10-26T04:53:58.274Z"
   },
   {
    "duration": 278,
    "start_time": "2021-10-26T04:54:00.844Z"
   },
   {
    "duration": 419,
    "start_time": "2021-10-26T04:54:08.014Z"
   },
   {
    "duration": 11,
    "start_time": "2021-10-26T04:54:09.984Z"
   },
   {
    "duration": 14,
    "start_time": "2021-10-26T04:54:15.593Z"
   },
   {
    "duration": 300,
    "start_time": "2021-10-26T04:54:16.803Z"
   },
   {
    "duration": 10,
    "start_time": "2021-10-26T04:54:19.502Z"
   },
   {
    "duration": 281,
    "start_time": "2021-10-26T04:54:21.274Z"
   },
   {
    "duration": 395,
    "start_time": "2021-10-26T04:54:30.145Z"
   },
   {
    "duration": 12,
    "start_time": "2021-10-26T04:54:40.082Z"
   },
   {
    "duration": 11,
    "start_time": "2021-10-26T04:54:41.164Z"
   },
   {
    "duration": 882,
    "start_time": "2021-10-26T04:54:46.754Z"
   },
   {
    "duration": 960,
    "start_time": "2021-10-26T04:56:37.553Z"
   },
   {
    "duration": 940,
    "start_time": "2021-10-26T05:04:19.672Z"
   },
   {
    "duration": 871,
    "start_time": "2021-10-26T05:11:49.041Z"
   },
   {
    "duration": 407,
    "start_time": "2021-10-26T05:15:29.738Z"
   },
   {
    "duration": 650,
    "start_time": "2021-10-26T05:19:43.212Z"
   },
   {
    "duration": 1311,
    "start_time": "2021-10-26T05:22:21.011Z"
   },
   {
    "duration": 376,
    "start_time": "2021-10-26T05:23:31.760Z"
   },
   {
    "duration": 374,
    "start_time": "2021-10-26T05:27:40.758Z"
   },
   {
    "duration": 8861,
    "start_time": "2021-10-26T05:28:00.266Z"
   },
   {
    "duration": 384,
    "start_time": "2021-10-26T05:31:33.599Z"
   },
   {
    "duration": 373,
    "start_time": "2021-10-26T05:54:32.187Z"
   },
   {
    "duration": 2161,
    "start_time": "2021-10-26T05:55:28.054Z"
   },
   {
    "duration": 396,
    "start_time": "2021-10-26T05:59:30.228Z"
   },
   {
    "duration": 931,
    "start_time": "2021-10-26T06:09:06.802Z"
   },
   {
    "duration": 145,
    "start_time": "2021-10-26T06:09:07.735Z"
   },
   {
    "duration": 31,
    "start_time": "2021-10-26T06:09:07.883Z"
   },
   {
    "duration": 34,
    "start_time": "2021-10-26T06:09:07.917Z"
   },
   {
    "duration": 75,
    "start_time": "2021-10-26T06:09:07.954Z"
   },
   {
    "duration": 23,
    "start_time": "2021-10-26T06:09:08.032Z"
   },
   {
    "duration": 7,
    "start_time": "2021-10-26T06:09:08.058Z"
   },
   {
    "duration": 33,
    "start_time": "2021-10-26T06:09:08.068Z"
   },
   {
    "duration": 21,
    "start_time": "2021-10-26T06:09:08.105Z"
   },
   {
    "duration": 17,
    "start_time": "2021-10-26T06:09:08.129Z"
   },
   {
    "duration": 21,
    "start_time": "2021-10-26T06:09:08.148Z"
   },
   {
    "duration": 32,
    "start_time": "2021-10-26T06:09:08.172Z"
   },
   {
    "duration": 5,
    "start_time": "2021-10-26T06:09:08.207Z"
   },
   {
    "duration": 26,
    "start_time": "2021-10-26T06:09:08.214Z"
   },
   {
    "duration": 4,
    "start_time": "2021-10-26T06:09:08.242Z"
   },
   {
    "duration": 58,
    "start_time": "2021-10-26T06:09:08.248Z"
   },
   {
    "duration": 9,
    "start_time": "2021-10-26T06:09:08.308Z"
   },
   {
    "duration": 23,
    "start_time": "2021-10-26T06:09:08.319Z"
   },
   {
    "duration": 7,
    "start_time": "2021-10-26T06:09:08.345Z"
   },
   {
    "duration": 4,
    "start_time": "2021-10-26T06:09:08.354Z"
   },
   {
    "duration": 41,
    "start_time": "2021-10-26T06:09:08.360Z"
   },
   {
    "duration": 19,
    "start_time": "2021-10-26T06:09:08.403Z"
   },
   {
    "duration": 9,
    "start_time": "2021-10-26T06:09:08.424Z"
   },
   {
    "duration": 19,
    "start_time": "2021-10-26T06:09:08.435Z"
   },
   {
    "duration": 5,
    "start_time": "2021-10-26T06:09:08.457Z"
   },
   {
    "duration": 19,
    "start_time": "2021-10-26T06:09:08.500Z"
   },
   {
    "duration": 21,
    "start_time": "2021-10-26T06:09:08.525Z"
   },
   {
    "duration": 19,
    "start_time": "2021-10-26T06:09:08.551Z"
   },
   {
    "duration": 31,
    "start_time": "2021-10-26T06:09:08.602Z"
   },
   {
    "duration": 31,
    "start_time": "2021-10-26T06:09:08.636Z"
   },
   {
    "duration": 52,
    "start_time": "2021-10-26T06:09:08.670Z"
   },
   {
    "duration": 11,
    "start_time": "2021-10-26T06:09:08.725Z"
   },
   {
    "duration": 4,
    "start_time": "2021-10-26T06:09:08.739Z"
   },
   {
    "duration": 2215,
    "start_time": "2021-10-26T06:09:08.746Z"
   },
   {
    "duration": 21,
    "start_time": "2021-10-26T06:09:10.963Z"
   },
   {
    "duration": 5,
    "start_time": "2021-10-26T06:09:11.000Z"
   },
   {
    "duration": 1172,
    "start_time": "2021-10-26T06:09:11.007Z"
   },
   {
    "duration": 8,
    "start_time": "2021-10-26T06:09:12.181Z"
   },
   {
    "duration": 22,
    "start_time": "2021-10-26T06:09:12.201Z"
   },
   {
    "duration": 388,
    "start_time": "2021-10-26T06:09:12.225Z"
   },
   {
    "duration": 310,
    "start_time": "2021-10-26T06:09:12.615Z"
   },
   {
    "duration": 382,
    "start_time": "2021-10-26T06:09:12.928Z"
   },
   {
    "duration": 317,
    "start_time": "2021-10-26T06:09:13.313Z"
   },
   {
    "duration": 303,
    "start_time": "2021-10-26T06:09:13.633Z"
   },
   {
    "duration": 11,
    "start_time": "2021-10-26T06:09:13.939Z"
   },
   {
    "duration": 268,
    "start_time": "2021-10-26T06:09:13.953Z"
   },
   {
    "duration": 271,
    "start_time": "2021-10-26T06:09:14.224Z"
   },
   {
    "duration": 18,
    "start_time": "2021-10-26T06:09:14.498Z"
   },
   {
    "duration": 12,
    "start_time": "2021-10-26T06:09:14.519Z"
   },
   {
    "duration": 258,
    "start_time": "2021-10-26T06:09:14.533Z"
   },
   {
    "duration": 232,
    "start_time": "2021-10-26T06:09:14.793Z"
   },
   {
    "duration": 21,
    "start_time": "2021-10-26T06:09:15.028Z"
   },
   {
    "duration": 25,
    "start_time": "2021-10-26T06:09:15.052Z"
   },
   {
    "duration": 281,
    "start_time": "2021-10-26T06:09:15.080Z"
   },
   {
    "duration": 266,
    "start_time": "2021-10-26T06:09:15.365Z"
   },
   {
    "duration": 16,
    "start_time": "2021-10-26T06:09:15.633Z"
   },
   {
    "duration": 243,
    "start_time": "2021-10-26T06:09:15.651Z"
   },
   {
    "duration": 232,
    "start_time": "2021-10-26T06:09:15.896Z"
   },
   {
    "duration": 18,
    "start_time": "2021-10-26T06:09:16.131Z"
   },
   {
    "duration": 404,
    "start_time": "2021-10-26T06:09:16.151Z"
   },
   {
    "duration": 301,
    "start_time": "2021-10-26T06:09:16.557Z"
   },
   {
    "duration": 341,
    "start_time": "2021-10-26T06:09:16.860Z"
   },
   {
    "duration": 312,
    "start_time": "2021-10-26T06:09:17.203Z"
   },
   {
    "duration": 304,
    "start_time": "2021-10-26T06:09:17.517Z"
   },
   {
    "duration": 439,
    "start_time": "2021-10-26T06:09:17.824Z"
   },
   {
    "duration": 12,
    "start_time": "2021-10-26T06:09:18.265Z"
   },
   {
    "duration": 29,
    "start_time": "2021-10-26T06:09:18.279Z"
   },
   {
    "duration": 308,
    "start_time": "2021-10-26T06:09:18.310Z"
   },
   {
    "duration": 10,
    "start_time": "2021-10-26T06:09:18.621Z"
   },
   {
    "duration": 312,
    "start_time": "2021-10-26T06:09:18.633Z"
   },
   {
    "duration": 398,
    "start_time": "2021-10-26T06:09:18.947Z"
   },
   {
    "duration": 12,
    "start_time": "2021-10-26T06:09:19.347Z"
   },
   {
    "duration": 13,
    "start_time": "2021-10-26T06:09:19.361Z"
   },
   {
    "duration": 906,
    "start_time": "2021-10-26T06:09:19.377Z"
   },
   {
    "duration": 986,
    "start_time": "2021-10-26T06:09:20.285Z"
   },
   {
    "duration": 899,
    "start_time": "2021-10-26T06:09:21.274Z"
   },
   {
    "duration": 582,
    "start_time": "2021-10-26T06:09:22.175Z"
   },
   {
    "duration": 4,
    "start_time": "2021-10-26T06:09:49.064Z"
   },
   {
    "duration": 36,
    "start_time": "2021-10-26T06:10:04.483Z"
   },
   {
    "duration": 9,
    "start_time": "2021-10-26T06:10:36.733Z"
   },
   {
    "duration": 402,
    "start_time": "2021-10-26T06:12:59.693Z"
   },
   {
    "duration": 330,
    "start_time": "2021-10-26T06:13:29.073Z"
   },
   {
    "duration": 374,
    "start_time": "2021-10-26T06:14:16.822Z"
   },
   {
    "duration": 382,
    "start_time": "2021-10-26T06:15:03.412Z"
   },
   {
    "duration": 753,
    "start_time": "2021-10-26T06:15:31.012Z"
   },
   {
    "duration": 40,
    "start_time": "2021-10-26T06:16:02.044Z"
   },
   {
    "duration": 62,
    "start_time": "2021-10-26T06:17:16.604Z"
   },
   {
    "duration": 61,
    "start_time": "2021-10-26T06:17:44.661Z"
   },
   {
    "duration": 884,
    "start_time": "2021-10-26T06:17:55.823Z"
   },
   {
    "duration": 837,
    "start_time": "2021-10-26T06:18:27.273Z"
   },
   {
    "duration": 800,
    "start_time": "2021-10-26T06:27:06.893Z"
   },
   {
    "duration": 917,
    "start_time": "2021-10-26T06:28:15.063Z"
   },
   {
    "duration": 862,
    "start_time": "2021-10-26T06:35:37.711Z"
   },
   {
    "duration": 1522,
    "start_time": "2021-10-26T06:57:58.240Z"
   },
   {
    "duration": 603,
    "start_time": "2021-10-26T19:29:15.046Z"
   },
   {
    "duration": 96,
    "start_time": "2021-10-26T19:29:15.651Z"
   },
   {
    "duration": 14,
    "start_time": "2021-10-26T19:29:15.751Z"
   },
   {
    "duration": 37,
    "start_time": "2021-10-26T19:29:15.766Z"
   },
   {
    "duration": 39,
    "start_time": "2021-10-26T19:29:15.805Z"
   },
   {
    "duration": 17,
    "start_time": "2021-10-26T19:29:15.846Z"
   },
   {
    "duration": 27,
    "start_time": "2021-10-26T19:29:15.865Z"
   },
   {
    "duration": 3,
    "start_time": "2021-10-26T19:29:15.894Z"
   },
   {
    "duration": 17,
    "start_time": "2021-10-26T19:29:15.899Z"
   },
   {
    "duration": 7,
    "start_time": "2021-10-26T19:29:15.917Z"
   },
   {
    "duration": 13,
    "start_time": "2021-10-26T19:29:15.925Z"
   },
   {
    "duration": 6,
    "start_time": "2021-10-26T19:29:15.939Z"
   },
   {
    "duration": 3,
    "start_time": "2021-10-26T19:29:15.947Z"
   },
   {
    "duration": 40,
    "start_time": "2021-10-26T19:29:15.952Z"
   },
   {
    "duration": 4,
    "start_time": "2021-10-26T19:29:15.995Z"
   },
   {
    "duration": 18,
    "start_time": "2021-10-26T19:29:16.000Z"
   },
   {
    "duration": 6,
    "start_time": "2021-10-26T19:29:16.020Z"
   },
   {
    "duration": 15,
    "start_time": "2021-10-26T19:29:16.027Z"
   },
   {
    "duration": 7,
    "start_time": "2021-10-26T19:29:16.044Z"
   },
   {
    "duration": 3,
    "start_time": "2021-10-26T19:29:16.053Z"
   },
   {
    "duration": 5,
    "start_time": "2021-10-26T19:29:16.058Z"
   },
   {
    "duration": 39,
    "start_time": "2021-10-26T19:29:16.066Z"
   },
   {
    "duration": 4,
    "start_time": "2021-10-26T19:29:16.108Z"
   },
   {
    "duration": 11,
    "start_time": "2021-10-26T19:29:16.113Z"
   },
   {
    "duration": 3,
    "start_time": "2021-10-26T19:29:16.126Z"
   },
   {
    "duration": 20,
    "start_time": "2021-10-26T19:29:16.131Z"
   },
   {
    "duration": 49,
    "start_time": "2021-10-26T19:29:16.153Z"
   },
   {
    "duration": 12,
    "start_time": "2021-10-26T19:29:16.204Z"
   },
   {
    "duration": 23,
    "start_time": "2021-10-26T19:29:16.217Z"
   },
   {
    "duration": 24,
    "start_time": "2021-10-26T19:29:16.241Z"
   },
   {
    "duration": 34,
    "start_time": "2021-10-26T19:29:16.267Z"
   },
   {
    "duration": 7,
    "start_time": "2021-10-26T19:29:16.302Z"
   },
   {
    "duration": 4,
    "start_time": "2021-10-26T19:29:16.310Z"
   },
   {
    "duration": 1279,
    "start_time": "2021-10-26T19:29:16.316Z"
   },
   {
    "duration": 14,
    "start_time": "2021-10-26T19:29:17.597Z"
   },
   {
    "duration": 5,
    "start_time": "2021-10-26T19:29:17.612Z"
   },
   {
    "duration": 687,
    "start_time": "2021-10-26T19:29:17.618Z"
   },
   {
    "duration": 6,
    "start_time": "2021-10-26T19:29:18.307Z"
   },
   {
    "duration": 14,
    "start_time": "2021-10-26T19:29:18.314Z"
   },
   {
    "duration": 209,
    "start_time": "2021-10-26T19:29:18.329Z"
   },
   {
    "duration": 194,
    "start_time": "2021-10-26T19:29:18.540Z"
   },
   {
    "duration": 240,
    "start_time": "2021-10-26T19:29:18.736Z"
   },
   {
    "duration": 200,
    "start_time": "2021-10-26T19:29:18.977Z"
   },
   {
    "duration": 188,
    "start_time": "2021-10-26T19:29:19.179Z"
   },
   {
    "duration": 9,
    "start_time": "2021-10-26T19:29:19.369Z"
   },
   {
    "duration": 158,
    "start_time": "2021-10-26T19:29:19.380Z"
   },
   {
    "duration": 147,
    "start_time": "2021-10-26T19:29:19.539Z"
   },
   {
    "duration": 17,
    "start_time": "2021-10-26T19:29:19.692Z"
   },
   {
    "duration": 11,
    "start_time": "2021-10-26T19:29:19.711Z"
   },
   {
    "duration": 151,
    "start_time": "2021-10-26T19:29:19.724Z"
   },
   {
    "duration": 158,
    "start_time": "2021-10-26T19:29:19.877Z"
   },
   {
    "duration": 13,
    "start_time": "2021-10-26T19:29:20.038Z"
   },
   {
    "duration": 10,
    "start_time": "2021-10-26T19:29:20.053Z"
   },
   {
    "duration": 189,
    "start_time": "2021-10-26T19:29:20.065Z"
   },
   {
    "duration": 164,
    "start_time": "2021-10-26T19:29:20.256Z"
   },
   {
    "duration": 10,
    "start_time": "2021-10-26T19:29:20.421Z"
   },
   {
    "duration": 149,
    "start_time": "2021-10-26T19:29:20.433Z"
   },
   {
    "duration": 151,
    "start_time": "2021-10-26T19:29:20.584Z"
   },
   {
    "duration": 9,
    "start_time": "2021-10-26T19:29:20.737Z"
   },
   {
    "duration": 258,
    "start_time": "2021-10-26T19:29:20.748Z"
   },
   {
    "duration": 174,
    "start_time": "2021-10-26T19:29:21.008Z"
   },
   {
    "duration": 202,
    "start_time": "2021-10-26T19:29:21.184Z"
   },
   {
    "duration": 189,
    "start_time": "2021-10-26T19:29:21.388Z"
   },
   {
    "duration": 190,
    "start_time": "2021-10-26T19:29:21.580Z"
   },
   {
    "duration": 260,
    "start_time": "2021-10-26T19:29:21.772Z"
   },
   {
    "duration": 9,
    "start_time": "2021-10-26T19:29:22.034Z"
   },
   {
    "duration": 11,
    "start_time": "2021-10-26T19:29:22.048Z"
   },
   {
    "duration": 224,
    "start_time": "2021-10-26T19:29:22.061Z"
   },
   {
    "duration": 11,
    "start_time": "2021-10-26T19:29:22.287Z"
   },
   {
    "duration": 208,
    "start_time": "2021-10-26T19:29:22.300Z"
   },
   {
    "duration": 263,
    "start_time": "2021-10-26T19:29:22.511Z"
   },
   {
    "duration": 16,
    "start_time": "2021-10-26T19:29:22.776Z"
   },
   {
    "duration": 9,
    "start_time": "2021-10-26T19:29:22.793Z"
   },
   {
    "duration": 630,
    "start_time": "2021-10-26T19:29:22.804Z"
   },
   {
    "duration": 663,
    "start_time": "2021-10-26T19:29:23.437Z"
   },
   {
    "duration": 554,
    "start_time": "2021-10-26T19:29:24.102Z"
   },
   {
    "duration": 528,
    "start_time": "2021-10-26T19:29:24.658Z"
   },
   {
    "duration": 723,
    "start_time": "2021-10-26T19:29:25.191Z"
   },
   {
    "duration": 759,
    "start_time": "2021-10-27T04:26:54.993Z"
   },
   {
    "duration": 675,
    "start_time": "2021-10-27T04:27:08.003Z"
   },
   {
    "duration": 104,
    "start_time": "2021-10-27T04:27:11.033Z"
   },
   {
    "duration": 716,
    "start_time": "2021-10-27T04:28:21.503Z"
   },
   {
    "duration": 427,
    "start_time": "2021-10-27T04:28:29.643Z"
   },
   {
    "duration": 394,
    "start_time": "2021-10-27T04:28:46.383Z"
   },
   {
    "duration": 730,
    "start_time": "2021-10-27T04:29:03.864Z"
   },
   {
    "duration": 100,
    "start_time": "2021-10-27T04:29:04.595Z"
   },
   {
    "duration": 14,
    "start_time": "2021-10-27T04:29:04.697Z"
   },
   {
    "duration": 21,
    "start_time": "2021-10-27T04:29:04.713Z"
   },
   {
    "duration": 403,
    "start_time": "2021-10-27T04:29:04.736Z"
   },
   {
    "duration": -1013,
    "start_time": "2021-10-27T04:29:06.156Z"
   },
   {
    "duration": -1015,
    "start_time": "2021-10-27T04:29:06.159Z"
   },
   {
    "duration": -1173,
    "start_time": "2021-10-27T04:29:06.318Z"
   },
   {
    "duration": -1280,
    "start_time": "2021-10-27T04:29:06.426Z"
   },
   {
    "duration": -1282,
    "start_time": "2021-10-27T04:29:06.429Z"
   },
   {
    "duration": -1284,
    "start_time": "2021-10-27T04:29:06.432Z"
   },
   {
    "duration": -1287,
    "start_time": "2021-10-27T04:29:06.436Z"
   },
   {
    "duration": -1289,
    "start_time": "2021-10-27T04:29:06.439Z"
   },
   {
    "duration": -1291,
    "start_time": "2021-10-27T04:29:06.442Z"
   },
   {
    "duration": -1296,
    "start_time": "2021-10-27T04:29:06.448Z"
   },
   {
    "duration": -1300,
    "start_time": "2021-10-27T04:29:06.452Z"
   },
   {
    "duration": -1302,
    "start_time": "2021-10-27T04:29:06.455Z"
   },
   {
    "duration": -1305,
    "start_time": "2021-10-27T04:29:06.459Z"
   },
   {
    "duration": -1306,
    "start_time": "2021-10-27T04:29:06.462Z"
   },
   {
    "duration": -1308,
    "start_time": "2021-10-27T04:29:06.465Z"
   },
   {
    "duration": -1312,
    "start_time": "2021-10-27T04:29:06.469Z"
   },
   {
    "duration": -1315,
    "start_time": "2021-10-27T04:29:06.473Z"
   },
   {
    "duration": -1316,
    "start_time": "2021-10-27T04:29:06.475Z"
   },
   {
    "duration": -1319,
    "start_time": "2021-10-27T04:29:06.479Z"
   },
   {
    "duration": -1321,
    "start_time": "2021-10-27T04:29:06.482Z"
   },
   {
    "duration": -1324,
    "start_time": "2021-10-27T04:29:06.486Z"
   },
   {
    "duration": -1327,
    "start_time": "2021-10-27T04:29:06.490Z"
   },
   {
    "duration": -1329,
    "start_time": "2021-10-27T04:29:06.493Z"
   },
   {
    "duration": -1338,
    "start_time": "2021-10-27T04:29:06.503Z"
   },
   {
    "duration": -1341,
    "start_time": "2021-10-27T04:29:06.507Z"
   },
   {
    "duration": -1342,
    "start_time": "2021-10-27T04:29:06.509Z"
   },
   {
    "duration": -1344,
    "start_time": "2021-10-27T04:29:06.512Z"
   },
   {
    "duration": -1347,
    "start_time": "2021-10-27T04:29:06.516Z"
   },
   {
    "duration": -1350,
    "start_time": "2021-10-27T04:29:06.519Z"
   },
   {
    "duration": -1353,
    "start_time": "2021-10-27T04:29:06.523Z"
   },
   {
    "duration": -1355,
    "start_time": "2021-10-27T04:29:06.526Z"
   },
   {
    "duration": -1357,
    "start_time": "2021-10-27T04:29:06.529Z"
   },
   {
    "duration": -1359,
    "start_time": "2021-10-27T04:29:06.532Z"
   },
   {
    "duration": -1362,
    "start_time": "2021-10-27T04:29:06.536Z"
   },
   {
    "duration": -1365,
    "start_time": "2021-10-27T04:29:06.539Z"
   },
   {
    "duration": -1384,
    "start_time": "2021-10-27T04:29:06.559Z"
   },
   {
    "duration": -1387,
    "start_time": "2021-10-27T04:29:06.563Z"
   },
   {
    "duration": -1388,
    "start_time": "2021-10-27T04:29:06.565Z"
   },
   {
    "duration": -1391,
    "start_time": "2021-10-27T04:29:06.569Z"
   },
   {
    "duration": -1394,
    "start_time": "2021-10-27T04:29:06.573Z"
   },
   {
    "duration": -1397,
    "start_time": "2021-10-27T04:29:06.576Z"
   },
   {
    "duration": -1399,
    "start_time": "2021-10-27T04:29:06.579Z"
   },
   {
    "duration": -1401,
    "start_time": "2021-10-27T04:29:06.582Z"
   },
   {
    "duration": -1403,
    "start_time": "2021-10-27T04:29:06.585Z"
   },
   {
    "duration": -1406,
    "start_time": "2021-10-27T04:29:06.589Z"
   },
   {
    "duration": -1408,
    "start_time": "2021-10-27T04:29:06.592Z"
   },
   {
    "duration": -1411,
    "start_time": "2021-10-27T04:29:06.595Z"
   },
   {
    "duration": -1413,
    "start_time": "2021-10-27T04:29:06.598Z"
   },
   {
    "duration": -1422,
    "start_time": "2021-10-27T04:29:06.608Z"
   },
   {
    "duration": -1424,
    "start_time": "2021-10-27T04:29:06.611Z"
   },
   {
    "duration": -1426,
    "start_time": "2021-10-27T04:29:06.614Z"
   },
   {
    "duration": -1428,
    "start_time": "2021-10-27T04:29:06.617Z"
   },
   {
    "duration": -1431,
    "start_time": "2021-10-27T04:29:06.621Z"
   },
   {
    "duration": -1433,
    "start_time": "2021-10-27T04:29:06.624Z"
   },
   {
    "duration": -1436,
    "start_time": "2021-10-27T04:29:06.627Z"
   },
   {
    "duration": -1438,
    "start_time": "2021-10-27T04:29:06.630Z"
   },
   {
    "duration": -1440,
    "start_time": "2021-10-27T04:29:06.633Z"
   },
   {
    "duration": -1443,
    "start_time": "2021-10-27T04:29:06.637Z"
   },
   {
    "duration": -1445,
    "start_time": "2021-10-27T04:29:06.640Z"
   },
   {
    "duration": -1447,
    "start_time": "2021-10-27T04:29:06.643Z"
   },
   {
    "duration": -1450,
    "start_time": "2021-10-27T04:29:06.646Z"
   },
   {
    "duration": -1452,
    "start_time": "2021-10-27T04:29:06.649Z"
   },
   {
    "duration": -1455,
    "start_time": "2021-10-27T04:29:06.653Z"
   },
   {
    "duration": -1457,
    "start_time": "2021-10-27T04:29:06.656Z"
   },
   {
    "duration": -1459,
    "start_time": "2021-10-27T04:29:06.659Z"
   },
   {
    "duration": -1461,
    "start_time": "2021-10-27T04:29:06.662Z"
   },
   {
    "duration": -1463,
    "start_time": "2021-10-27T04:29:06.665Z"
   },
   {
    "duration": -1465,
    "start_time": "2021-10-27T04:29:06.668Z"
   },
   {
    "duration": -1467,
    "start_time": "2021-10-27T04:29:06.671Z"
   },
   {
    "duration": -1470,
    "start_time": "2021-10-27T04:29:06.675Z"
   },
   {
    "duration": -1477,
    "start_time": "2021-10-27T04:29:06.682Z"
   },
   {
    "duration": -1481,
    "start_time": "2021-10-27T04:29:06.687Z"
   },
   {
    "duration": -1484,
    "start_time": "2021-10-27T04:29:06.691Z"
   },
   {
    "duration": 330,
    "start_time": "2021-10-27T04:30:18.445Z"
   },
   {
    "duration": 43,
    "start_time": "2021-10-27T04:30:43.975Z"
   },
   {
    "duration": 19,
    "start_time": "2021-10-27T04:31:59.743Z"
   },
   {
    "duration": 24,
    "start_time": "2021-10-27T04:32:50.273Z"
   },
   {
    "duration": 6,
    "start_time": "2021-10-27T04:34:39.881Z"
   },
   {
    "duration": 5,
    "start_time": "2021-10-27T04:34:44.483Z"
   },
   {
    "duration": 13,
    "start_time": "2021-10-27T04:34:46.174Z"
   },
   {
    "duration": 5,
    "start_time": "2021-10-27T04:34:53.312Z"
   },
   {
    "duration": 13,
    "start_time": "2021-10-27T04:34:54.263Z"
   },
   {
    "duration": 6,
    "start_time": "2021-10-27T04:34:55.902Z"
   },
   {
    "duration": 5,
    "start_time": "2021-10-27T04:34:56.923Z"
   },
   {
    "duration": 17,
    "start_time": "2021-10-27T04:35:23.503Z"
   },
   {
    "duration": 5,
    "start_time": "2021-10-27T04:36:29.423Z"
   },
   {
    "duration": 14,
    "start_time": "2021-10-27T04:36:45.306Z"
   },
   {
    "duration": 12,
    "start_time": "2021-10-27T04:36:59.785Z"
   },
   {
    "duration": 4,
    "start_time": "2021-10-27T04:37:09.103Z"
   },
   {
    "duration": 5,
    "start_time": "2021-10-27T04:37:13.784Z"
   },
   {
    "duration": 4,
    "start_time": "2021-10-27T04:37:15.773Z"
   },
   {
    "duration": 14,
    "start_time": "2021-10-27T04:37:17.153Z"
   },
   {
    "duration": 6,
    "start_time": "2021-10-27T04:37:44.263Z"
   },
   {
    "duration": 13,
    "start_time": "2021-10-27T04:37:46.792Z"
   },
   {
    "duration": 5,
    "start_time": "2021-10-27T04:38:32.773Z"
   },
   {
    "duration": 13,
    "start_time": "2021-10-27T04:38:34.696Z"
   },
   {
    "duration": 5,
    "start_time": "2021-10-27T04:38:41.452Z"
   },
   {
    "duration": 14,
    "start_time": "2021-10-27T04:38:42.715Z"
   },
   {
    "duration": 5,
    "start_time": "2021-10-27T04:39:12.844Z"
   },
   {
    "duration": 12,
    "start_time": "2021-10-27T04:39:16.316Z"
   },
   {
    "duration": 6,
    "start_time": "2021-10-27T04:39:29.465Z"
   },
   {
    "duration": 12,
    "start_time": "2021-10-27T04:39:30.516Z"
   },
   {
    "duration": 5,
    "start_time": "2021-10-27T04:39:33.075Z"
   },
   {
    "duration": 12,
    "start_time": "2021-10-27T04:39:35.415Z"
   },
   {
    "duration": 15,
    "start_time": "2021-10-27T04:39:44.435Z"
   },
   {
    "duration": 7,
    "start_time": "2021-10-27T04:40:17.326Z"
   },
   {
    "duration": 12,
    "start_time": "2021-10-27T04:40:18.405Z"
   },
   {
    "duration": 6,
    "start_time": "2021-10-27T04:41:24.874Z"
   },
   {
    "duration": 13,
    "start_time": "2021-10-27T04:41:35.186Z"
   },
   {
    "duration": 4,
    "start_time": "2021-10-27T04:41:47.425Z"
   },
   {
    "duration": 14,
    "start_time": "2021-10-27T04:41:48.245Z"
   },
   {
    "duration": 4,
    "start_time": "2021-10-27T04:41:50.533Z"
   },
   {
    "duration": 13,
    "start_time": "2021-10-27T04:41:51.535Z"
   },
   {
    "duration": 15,
    "start_time": "2021-10-27T04:41:59.195Z"
   },
   {
    "duration": 14,
    "start_time": "2021-10-27T04:42:00.457Z"
   },
   {
    "duration": 19,
    "start_time": "2021-10-27T04:42:01.675Z"
   },
   {
    "duration": 6,
    "start_time": "2021-10-27T04:42:41.935Z"
   },
   {
    "duration": 13,
    "start_time": "2021-10-27T04:42:42.985Z"
   },
   {
    "duration": 4,
    "start_time": "2021-10-27T04:43:23.982Z"
   },
   {
    "duration": 13,
    "start_time": "2021-10-27T04:43:28.149Z"
   },
   {
    "duration": 17,
    "start_time": "2021-10-27T04:43:49.983Z"
   },
   {
    "duration": 6,
    "start_time": "2021-10-27T04:44:27.852Z"
   },
   {
    "duration": 4,
    "start_time": "2021-10-27T04:44:28.440Z"
   },
   {
    "duration": 13,
    "start_time": "2021-10-27T04:44:29.308Z"
   },
   {
    "duration": 4,
    "start_time": "2021-10-27T04:44:39.711Z"
   },
   {
    "duration": 13,
    "start_time": "2021-10-27T04:44:41.319Z"
   },
   {
    "duration": 9,
    "start_time": "2021-10-27T04:44:41.334Z"
   },
   {
    "duration": 13,
    "start_time": "2021-10-27T04:44:43.051Z"
   },
   {
    "duration": 5,
    "start_time": "2021-10-27T04:44:53.603Z"
   },
   {
    "duration": 12,
    "start_time": "2021-10-27T04:44:54.402Z"
   },
   {
    "duration": 22,
    "start_time": "2021-10-27T04:44:55.461Z"
   },
   {
    "duration": 22,
    "start_time": "2021-10-27T04:48:05.791Z"
   },
   {
    "duration": 15,
    "start_time": "2021-10-27T04:48:12.701Z"
   },
   {
    "duration": 6,
    "start_time": "2021-10-27T04:48:14.663Z"
   },
   {
    "duration": 3,
    "start_time": "2021-10-27T04:48:15.591Z"
   },
   {
    "duration": 1402,
    "start_time": "2021-10-27T04:48:37.033Z"
   },
   {
    "duration": 14,
    "start_time": "2021-10-27T04:48:39.858Z"
   },
   {
    "duration": 4,
    "start_time": "2021-10-27T04:48:49.070Z"
   },
   {
    "duration": 703,
    "start_time": "2021-10-27T04:49:03.221Z"
   },
   {
    "duration": 7,
    "start_time": "2021-10-27T04:49:04.761Z"
   },
   {
    "duration": 13,
    "start_time": "2021-10-27T04:49:06.003Z"
   },
   {
    "duration": 227,
    "start_time": "2021-10-27T04:49:27.212Z"
   },
   {
    "duration": 229,
    "start_time": "2021-10-27T04:49:27.442Z"
   },
   {
    "duration": 229,
    "start_time": "2021-10-27T04:49:27.676Z"
   },
   {
    "duration": 192,
    "start_time": "2021-10-27T04:49:27.907Z"
   },
   {
    "duration": 183,
    "start_time": "2021-10-27T04:49:28.101Z"
   },
   {
    "duration": 9,
    "start_time": "2021-10-27T04:49:28.286Z"
   },
   {
    "duration": 166,
    "start_time": "2021-10-27T04:49:28.296Z"
   },
   {
    "duration": 162,
    "start_time": "2021-10-27T04:49:28.465Z"
   },
   {
    "duration": 14,
    "start_time": "2021-10-27T04:49:28.630Z"
   },
   {
    "duration": 9,
    "start_time": "2021-10-27T04:49:28.646Z"
   },
   {
    "duration": 162,
    "start_time": "2021-10-27T04:49:28.657Z"
   },
   {
    "duration": 147,
    "start_time": "2021-10-27T04:49:28.821Z"
   },
   {
    "duration": 19,
    "start_time": "2021-10-27T04:49:28.970Z"
   },
   {
    "duration": 12,
    "start_time": "2021-10-27T04:49:28.991Z"
   },
   {
    "duration": 165,
    "start_time": "2021-10-27T04:49:29.004Z"
   },
   {
    "duration": 160,
    "start_time": "2021-10-27T04:49:29.170Z"
   },
   {
    "duration": 10,
    "start_time": "2021-10-27T04:49:29.332Z"
   },
   {
    "duration": 140,
    "start_time": "2021-10-27T04:49:29.344Z"
   },
   {
    "duration": 139,
    "start_time": "2021-10-27T04:49:29.485Z"
   },
   {
    "duration": 11,
    "start_time": "2021-10-27T04:49:29.626Z"
   },
   {
    "duration": 261,
    "start_time": "2021-10-27T04:49:29.638Z"
   },
   {
    "duration": 183,
    "start_time": "2021-10-27T04:49:29.901Z"
   },
   {
    "duration": 197,
    "start_time": "2021-10-27T04:49:30.086Z"
   },
   {
    "duration": 193,
    "start_time": "2021-10-27T04:49:30.285Z"
   },
   {
    "duration": 187,
    "start_time": "2021-10-27T04:49:30.480Z"
   },
   {
    "duration": 247,
    "start_time": "2021-10-27T04:49:30.676Z"
   },
   {
    "duration": 8,
    "start_time": "2021-10-27T04:49:30.927Z"
   },
   {
    "duration": 11,
    "start_time": "2021-10-27T04:49:30.937Z"
   },
   {
    "duration": 194,
    "start_time": "2021-10-27T04:49:30.950Z"
   },
   {
    "duration": 7,
    "start_time": "2021-10-27T04:49:31.146Z"
   },
   {
    "duration": 193,
    "start_time": "2021-10-27T04:49:31.155Z"
   },
   {
    "duration": 245,
    "start_time": "2021-10-27T04:49:31.350Z"
   },
   {
    "duration": 9,
    "start_time": "2021-10-27T04:49:31.597Z"
   },
   {
    "duration": 13,
    "start_time": "2021-10-27T04:49:31.607Z"
   },
   {
    "duration": 556,
    "start_time": "2021-10-27T04:49:31.622Z"
   },
   {
    "duration": 727,
    "start_time": "2021-10-27T04:49:32.180Z"
   },
   {
    "duration": 539,
    "start_time": "2021-10-27T04:49:32.909Z"
   },
   {
    "duration": 518,
    "start_time": "2021-10-27T04:49:33.450Z"
   },
   {
    "duration": 716,
    "start_time": "2021-10-27T04:49:33.970Z"
   },
   {
    "duration": 175,
    "start_time": "2021-10-27T04:51:13.222Z"
   },
   {
    "duration": 173,
    "start_time": "2021-10-27T04:51:26.463Z"
   },
   {
    "duration": 173,
    "start_time": "2021-10-27T04:51:37.191Z"
   },
   {
    "duration": 274,
    "start_time": "2021-10-27T04:51:48.212Z"
   },
   {
    "duration": 190,
    "start_time": "2021-10-27T04:51:57.433Z"
   },
   {
    "duration": 506,
    "start_time": "2021-10-27T04:53:31.423Z"
   },
   {
    "duration": 175,
    "start_time": "2021-10-27T04:53:49.523Z"
   },
   {
    "duration": 173,
    "start_time": "2021-10-27T04:53:59.383Z"
   },
   {
    "duration": 172,
    "start_time": "2021-10-27T04:54:23.721Z"
   },
   {
    "duration": 185,
    "start_time": "2021-10-27T04:54:41.571Z"
   },
   {
    "duration": 175,
    "start_time": "2021-10-27T04:55:06.343Z"
   },
   {
    "duration": 226,
    "start_time": "2021-10-27T04:55:18.794Z"
   },
   {
    "duration": 136,
    "start_time": "2021-10-27T04:56:33.903Z"
   },
   {
    "duration": 136,
    "start_time": "2021-10-27T04:56:50.784Z"
   },
   {
    "duration": 125,
    "start_time": "2021-10-27T04:57:04.272Z"
   },
   {
    "duration": 133,
    "start_time": "2021-10-27T04:57:12.433Z"
   },
   {
    "duration": 143,
    "start_time": "2021-10-27T04:57:22.461Z"
   },
   {
    "duration": 138,
    "start_time": "2021-10-27T04:57:29.933Z"
   },
   {
    "duration": 231,
    "start_time": "2021-10-27T04:57:37.612Z"
   },
   {
    "duration": 130,
    "start_time": "2021-10-27T04:57:45.882Z"
   },
   {
    "duration": 181,
    "start_time": "2021-10-27T04:58:18.312Z"
   },
   {
    "duration": 164,
    "start_time": "2021-10-27T04:58:35.953Z"
   },
   {
    "duration": 183,
    "start_time": "2021-10-27T04:58:51.982Z"
   },
   {
    "duration": 175,
    "start_time": "2021-10-27T04:59:05.213Z"
   },
   {
    "duration": 164,
    "start_time": "2021-10-27T04:59:18.263Z"
   },
   {
    "duration": 244,
    "start_time": "2021-10-27T04:59:46.913Z"
   },
   {
    "duration": 173,
    "start_time": "2021-10-27T05:00:00.573Z"
   },
   {
    "duration": 170,
    "start_time": "2021-10-27T05:00:11.623Z"
   },
   {
    "duration": 191,
    "start_time": "2021-10-27T05:02:41.768Z"
   },
   {
    "duration": 177,
    "start_time": "2021-10-27T05:02:53.431Z"
   },
   {
    "duration": 229,
    "start_time": "2021-10-27T05:07:41.840Z"
   },
   {
    "duration": 344,
    "start_time": "2021-10-27T05:13:11.799Z"
   },
   {
    "duration": 529,
    "start_time": "2021-10-27T05:14:23.820Z"
   },
   {
    "duration": 526,
    "start_time": "2021-10-27T05:14:36.820Z"
   },
   {
    "duration": 919,
    "start_time": "2021-10-27T07:07:40.385Z"
   },
   {
    "duration": 134,
    "start_time": "2021-10-27T07:07:41.307Z"
   },
   {
    "duration": 23,
    "start_time": "2021-10-27T07:07:41.444Z"
   },
   {
    "duration": 26,
    "start_time": "2021-10-27T07:07:41.483Z"
   },
   {
    "duration": 79,
    "start_time": "2021-10-27T07:07:41.511Z"
   },
   {
    "duration": 23,
    "start_time": "2021-10-27T07:07:41.592Z"
   },
   {
    "duration": 32,
    "start_time": "2021-10-27T07:07:41.617Z"
   },
   {
    "duration": 32,
    "start_time": "2021-10-27T07:07:41.651Z"
   },
   {
    "duration": 21,
    "start_time": "2021-10-27T07:07:41.688Z"
   },
   {
    "duration": 9,
    "start_time": "2021-10-27T07:07:41.713Z"
   },
   {
    "duration": 19,
    "start_time": "2021-10-27T07:07:41.725Z"
   },
   {
    "duration": 55,
    "start_time": "2021-10-27T07:07:41.747Z"
   },
   {
    "duration": 11,
    "start_time": "2021-10-27T07:07:41.805Z"
   },
   {
    "duration": 32,
    "start_time": "2021-10-27T07:07:41.818Z"
   },
   {
    "duration": 33,
    "start_time": "2021-10-27T07:07:41.854Z"
   },
   {
    "duration": 7,
    "start_time": "2021-10-27T07:07:41.890Z"
   },
   {
    "duration": 30,
    "start_time": "2021-10-27T07:07:41.900Z"
   },
   {
    "duration": 13,
    "start_time": "2021-10-27T07:07:41.933Z"
   },
   {
    "duration": 59,
    "start_time": "2021-10-27T07:07:41.949Z"
   },
   {
    "duration": 8,
    "start_time": "2021-10-27T07:07:42.010Z"
   },
   {
    "duration": 21,
    "start_time": "2021-10-27T07:07:42.020Z"
   },
   {
    "duration": 50,
    "start_time": "2021-10-27T07:07:42.043Z"
   },
   {
    "duration": 19,
    "start_time": "2021-10-27T07:07:42.096Z"
   },
   {
    "duration": 27,
    "start_time": "2021-10-27T07:07:42.117Z"
   },
   {
    "duration": 53,
    "start_time": "2021-10-27T07:07:42.146Z"
   },
   {
    "duration": 21,
    "start_time": "2021-10-27T07:07:42.202Z"
   },
   {
    "duration": 13,
    "start_time": "2021-10-27T07:07:42.230Z"
   },
   {
    "duration": 5,
    "start_time": "2021-10-27T07:07:42.247Z"
   },
   {
    "duration": 2254,
    "start_time": "2021-10-27T07:07:42.254Z"
   },
   {
    "duration": 23,
    "start_time": "2021-10-27T07:07:44.510Z"
   },
   {
    "duration": 5,
    "start_time": "2021-10-27T07:07:44.535Z"
   },
   {
    "duration": 1251,
    "start_time": "2021-10-27T07:07:44.543Z"
   },
   {
    "duration": 8,
    "start_time": "2021-10-27T07:07:45.796Z"
   },
   {
    "duration": 24,
    "start_time": "2021-10-27T07:07:45.807Z"
   },
   {
    "duration": 367,
    "start_time": "2021-10-27T07:07:45.833Z"
   },
   {
    "duration": 321,
    "start_time": "2021-10-27T07:07:46.203Z"
   },
   {
    "duration": 387,
    "start_time": "2021-10-27T07:07:46.527Z"
   },
   {
    "duration": 328,
    "start_time": "2021-10-27T07:07:46.916Z"
   },
   {
    "duration": 338,
    "start_time": "2021-10-27T07:07:47.247Z"
   },
   {
    "duration": 12,
    "start_time": "2021-10-27T07:07:47.587Z"
   },
   {
    "duration": 260,
    "start_time": "2021-10-27T07:07:47.601Z"
   },
   {
    "duration": 346,
    "start_time": "2021-10-27T07:07:47.864Z"
   },
   {
    "duration": 17,
    "start_time": "2021-10-27T07:07:48.212Z"
   },
   {
    "duration": 12,
    "start_time": "2021-10-27T07:07:48.232Z"
   },
   {
    "duration": 238,
    "start_time": "2021-10-27T07:07:48.247Z"
   },
   {
    "duration": 236,
    "start_time": "2021-10-27T07:07:48.488Z"
   },
   {
    "duration": 18,
    "start_time": "2021-10-27T07:07:48.727Z"
   },
   {
    "duration": 37,
    "start_time": "2021-10-27T07:07:48.747Z"
   },
   {
    "duration": 243,
    "start_time": "2021-10-27T07:07:48.786Z"
   },
   {
    "duration": 234,
    "start_time": "2021-10-27T07:07:49.032Z"
   },
   {
    "duration": 24,
    "start_time": "2021-10-27T07:07:49.268Z"
   },
   {
    "duration": 216,
    "start_time": "2021-10-27T07:07:49.294Z"
   },
   {
    "duration": 222,
    "start_time": "2021-10-27T07:07:49.512Z"
   },
   {
    "duration": 16,
    "start_time": "2021-10-27T07:07:49.737Z"
   },
   {
    "duration": 499,
    "start_time": "2021-10-27T07:07:49.755Z"
   },
   {
    "duration": 295,
    "start_time": "2021-10-27T07:07:50.257Z"
   },
   {
    "duration": 329,
    "start_time": "2021-10-27T07:07:50.555Z"
   },
   {
    "duration": 327,
    "start_time": "2021-10-27T07:07:50.887Z"
   },
   {
    "duration": 308,
    "start_time": "2021-10-27T07:07:51.217Z"
   },
   {
    "duration": 308,
    "start_time": "2021-10-27T07:07:51.528Z"
   },
   {
    "duration": 17,
    "start_time": "2021-10-27T07:07:51.839Z"
   },
   {
    "duration": 635,
    "start_time": "2021-10-27T07:07:51.859Z"
   },
   {
    "duration": 18,
    "start_time": "2021-10-27T07:07:52.497Z"
   },
   {
    "duration": 13,
    "start_time": "2021-10-27T07:07:52.517Z"
   },
   {
    "duration": 1158,
    "start_time": "2021-10-27T07:07:52.532Z"
   },
   {
    "duration": 993,
    "start_time": "2021-10-27T07:07:53.692Z"
   },
   {
    "duration": 1106,
    "start_time": "2021-10-27T07:07:54.688Z"
   },
   {
    "duration": 868,
    "start_time": "2021-10-27T07:07:55.797Z"
   },
   {
    "duration": 1190,
    "start_time": "2021-10-27T07:07:56.668Z"
   },
   {
    "duration": 840,
    "start_time": "2021-10-27T07:09:22.339Z"
   },
   {
    "duration": 904,
    "start_time": "2021-10-27T07:09:40.418Z"
   },
   {
    "duration": 1234,
    "start_time": "2021-10-27T07:10:05.220Z"
   },
   {
    "duration": 405,
    "start_time": "2021-10-27T07:10:30.150Z"
   },
   {
    "duration": 810,
    "start_time": "2021-10-27T07:11:22.838Z"
   },
   {
    "duration": 374,
    "start_time": "2021-10-27T07:13:58.574Z"
   },
   {
    "duration": 308,
    "start_time": "2021-10-27T07:14:29.469Z"
   },
   {
    "duration": 302,
    "start_time": "2021-10-27T07:14:49.120Z"
   },
   {
    "duration": 304,
    "start_time": "2021-10-27T07:15:13.660Z"
   },
   {
    "duration": 294,
    "start_time": "2021-10-27T07:15:31.850Z"
   },
   {
    "duration": 228,
    "start_time": "2021-10-27T07:16:36.200Z"
   },
   {
    "duration": 366,
    "start_time": "2021-10-27T07:16:41.150Z"
   },
   {
    "duration": 368,
    "start_time": "2021-10-27T07:17:01.588Z"
   },
   {
    "duration": 205,
    "start_time": "2021-10-27T07:17:22.230Z"
   },
   {
    "duration": 209,
    "start_time": "2021-10-27T07:17:48.948Z"
   },
   {
    "duration": 205,
    "start_time": "2021-10-27T07:18:07.570Z"
   },
   {
    "duration": 348,
    "start_time": "2021-10-27T07:18:15.060Z"
   },
   {
    "duration": 209,
    "start_time": "2021-10-27T07:18:32.610Z"
   },
   {
    "duration": 355,
    "start_time": "2021-10-27T07:18:48.340Z"
   },
   {
    "duration": 227,
    "start_time": "2021-10-27T07:18:57.299Z"
   },
   {
    "duration": 12,
    "start_time": "2021-10-27T07:19:10.230Z"
   },
   {
    "duration": 205,
    "start_time": "2021-10-27T07:19:15.650Z"
   },
   {
    "duration": 4,
    "start_time": "2021-10-27T07:19:38.612Z"
   },
   {
    "duration": 232,
    "start_time": "2021-10-27T07:19:38.619Z"
   },
   {
    "duration": 47,
    "start_time": "2021-10-27T07:19:38.855Z"
   },
   {
    "duration": 91,
    "start_time": "2021-10-27T07:19:38.906Z"
   },
   {
    "duration": 57,
    "start_time": "2021-10-27T07:19:39.000Z"
   },
   {
    "duration": 39,
    "start_time": "2021-10-27T07:19:39.060Z"
   },
   {
    "duration": 25,
    "start_time": "2021-10-27T07:19:39.102Z"
   },
   {
    "duration": 7,
    "start_time": "2021-10-27T07:19:39.130Z"
   },
   {
    "duration": 20,
    "start_time": "2021-10-27T07:19:39.184Z"
   },
   {
    "duration": 8,
    "start_time": "2021-10-27T07:19:39.207Z"
   },
   {
    "duration": 5,
    "start_time": "2021-10-27T07:19:39.218Z"
   },
   {
    "duration": 57,
    "start_time": "2021-10-27T07:19:39.225Z"
   },
   {
    "duration": 8,
    "start_time": "2021-10-27T07:19:39.284Z"
   },
   {
    "duration": 26,
    "start_time": "2021-10-27T07:19:39.294Z"
   },
   {
    "duration": 7,
    "start_time": "2021-10-27T07:19:39.322Z"
   },
   {
    "duration": 4,
    "start_time": "2021-10-27T07:19:39.332Z"
   },
   {
    "duration": 67,
    "start_time": "2021-10-27T07:19:39.338Z"
   },
   {
    "duration": 5,
    "start_time": "2021-10-27T07:19:39.407Z"
   },
   {
    "duration": 20,
    "start_time": "2021-10-27T07:19:39.415Z"
   },
   {
    "duration": 45,
    "start_time": "2021-10-27T07:19:39.437Z"
   },
   {
    "duration": 27,
    "start_time": "2021-10-27T07:19:39.485Z"
   },
   {
    "duration": 18,
    "start_time": "2021-10-27T07:19:39.514Z"
   },
   {
    "duration": 21,
    "start_time": "2021-10-27T07:19:39.534Z"
   },
   {
    "duration": 51,
    "start_time": "2021-10-27T07:19:39.581Z"
   },
   {
    "duration": 61,
    "start_time": "2021-10-27T07:19:39.636Z"
   },
   {
    "duration": 87,
    "start_time": "2021-10-27T07:19:39.707Z"
   },
   {
    "duration": 6,
    "start_time": "2021-10-27T07:19:39.799Z"
   },
   {
    "duration": 6,
    "start_time": "2021-10-27T07:19:39.809Z"
   },
   {
    "duration": 4154,
    "start_time": "2021-10-27T07:19:39.818Z"
   },
   {
    "duration": 53,
    "start_time": "2021-10-27T07:19:43.975Z"
   },
   {
    "duration": 19,
    "start_time": "2021-10-27T07:19:44.031Z"
   },
   {
    "duration": 1187,
    "start_time": "2021-10-27T07:19:44.052Z"
   },
   {
    "duration": 8,
    "start_time": "2021-10-27T07:19:45.241Z"
   },
   {
    "duration": 44,
    "start_time": "2021-10-27T07:19:45.251Z"
   },
   {
    "duration": 314,
    "start_time": "2021-10-27T07:19:45.297Z"
   },
   {
    "duration": 352,
    "start_time": "2021-10-27T07:19:45.613Z"
   },
   {
    "duration": 335,
    "start_time": "2021-10-27T07:19:45.967Z"
   },
   {
    "duration": 333,
    "start_time": "2021-10-27T07:19:46.304Z"
   },
   {
    "duration": 390,
    "start_time": "2021-10-27T07:19:46.639Z"
   },
   {
    "duration": 12,
    "start_time": "2021-10-27T07:19:47.032Z"
   },
   {
    "duration": 255,
    "start_time": "2021-10-27T07:19:47.047Z"
   },
   {
    "duration": 256,
    "start_time": "2021-10-27T07:19:47.305Z"
   },
   {
    "duration": 25,
    "start_time": "2021-10-27T07:19:47.563Z"
   },
   {
    "duration": 12,
    "start_time": "2021-10-27T07:19:47.590Z"
   },
   {
    "duration": 235,
    "start_time": "2021-10-27T07:19:47.605Z"
   },
   {
    "duration": 203,
    "start_time": "2021-10-27T07:19:58.230Z"
   },
   {
    "duration": 364,
    "start_time": "2021-10-27T07:20:43.702Z"
   },
   {
    "duration": 236,
    "start_time": "2021-10-27T07:21:00.360Z"
   },
   {
    "duration": 20,
    "start_time": "2021-10-27T07:21:07.891Z"
   },
   {
    "duration": 13,
    "start_time": "2021-10-27T07:21:08.581Z"
   },
   {
    "duration": 216,
    "start_time": "2021-10-27T07:21:17.151Z"
   },
   {
    "duration": 214,
    "start_time": "2021-10-27T07:21:32.000Z"
   },
   {
    "duration": 17,
    "start_time": "2021-10-27T07:21:38.711Z"
   },
   {
    "duration": 14,
    "start_time": "2021-10-27T07:21:39.332Z"
   },
   {
    "duration": 246,
    "start_time": "2021-10-27T07:21:49.951Z"
   },
   {
    "duration": 244,
    "start_time": "2021-10-27T07:22:04.041Z"
   },
   {
    "duration": 18,
    "start_time": "2021-10-27T07:22:11.192Z"
   },
   {
    "duration": 288,
    "start_time": "2021-10-27T07:22:11.901Z"
   },
   {
    "duration": 212,
    "start_time": "2021-10-27T07:22:25.652Z"
   },
   {
    "duration": 273,
    "start_time": "2021-10-27T07:22:37.283Z"
   },
   {
    "duration": 500,
    "start_time": "2021-10-27T07:23:16.843Z"
   },
   {
    "duration": 445,
    "start_time": "2021-10-27T07:23:34.642Z"
   },
   {
    "duration": 456,
    "start_time": "2021-10-27T07:24:01.882Z"
   },
   {
    "duration": 430,
    "start_time": "2021-10-27T07:24:20.972Z"
   },
   {
    "duration": 307,
    "start_time": "2021-10-27T07:24:39.963Z"
   },
   {
    "duration": 298,
    "start_time": "2021-10-27T07:25:48.132Z"
   },
   {
    "duration": 303,
    "start_time": "2021-10-27T07:27:12.342Z"
   },
   {
    "duration": 15,
    "start_time": "2021-10-27T07:27:23.033Z"
   },
   {
    "duration": 414,
    "start_time": "2021-10-27T07:28:19.678Z"
   },
   {
    "duration": 77,
    "start_time": "2021-10-27T07:33:16.581Z"
   },
   {
    "duration": 932,
    "start_time": "2021-10-27T07:33:36.818Z"
   },
   {
    "duration": 577,
    "start_time": "2021-10-27T07:34:58.511Z"
   },
   {
    "duration": 373,
    "start_time": "2021-10-27T07:35:28.628Z"
   },
   {
    "duration": 1286,
    "start_time": "2021-10-27T07:35:41.109Z"
   },
   {
    "duration": 1230,
    "start_time": "2021-10-27T08:06:21.038Z"
   },
   {
    "duration": 1209,
    "start_time": "2021-10-27T08:07:05.010Z"
   },
   {
    "duration": 1214,
    "start_time": "2021-10-27T08:07:18.420Z"
   },
   {
    "duration": 1196,
    "start_time": "2021-10-27T08:08:00.891Z"
   },
   {
    "duration": 1201,
    "start_time": "2021-10-27T08:08:16.292Z"
   },
   {
    "duration": 1417,
    "start_time": "2021-10-27T08:08:31.781Z"
   },
   {
    "duration": 1294,
    "start_time": "2021-10-27T08:08:44.349Z"
   },
   {
    "duration": 1580,
    "start_time": "2021-10-27T08:08:59.393Z"
   },
   {
    "duration": 144,
    "start_time": "2021-10-27T08:09:00.977Z"
   },
   {
    "duration": 24,
    "start_time": "2021-10-27T08:09:01.124Z"
   },
   {
    "duration": 48,
    "start_time": "2021-10-27T08:09:01.150Z"
   },
   {
    "duration": 62,
    "start_time": "2021-10-27T08:09:01.201Z"
   },
   {
    "duration": 32,
    "start_time": "2021-10-27T08:09:01.266Z"
   },
   {
    "duration": 27,
    "start_time": "2021-10-27T08:09:01.301Z"
   },
   {
    "duration": 9,
    "start_time": "2021-10-27T08:09:01.331Z"
   },
   {
    "duration": 52,
    "start_time": "2021-10-27T08:09:01.344Z"
   },
   {
    "duration": 14,
    "start_time": "2021-10-27T08:09:01.399Z"
   },
   {
    "duration": 18,
    "start_time": "2021-10-27T08:09:01.416Z"
   },
   {
    "duration": 26,
    "start_time": "2021-10-27T08:09:01.436Z"
   },
   {
    "duration": 44,
    "start_time": "2021-10-27T08:09:01.464Z"
   },
   {
    "duration": 38,
    "start_time": "2021-10-27T08:09:01.511Z"
   },
   {
    "duration": 24,
    "start_time": "2021-10-27T08:09:01.552Z"
   },
   {
    "duration": 16,
    "start_time": "2021-10-27T08:09:01.579Z"
   },
   {
    "duration": 31,
    "start_time": "2021-10-27T08:09:01.598Z"
   },
   {
    "duration": 16,
    "start_time": "2021-10-27T08:09:01.632Z"
   },
   {
    "duration": 40,
    "start_time": "2021-10-27T08:09:01.651Z"
   },
   {
    "duration": 22,
    "start_time": "2021-10-27T08:09:01.695Z"
   },
   {
    "duration": 39,
    "start_time": "2021-10-27T08:09:01.719Z"
   },
   {
    "duration": 149,
    "start_time": "2021-10-27T08:09:01.761Z"
   },
   {
    "duration": 31,
    "start_time": "2021-10-27T08:09:01.914Z"
   },
   {
    "duration": 62,
    "start_time": "2021-10-27T08:09:01.948Z"
   },
   {
    "duration": 40,
    "start_time": "2021-10-27T08:09:02.014Z"
   },
   {
    "duration": 53,
    "start_time": "2021-10-27T08:09:02.057Z"
   },
   {
    "duration": 20,
    "start_time": "2021-10-27T08:09:02.122Z"
   },
   {
    "duration": 6,
    "start_time": "2021-10-27T08:09:02.148Z"
   },
   {
    "duration": 2271,
    "start_time": "2021-10-27T08:09:02.156Z"
   },
   {
    "duration": 23,
    "start_time": "2021-10-27T08:09:04.429Z"
   },
   {
    "duration": 9,
    "start_time": "2021-10-27T08:09:04.455Z"
   },
   {
    "duration": 1394,
    "start_time": "2021-10-27T08:09:04.467Z"
   },
   {
    "duration": 9,
    "start_time": "2021-10-27T08:09:05.863Z"
   },
   {
    "duration": 33,
    "start_time": "2021-10-27T08:09:05.874Z"
   },
   {
    "duration": 342,
    "start_time": "2021-10-27T08:09:05.910Z"
   },
   {
    "duration": 315,
    "start_time": "2021-10-27T08:09:06.254Z"
   },
   {
    "duration": 319,
    "start_time": "2021-10-27T08:09:06.572Z"
   },
   {
    "duration": 320,
    "start_time": "2021-10-27T08:09:06.893Z"
   },
   {
    "duration": 306,
    "start_time": "2021-10-27T08:09:07.215Z"
   },
   {
    "duration": 12,
    "start_time": "2021-10-27T08:09:07.524Z"
   },
   {
    "duration": 337,
    "start_time": "2021-10-27T08:09:07.539Z"
   },
   {
    "duration": 264,
    "start_time": "2021-10-27T08:09:07.882Z"
   },
   {
    "duration": 17,
    "start_time": "2021-10-27T08:09:08.148Z"
   },
   {
    "duration": 28,
    "start_time": "2021-10-27T08:09:08.167Z"
   },
   {
    "duration": 244,
    "start_time": "2021-10-27T08:09:08.197Z"
   },
   {
    "duration": 231,
    "start_time": "2021-10-27T08:09:08.443Z"
   },
   {
    "duration": 23,
    "start_time": "2021-10-27T08:09:08.676Z"
   },
   {
    "duration": 13,
    "start_time": "2021-10-27T08:09:08.701Z"
   },
   {
    "duration": 266,
    "start_time": "2021-10-27T08:09:08.716Z"
   },
   {
    "duration": 249,
    "start_time": "2021-10-27T08:09:08.984Z"
   },
   {
    "duration": 15,
    "start_time": "2021-10-27T08:09:09.235Z"
   },
   {
    "duration": 238,
    "start_time": "2021-10-27T08:09:09.253Z"
   },
   {
    "duration": 230,
    "start_time": "2021-10-27T08:09:09.493Z"
   },
   {
    "duration": 18,
    "start_time": "2021-10-27T08:09:09.725Z"
   },
   {
    "duration": 348,
    "start_time": "2021-10-27T08:09:09.745Z"
   },
   {
    "duration": 294,
    "start_time": "2021-10-27T08:09:10.096Z"
   },
   {
    "duration": 324,
    "start_time": "2021-10-27T08:09:10.392Z"
   },
   {
    "duration": 397,
    "start_time": "2021-10-27T08:09:10.718Z"
   },
   {
    "duration": 293,
    "start_time": "2021-10-27T08:09:11.118Z"
   },
   {
    "duration": 316,
    "start_time": "2021-10-27T08:09:11.414Z"
   },
   {
    "duration": 15,
    "start_time": "2021-10-27T08:09:11.733Z"
   },
   {
    "duration": 548,
    "start_time": "2021-10-27T08:09:11.752Z"
   },
   {
    "duration": 14,
    "start_time": "2021-10-27T08:09:12.303Z"
   },
   {
    "duration": 16,
    "start_time": "2021-10-27T08:09:12.320Z"
   },
   {
    "duration": 914,
    "start_time": "2021-10-27T08:09:12.339Z"
   },
   {
    "duration": 884,
    "start_time": "2021-10-27T08:09:13.256Z"
   },
   {
    "duration": 885,
    "start_time": "2021-10-27T08:09:14.143Z"
   },
   {
    "duration": 98,
    "start_time": "2021-10-27T08:09:15.031Z"
   },
   {
    "duration": 1336,
    "start_time": "2021-10-27T08:09:15.131Z"
   },
   {
    "duration": 857,
    "start_time": "2021-10-27T08:09:16.469Z"
   },
   {
    "duration": 1233,
    "start_time": "2021-10-27T08:09:17.329Z"
   },
   {
    "duration": 1290,
    "start_time": "2021-10-27T08:10:23.895Z"
   },
   {
    "duration": 1240,
    "start_time": "2021-10-27T08:11:34.735Z"
   },
   {
    "duration": 1748,
    "start_time": "2021-10-27T08:12:06.026Z"
   },
   {
    "duration": 1345,
    "start_time": "2021-10-27T08:12:19.277Z"
   },
   {
    "duration": 881,
    "start_time": "2021-10-27T08:15:36.724Z"
   },
   {
    "duration": 972,
    "start_time": "2021-10-27T08:15:58.144Z"
   },
   {
    "duration": 1233,
    "start_time": "2021-10-27T08:16:46.173Z"
   },
   {
    "duration": 1612,
    "start_time": "2021-10-27T17:25:23.798Z"
   },
   {
    "duration": 144,
    "start_time": "2021-10-27T17:25:25.413Z"
   },
   {
    "duration": 23,
    "start_time": "2021-10-27T17:25:25.561Z"
   },
   {
    "duration": 45,
    "start_time": "2021-10-27T17:25:25.587Z"
   },
   {
    "duration": 57,
    "start_time": "2021-10-27T17:25:25.634Z"
   },
   {
    "duration": 56,
    "start_time": "2021-10-27T17:25:25.693Z"
   },
   {
    "duration": 30,
    "start_time": "2021-10-27T17:25:25.752Z"
   },
   {
    "duration": 7,
    "start_time": "2021-10-27T17:25:25.786Z"
   },
   {
    "duration": 36,
    "start_time": "2021-10-27T17:25:25.796Z"
   },
   {
    "duration": 8,
    "start_time": "2021-10-27T17:25:25.835Z"
   },
   {
    "duration": 7,
    "start_time": "2021-10-27T17:25:25.845Z"
   },
   {
    "duration": 67,
    "start_time": "2021-10-27T17:25:25.855Z"
   },
   {
    "duration": 14,
    "start_time": "2021-10-27T17:25:25.927Z"
   },
   {
    "duration": 21,
    "start_time": "2021-10-27T17:25:25.943Z"
   },
   {
    "duration": 9,
    "start_time": "2021-10-27T17:25:25.966Z"
   },
   {
    "duration": 5,
    "start_time": "2021-10-27T17:25:25.980Z"
   },
   {
    "duration": 33,
    "start_time": "2021-10-27T17:25:26.023Z"
   },
   {
    "duration": 9,
    "start_time": "2021-10-27T17:25:26.060Z"
   },
   {
    "duration": 25,
    "start_time": "2021-10-27T17:25:26.071Z"
   },
   {
    "duration": 8,
    "start_time": "2021-10-27T17:25:26.124Z"
   },
   {
    "duration": 25,
    "start_time": "2021-10-27T17:25:26.135Z"
   },
   {
    "duration": 19,
    "start_time": "2021-10-27T17:25:26.163Z"
   },
   {
    "duration": 50,
    "start_time": "2021-10-27T17:25:26.189Z"
   },
   {
    "duration": 31,
    "start_time": "2021-10-27T17:25:26.243Z"
   },
   {
    "duration": 62,
    "start_time": "2021-10-27T17:25:26.277Z"
   },
   {
    "duration": 21,
    "start_time": "2021-10-27T17:25:26.341Z"
   },
   {
    "duration": 4,
    "start_time": "2021-10-27T17:25:26.365Z"
   },
   {
    "duration": 6,
    "start_time": "2021-10-27T17:25:26.372Z"
   },
   {
    "duration": 2335,
    "start_time": "2021-10-27T17:25:26.380Z"
   },
   {
    "duration": 26,
    "start_time": "2021-10-27T17:25:28.718Z"
   },
   {
    "duration": 11,
    "start_time": "2021-10-27T17:25:28.746Z"
   },
   {
    "duration": 1388,
    "start_time": "2021-10-27T17:25:28.760Z"
   },
   {
    "duration": 12,
    "start_time": "2021-10-27T17:25:30.151Z"
   },
   {
    "duration": 24,
    "start_time": "2021-10-27T17:25:30.165Z"
   },
   {
    "duration": 352,
    "start_time": "2021-10-27T17:25:30.191Z"
   },
   {
    "duration": 351,
    "start_time": "2021-10-27T17:25:30.546Z"
   },
   {
    "duration": 377,
    "start_time": "2021-10-27T17:25:30.900Z"
   },
   {
    "duration": 356,
    "start_time": "2021-10-27T17:25:31.280Z"
   },
   {
    "duration": 314,
    "start_time": "2021-10-27T17:25:31.639Z"
   },
   {
    "duration": 13,
    "start_time": "2021-10-27T17:25:31.955Z"
   },
   {
    "duration": 346,
    "start_time": "2021-10-27T17:25:31.970Z"
   },
   {
    "duration": 263,
    "start_time": "2021-10-27T17:25:32.323Z"
   },
   {
    "duration": 18,
    "start_time": "2021-10-27T17:25:32.588Z"
   },
   {
    "duration": 31,
    "start_time": "2021-10-27T17:25:32.608Z"
   },
   {
    "duration": 255,
    "start_time": "2021-10-27T17:25:32.642Z"
   },
   {
    "duration": 245,
    "start_time": "2021-10-27T17:25:32.900Z"
   },
   {
    "duration": 24,
    "start_time": "2021-10-27T17:25:33.148Z"
   },
   {
    "duration": 14,
    "start_time": "2021-10-27T17:25:33.174Z"
   },
   {
    "duration": 303,
    "start_time": "2021-10-27T17:25:33.190Z"
   },
   {
    "duration": 280,
    "start_time": "2021-10-27T17:25:33.496Z"
   },
   {
    "duration": 15,
    "start_time": "2021-10-27T17:25:33.778Z"
   },
   {
    "duration": 253,
    "start_time": "2021-10-27T17:25:33.795Z"
   },
   {
    "duration": 247,
    "start_time": "2021-10-27T17:25:34.051Z"
   },
   {
    "duration": 25,
    "start_time": "2021-10-27T17:25:34.302Z"
   },
   {
    "duration": 354,
    "start_time": "2021-10-27T17:25:34.330Z"
   },
   {
    "duration": 319,
    "start_time": "2021-10-27T17:25:34.686Z"
   },
   {
    "duration": 332,
    "start_time": "2021-10-27T17:25:35.008Z"
   },
   {
    "duration": 415,
    "start_time": "2021-10-27T17:25:35.344Z"
   },
   {
    "duration": 309,
    "start_time": "2021-10-27T17:25:35.761Z"
   },
   {
    "duration": 333,
    "start_time": "2021-10-27T17:25:36.072Z"
   },
   {
    "duration": 16,
    "start_time": "2021-10-27T17:25:36.408Z"
   },
   {
    "duration": 443,
    "start_time": "2021-10-27T17:25:36.428Z"
   },
   {
    "duration": 13,
    "start_time": "2021-10-27T17:25:36.873Z"
   },
   {
    "duration": 35,
    "start_time": "2021-10-27T17:25:36.888Z"
   },
   {
    "duration": 1174,
    "start_time": "2021-10-27T17:25:36.926Z"
   },
   {
    "duration": 908,
    "start_time": "2021-10-27T17:25:38.103Z"
   },
   {
    "duration": 963,
    "start_time": "2021-10-27T17:25:39.013Z"
   },
   {
    "duration": 98,
    "start_time": "2021-10-27T17:25:39.983Z"
   },
   {
    "duration": 1477,
    "start_time": "2021-10-27T17:25:40.083Z"
   },
   {
    "duration": 1057,
    "start_time": "2021-10-27T17:25:41.563Z"
   },
   {
    "duration": 1341,
    "start_time": "2021-10-27T17:25:42.624Z"
   }
  ],
  "kernelspec": {
   "display_name": "Python 3 (ipykernel)",
   "language": "python",
   "name": "python3"
  },
  "language_info": {
   "codemirror_mode": {
    "name": "ipython",
    "version": 3
   },
   "file_extension": ".py",
   "mimetype": "text/x-python",
   "name": "python",
   "nbconvert_exporter": "python",
   "pygments_lexer": "ipython3",
   "version": "3.9.7"
  },
  "toc": {
   "base_numbering": 1,
   "nav_menu": {},
   "number_sections": true,
   "sideBar": true,
   "skip_h1_title": true,
   "title_cell": "Table of Contents",
   "title_sidebar": "Contents",
   "toc_cell": false,
   "toc_position": {},
   "toc_section_display": true,
   "toc_window_display": false
  }
 },
 "nbformat": 4,
 "nbformat_minor": 2
}
